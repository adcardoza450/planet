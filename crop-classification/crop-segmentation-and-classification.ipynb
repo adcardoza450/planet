{
 "cells": [
  {
   "cell_type": "code",
   "execution_count": 1,
   "metadata": {},
   "outputs": [
    {
     "data": {
      "text/markdown": [
       "# Crop Segmentation and Classification\n",
       "\n",
       "In this notebook project, we demonstrate and compare techniques for segmentation and classification of crops using Planet imagery. A metric will be established to quantify accuracy of crop classification and will be used to compare technique results.\n",
       "\n",
       "The notebooks, in order of operations, are:\n",
       "1. [Identify Datasets](datasets-identify.ipynb): Identify and store ground truth data, area of interest, and Planet scene.\n",
       "1. [Prepare Datasets](datasets-prepare.ipynb): Crop ground truth data and image to aoi.\n",
       "2. [KNN Segmentation](segment-knn.ipynb): Segment image into crop/non-crop regions. \n",
       "\n",
       "## Usage Notes\n",
       "\n",
       "This notebook project was developed in a Docker container. This [Dockerfile](Dockerfile) was used to build the image. Alternatively, anaconda environments can be used, to install the dependencies and build the environments using [`root.yml`](root.yml) and [`python2.yml`](python2.yml) (see Dockerfile for an example).\n"
      ],
      "text/plain": [
       "<IPython.core.display.Markdown object>"
      ]
     },
     "metadata": {},
     "output_type": "display_data"
    }
   ],
   "source": [
    "from IPython.display import display, Markdown\n",
    "\n",
    "with open('README.md', 'r') as fh:\n",
    "    content = fh.read()\n",
    "\n",
    "display(Markdown(content))"
   ]
  },
  {
   "cell_type": "code",
   "execution_count": null,
   "metadata": {
    "collapsed": true
   },
   "outputs": [],
   "source": []
  }
 ],
 "metadata": {
  "kernelspec": {
   "display_name": "Python 2",
   "language": "python",
   "name": "python2"
  },
  "language_info": {
   "codemirror_mode": {
    "name": "ipython",
    "version": 2
   },
   "file_extension": ".py",
   "mimetype": "text/x-python",
   "name": "python",
   "nbconvert_exporter": "python",
   "pygments_lexer": "ipython2",
   "version": "2.7.13"
  }
 },
 "nbformat": 4,
 "nbformat_minor": 2
}
