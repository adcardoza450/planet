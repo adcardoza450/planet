{
 "cells": [
  {
   "cell_type": "code",
   "execution_count": 1,
   "metadata": {},
   "outputs": [],
   "source": [
    "import json\n",
    "import logging\n",
    "import os\n",
    "from pathlib import Path\n",
    "\n",
    "import numpy as np"
   ]
  },
  {
   "cell_type": "code",
   "execution_count": 2,
   "metadata": {},
   "outputs": [],
   "source": [
    "def load_geojson(filename):\n",
    "    with open(filename, 'r') as f:\n",
    "        return json.load(f)\n",
    "\n",
    "def save_geojson(obj, path):\n",
    "    path.parent.mkdir(parents=True, exist_ok=True)\n",
    "    with open(path, \"w\") as f:\n",
    "        f.write(json.dumps(obj))"
   ]
  },
  {
   "cell_type": "code",
   "execution_count": 3,
   "metadata": {},
   "outputs": [],
   "source": [
    "# this file was prepared in the datasets-identify tutorial\n",
    "ground_truth_file = os.path.join('src', 'ground-truth.geojson')\n",
    "ground_truth = load_geojson(ground_truth_file)"
   ]
  },
  {
   "cell_type": "code",
   "execution_count": 4,
   "metadata": {},
   "outputs": [
    {
     "name": "stdout",
     "output_type": "stream",
     "text": [
      "991 out of 7429 features are field crops.\n"
     ]
    }
   ],
   "source": [
    "crop_ground_truth = [f for f in ground_truth\n",
    "                     if f['properties']['CLASS1'] == 'F']\n",
    "print('{} out of {} features are field crops.'\n",
    "      .format(len(crop_ground_truth),len(ground_truth)))"
   ]
  },
  {
   "cell_type": "code",
   "execution_count": 5,
   "metadata": {},
   "outputs": [],
   "source": [
    "field_type_names = {\n",
    "    1: 'cotton',\n",
    "    2: 'safflower',\n",
    "    3: 'flax',\n",
    "    4: 'hops',\n",
    "    5: 'sugar beets',\n",
    "    6: 'corn',\n",
    "    7: 'grain sorghum',\n",
    "    8: 'sudan',\n",
    "    9: 'castor beans',\n",
    "    10: 'beans',\n",
    "    11: 'misc field',\n",
    "    12: 'sunflowers',\n",
    "    13: 'hybrid sorghum/sudan',\n",
    "    14: 'millet',\n",
    "    15: 'sugar cane'\n",
    "}"
   ]
  },
  {
   "cell_type": "code",
   "execution_count": 6,
   "metadata": {},
   "outputs": [
    {
     "name": "stdout",
     "output_type": "stream",
     "text": [
      "946 out of 991 crop field features are categorized.\n"
     ]
    }
   ],
   "source": [
    "cat_crop_ground_truth = [f for f in crop_ground_truth\n",
    "                         if f['properties']['SUBCLASS1'] != '**']\n",
    "print('{} out of {} crop field features are categorized.'\n",
    "      .format(len(cat_crop_ground_truth),len(crop_ground_truth)))"
   ]
  },
  {
   "cell_type": "code",
   "execution_count": 7,
   "metadata": {},
   "outputs": [
    {
     "name": "stdout",
     "output_type": "stream",
     "text": [
      "subclasses and counts\n",
      "{\n",
      "    \"4\": 8,\n",
      "    \"12\": 14,\n",
      "    \"10\": 26,\n",
      "    \"13\": 4,\n",
      "    \"6\": 776,\n",
      "    \"2\": 65,\n",
      "    \"11\": 1,\n",
      "    \"8\": 35,\n",
      "    \"7\": 17\n",
      "}\n"
     ]
    }
   ],
   "source": [
    "# determine the subclasses in this set and counts\n",
    "subclasses_list = [field_geojson['properties']['SUBCLASS1']\n",
    "                   for field_geojson in cat_crop_ground_truth]\n",
    "\n",
    "subclasses = dict([int(x), subclasses_list.count(x)]\n",
    "                  for x in set(subclasses_list))\n",
    "print('subclasses and counts')\n",
    "print(json.dumps(subclasses, indent=4))"
   ]
  },
  {
   "cell_type": "code",
   "execution_count": 8,
   "metadata": {},
   "outputs": [],
   "source": [
    "# number of samples for each subclass\n",
    "num_samples = 5"
   ]
  },
  {
   "cell_type": "code",
   "execution_count": 9,
   "metadata": {},
   "outputs": [
    {
     "name": "stdout",
     "output_type": "stream",
     "text": [
      "filtered subclasses: [4, 12, 10, 6, 2, 8, 7]\n"
     ]
    }
   ],
   "source": [
    "# filter the subclasses to those with adequate number of features\n",
    "filt_subclasses = [subclass\n",
    "                   for (subclass, count) in subclasses.items()\n",
    "                   if count > num_samples]\n",
    "print('filtered subclasses: {}'.format(filt_subclasses))"
   ]
  },
  {
   "cell_type": "code",
   "execution_count": 10,
   "metadata": {},
   "outputs": [
    {
     "name": "stdout",
     "output_type": "stream",
     "text": [
      "filtered subclass names: ['hops', 'sunflowers', 'beans', 'corn', 'safflower', 'sudan', 'grain sorghum']\n"
     ]
    }
   ],
   "source": [
    "print(f'filtered subclass names: {[field_type_names[int(x)] for x in filt_subclasses]}')"
   ]
  },
  {
   "cell_type": "code",
   "execution_count": 11,
   "metadata": {},
   "outputs": [
    {
     "name": "stdout",
     "output_type": "stream",
     "text": [
      "filtered subclasses: ['12', '6', '10']\n"
     ]
    }
   ],
   "source": [
    "# lets focus on only 3 subclasses for now, comment to use all subclasses\n",
    "# filt_subclasses = filt_subclasses[:3]\n",
    "filt_subclasses = ['12', '6', '10']\n",
    "print(f'filtered subclasses: {filt_subclasses}')"
   ]
  },
  {
   "cell_type": "code",
   "execution_count": 12,
   "metadata": {},
   "outputs": [
    {
     "name": "stdout",
     "output_type": "stream",
     "text": [
      "15 sample field features\n"
     ]
    }
   ],
   "source": [
    "# create a list of sample features\n",
    "# first filter to features within a subclass, then randomly pick a sample of those features\n",
    "\n",
    "np.random.seed(0) # make random sampling repeatable\n",
    "\n",
    "def get_subclass(crop_geojson):\n",
    "    return crop_geojson['properties']['SUBCLASS1']\n",
    "\n",
    "sample_features = []\n",
    "for subclass in filt_subclasses:\n",
    "    subclass_features = [f for f in crop_ground_truth if get_subclass(f) == subclass]\n",
    "    sample_features.extend(np.random.choice(subclass_features, num_samples, replace=False))\n",
    "print('{} sample field features'.format(len(sample_features)))"
   ]
  },
  {
   "cell_type": "code",
   "execution_count": 13,
   "metadata": {},
   "outputs": [
    {
     "name": "stdout",
     "output_type": "stream",
     "text": [
      "wrote to data/run2/fields/28416.json\n",
      "wrote to data/run2/fields/25645.json\n",
      "wrote to data/run2/fields/24947.json\n",
      "wrote to data/run2/fields/29488.json\n",
      "wrote to data/run2/fields/20839.json\n",
      "wrote to data/run2/fields/36547.json\n",
      "wrote to data/run2/fields/38244.json\n",
      "wrote to data/run2/fields/20984.json\n",
      "wrote to data/run2/fields/37595.json\n",
      "wrote to data/run2/fields/36458.json\n",
      "wrote to data/run2/fields/8147.json\n",
      "wrote to data/run2/fields/2503.json\n",
      "wrote to data/run2/fields/9485.json\n",
      "wrote to data/run2/fields/140.json\n",
      "wrote to data/run2/fields/3846.json\n"
     ]
    }
   ],
   "source": [
    "def save_field_geojson(field_geojson, root):\n",
    "    filename = get_filename(field_geojson, root=root)\n",
    "    save_geojson(field_geojson, filename)\n",
    "    return filename\n",
    "\n",
    "def get_filename(field_geojson, root):\n",
    "    return Path(root, f'{field_geojson[\"id\"]}.json')\n",
    "\n",
    "def save_features(features, root):\n",
    "    for field_geojson in features:\n",
    "        geojson_filename = save_field_geojson(field_geojson, root=root)\n",
    "        print('wrote to {}'.format(geojson_filename))\n",
    "        \n",
    "save_features(sample_features, 'data/run2/fields')"
   ]
  },
  {
   "cell_type": "code",
   "execution_count": 14,
   "metadata": {},
   "outputs": [
    {
     "name": "stdout",
     "output_type": "stream",
     "text": [
      "wrote to data/fc_run2/src/fc.geojson\n"
     ]
    }
   ],
   "source": [
    "def featurecollection(features):\n",
    "    return {\n",
    "      \"type\": \"FeatureCollection\",\n",
    "      \"features\": features\n",
    "    }\n",
    "\n",
    "def save_featurecollection(features, filename):\n",
    "    filename = Path(filename)\n",
    "    fc = featurecollection(features)\n",
    "    save_geojson(fc, filename)\n",
    "    print(f'wrote to {filename}')\n",
    "    \n",
    "save_featurecollection(sample_features, 'data/fc_run2/src/fc.geojson')"
   ]
  },
  {
   "cell_type": "code",
   "execution_count": 15,
   "metadata": {},
   "outputs": [
    {
     "name": "stdout",
     "output_type": "stream",
     "text": [
      "wrote to data/run2/src/gtruth.geojson\n"
     ]
    }
   ],
   "source": [
    "save_featurecollection(ground_truth, 'data/run2/src/gtruth.geojson')"
   ]
  },
  {
   "cell_type": "code",
   "execution_count": null,
   "metadata": {},
   "outputs": [],
   "source": []
  }
 ],
 "metadata": {
  "kernelspec": {
   "display_name": "Python 3",
   "language": "python",
   "name": "python3"
  },
  "language_info": {
   "codemirror_mode": {
    "name": "ipython",
    "version": 3
   },
   "file_extension": ".py",
   "mimetype": "text/x-python",
   "name": "python",
   "nbconvert_exporter": "python",
   "pygments_lexer": "ipython3",
   "version": "3.7.8"
  }
 },
 "nbformat": 4,
 "nbformat_minor": 5
}
