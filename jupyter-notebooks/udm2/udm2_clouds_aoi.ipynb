{
 "cells": [
  {
   "cell_type": "markdown",
   "metadata": {},
   "source": [
    "# Usable Data Map (UDM2) Cloud Detection within an AOI"
   ]
  },
  {
   "cell_type": "markdown",
   "metadata": {},
   "source": [
    "This guide is a follow up to the [UDM2 Cloud Detection](udm2_clouds.ipynb) notebook. Please refer to that notebook for further details on specifications and usage of the UDM2 asset. In this notebook, we apply cloud detection to a specific area of interest (AOI).\n",
    "\n",
    "The `ortho_udm2` and `udm2` assets are available for all `PSScene` 4-Band and `PSOrthoTile` items created after 2018-08-01, respectively. Therefore, our search should be limited to these items and this date range. In this notebook, we focus on `PSOrthoTile` imagery taken within the month of April, 2019."
   ]
  },
  {
   "cell_type": "markdown",
   "metadata": {},
   "source": [
    "## Import dependencies"
   ]
  },
  {
   "cell_type": "code",
   "execution_count": null,
   "metadata": {},
   "outputs": [],
   "source": [
    "import datetime\n",
    "import json\n",
    "import os\n",
    "import time\n",
    "\n",
    "from datetime import datetime\n",
    "from planet import Auth\n",
    "from planet import Session, DataClient, OrdersClient, data_filter\n",
    "import rasterio\n",
    "from rasterio.plot import show\n",
    "import requests"
   ]
  },
  {
   "cell_type": "code",
   "execution_count": null,
   "metadata": {},
   "outputs": [],
   "source": [
    "# if your Planet API Key is not set as an environment variable, you can paste it below\n",
    "if os.environ.get('PL_API_KEY', ''):\n",
    "    API_KEY = os.environ.get('PL_API_KEY', '')\n",
    "else:\n",
    "    API_KEY = 'PASTE_YOUR_API_KEY_HERE'\n",
    "\n",
    "client = Auth.from_key(API_KEY)\n",
    "\n",
    "# Setup the session\n",
    "session = requests.Session()\n",
    "\n",
    "# Authenticate\n",
    "session.auth = (API_KEY, \"\")"
   ]
  },
  {
   "cell_type": "markdown",
   "metadata": {},
   "source": [
    "## Finding clear imagery\n",
    "\n",
    "One of the benefits of accurate and automated cloud detection is that it allows users to filter out images that don't meet a certain quality threshold. Planet's Data API allows users to [search](https://developers.planet.com/docs/apis/data/searches-filtering/) based on the value of the imagery metadata.\n",
    "    \n",
    "Planet's cloud detection algorithm classifies every pixel into one of six different categories, each of which has a corresponding metadata field that reflects the percentage of data that falls into the category.\n",
    "\n",
    "| Class | Metadata field |\n",
    "| --- | --- |\n",
    "| clear | `clear_percent` |\n",
    "| snow | `snow_ice_percent` |\n",
    "| shadow | `shadow_percent` |\n",
    "| light haze | `light_haze_percent` |\n",
    "| heavy haze| `heavy_haze_percent` |\n",
    "| cloud | `cloud_percent` |\n",
    "\n",
    "The [UDM2 Cloud Detection](udm2_clouds.ipynb) notebook provides examples for how to perform searches using the Planet Python Client command-line interface.\n",
    "\n",
    "The following example will show how use Planet's Python Client to perform a search for PSOrthoTiles that are 70-95% clear (not totally clear so the udm has some interesting content), taken within the month of April, 2019, and within an AOI."
   ]
  },
  {
   "cell_type": "code",
   "execution_count": null,
   "metadata": {},
   "outputs": [],
   "source": [
    "# define the aoi for imagery\n",
    "aoi = {\"geometry\": {\n",
    "    \"type\":\"Polygon\",\n",
    "    \"coordinates\":\n",
    "        [[\n",
    "            [25.42429478260258,1.0255377823058893],\n",
    "            [25.592960813580472,1.0255377823058893],\n",
    "            [25.592960813580472,1.1196578801254304],\n",
    "            [25.42429478260258,1.1196578801254304],\n",
    "            [25.42429478260258,1.0255377823058893]\n",
    "        ]]}}\n",
    "\n",
    "\n",
    "item_types = ['PSOrthoTile']"
   ]
  },
  {
   "cell_type": "code",
   "execution_count": null,
   "metadata": {},
   "outputs": [],
   "source": [
    "# filter by our gemoetry defined above\n",
    "geom_filter = data_filter.geometry_filter(aoi)\n",
    "\n",
    "# clear_percent between 70 and 95, inclusive\n",
    "clear_percent_filter = data_filter.range_filter('clear_percent', None, None, 70, 95)\n",
    "\n",
    "# imagery acquired between April 1st and May 1st 2019\n",
    "date_range_filter = data_filter.date_range_filter(\"acquired\", datetime(month=4, day=1, year=2019), datetime(month=5, day=1, year=2019))\n",
    "\n",
    "# combine all these filters together\n",
    "combined_filter = data_filter.and_filter([geom_filter, clear_percent_filter, date_range_filter])"
   ]
  },
  {
   "cell_type": "code",
   "execution_count": null,
   "metadata": {},
   "outputs": [],
   "source": [
    "async with Session() as sess:\n",
    "    cl = DataClient(sess)\n",
    "    request = await cl.create_search(name='udm2_clouds_aoi',search_filter=combined_filter, item_types=item_types)"
   ]
  },
  {
   "cell_type": "code",
   "execution_count": null,
   "metadata": {},
   "outputs": [],
   "source": [
    "print (request)"
   ]
  },
  {
   "cell_type": "code",
   "execution_count": null,
   "metadata": {},
   "outputs": [],
   "source": [
    "# Search the Data API\n",
    "async with Session() as sess:\n",
    "    cl = DataClient(sess)\n",
    "    items = await cl.run_search(search_id=request['id'])\n",
    "    item_list = [i async for i in items]"
   ]
  },
  {
   "cell_type": "code",
   "execution_count": null,
   "metadata": {},
   "outputs": [],
   "source": [
    "print(len(item_list))"
   ]
  },
  {
   "cell_type": "code",
   "execution_count": null,
   "metadata": {},
   "outputs": [],
   "source": [
    "# Let's look at the first item in our results list\n",
    "item = item_list[0]\n",
    "item_id = item_list[0]['id']\n",
    "item_id"
   ]
  },
  {
   "cell_type": "markdown",
   "metadata": {},
   "source": [
    "## The `udm2` asset"
   ]
  },
  {
   "cell_type": "markdown",
   "metadata": {},
   "source": [
    "In addition to metadata for filtering, the `udm2` asset provides a pixel-by-pixel map that identifies the classification of each pixel. See the [UDM2 Cloud Detection](udm2_clouds.ipynb) notebook for an example map.\n",
    "\n",
    "The `udm2` structure is to use a separate band for each classification type. Band 2, for example, indicates that a pixel is snowy when its value is 1, band 3 indicates shadow and so on. \""
   ]
  },
  {
   "cell_type": "markdown",
   "metadata": {},
   "source": [
    "The following Python will download the data above and then display pixels that fall into a certain classifications."
   ]
  },
  {
   "cell_type": "markdown",
   "metadata": {},
   "source": [
    "First, we need to activate the asset that we've identified:"
   ]
  },
  {
   "cell_type": "code",
   "execution_count": null,
   "metadata": {},
   "outputs": [],
   "source": [
    "# Assign a variable to the udm2 asset from the item's assets\n",
    "udm2_asset = assets[\"udm2\"]\n",
    "analytic_asset = assets[\"analytic\"]\n",
    "\n",
    "# Setup the activation url for a particular asset (in this case an analytic asset)\n",
    "activation_url_udm2 = udm2_asset[\"_links\"][\"activate\"]\n",
    "activation_url_analytic = analytic_asset[\"_links\"][\"activate\"]\n",
    "\n",
    "# Send a request to the activation url to activate the item\n",
    "res_udm2 = session.get(activation_url_udm2)\n",
    "res_analytic = session.get(activation_url_analytic)\n",
    "\n",
    "# Print the response from the activation request\n",
    "print(res_udm2.status_code)\n",
    "print(res_analytic.status_code)"
   ]
  },
  {
   "cell_type": "markdown",
   "metadata": {},
   "source": [
    "A response of 202 means that the request has been accepted and the activation will begin shortly. A 204 code indicates that the asset is already active and no further action is needed. A 401 code means the user does not have permissions to download this file.\n",
    "\n",
    "Below, we are polling the API until the item is done activation. This may take awhile."
   ]
  },
  {
   "cell_type": "code",
   "execution_count": null,
   "metadata": {},
   "outputs": [
    {
     "name": "stdout",
     "output_type": "stream",
     "text": [
      "active inactive\n",
      "active inactive\n",
      "active inactive\n",
      "active inactive\n"
     ]
    }
   ],
   "source": [
    "# Get the assets link for the item\n",
    "assets_url = item[\"_links\"][\"assets\"]\n",
    "\n",
    "# Poll the API until the item is done activating\n",
    "assets_activated = False\n",
    "\n",
    "while assets_activated == False:\n",
    "    # Send a request to the item's assets url\n",
    "    res = session.get(assets_url)\n",
    "\n",
    "    # Assign a variable to the item's assets url response\n",
    "    assets = res.json()\n",
    "\n",
    "    udm2_asset_status = udm2_asset[\"status\"]\n",
    "    analytic_asset_status = analytic_asset[\"status\"]\n",
    "    \n",
    "    print(udm2_asset_status, analytic_asset_status)\n",
    "    \n",
    "    time.sleep(15) \n",
    "    \n",
    "    # If both assets are already active, we are done\n",
    "    if (udm2_asset_status == 'active') & (analytic_asset_status == 'active'):\n",
    "        assets_activated = True\n",
    "        print(\"Assets are active and ready to download\")\n",
    "\n",
    "# Print the udm2 asset data    \n",
    "print(udm2_asset)\n",
    "print(analytic_asset)"
   ]
  },
  {
   "cell_type": "code",
   "execution_count": null,
   "metadata": {},
   "outputs": [],
   "source": [
    "# start downloads\n",
    "data_dir = 'data'\n",
    "r1 = client.download(assets[\"analytic\"], callback=api.write_to_file(data_dir))\n",
    "r2 = client.download(assets[\"udm2\"], callback=api.write_to_file(data_dir))"
   ]
  },
  {
   "cell_type": "code",
   "execution_count": null,
   "metadata": {},
   "outputs": [],
   "source": [
    "# wait until downloads complete\n",
    "r1.wait()\n",
    "r2.wait()\n",
    "img_file = os.path.join(data_dir, r1.get_body().name)\n",
    "udm_file = os.path.join(data_dir, r2.get_body().name)\n",
    "print(\"image: {}\".format(img_file))\n",
    "print(\"udm2:  {}\".format(udm_file))"
   ]
  },
  {
   "cell_type": "markdown",
   "metadata": {},
   "source": [
    "### Visualize Image and UDM2"
   ]
  },
  {
   "cell_type": "code",
   "execution_count": null,
   "metadata": {},
   "outputs": [],
   "source": [
    "with rasterio.open(udm_file) as src:\n",
    "    shadow_mask = src.read(3).astype(bool)\n",
    "    cloud_mask = src.read(6).astype(bool)\n",
    "    \n",
    "show(shadow_mask, title=\"shadow\", cmap=\"binary\")\n",
    "show(cloud_mask, title=\"cloud\", cmap=\"binary\")"
   ]
  },
  {
   "cell_type": "code",
   "execution_count": null,
   "metadata": {},
   "outputs": [],
   "source": [
    "mask = shadow_mask + cloud_mask\n",
    "show(mask, title=\"mask\", cmap=\"binary\")"
   ]
  },
  {
   "cell_type": "code",
   "execution_count": null,
   "metadata": {},
   "outputs": [],
   "source": [
    "with rasterio.open(img_file) as src:\n",
    "    profile = src.profile\n",
    "    img_data = src.read([3, 2, 1], masked=True) / 10000.0 # apply RGB ordering and scale down"
   ]
  },
  {
   "cell_type": "code",
   "execution_count": null,
   "metadata": {},
   "outputs": [],
   "source": [
    "show(img_data, title=item_id)"
   ]
  },
  {
   "cell_type": "code",
   "execution_count": null,
   "metadata": {},
   "outputs": [],
   "source": [
    "img_data.mask = mask\n",
    "img_data = img_data.filled(fill_value=0)"
   ]
  },
  {
   "cell_type": "code",
   "execution_count": null,
   "metadata": {},
   "outputs": [],
   "source": [
    "show(img_data, title=\"masked image\")"
   ]
  },
  {
   "cell_type": "markdown",
   "metadata": {},
   "source": [
    "The image stored in `img_data` now has cloudy / cloud-shadowy pixels masked out and can be saved or used for analysis."
   ]
  }
 ],
 "metadata": {
  "kernelspec": {
   "display_name": "Python 3 (ipykernel)",
   "language": "python",
   "name": "python3"
  },
  "language_info": {
   "codemirror_mode": {
    "name": "ipython",
    "version": 3
   },
   "file_extension": ".py",
   "mimetype": "text/x-python",
   "name": "python",
   "nbconvert_exporter": "python",
   "pygments_lexer": "ipython3",
   "version": "3.9.12"
  }
 },
 "nbformat": 4,
 "nbformat_minor": 1
}
