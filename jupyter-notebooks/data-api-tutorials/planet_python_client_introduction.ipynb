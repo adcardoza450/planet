{
 "cells": [
  {
   "cell_type": "markdown",
   "metadata": {},
   "source": [
    "# Planet API Python Client\n"
   ]
  },
  {
   "cell_type": "markdown",
   "metadata": {},
   "source": [
    "This tutorial is an introduction to [Planet](https://www.planet.com)'s Data API using the official [Python client](https://github.com/planetlabs/planet-client-python), the `planet` module.\n",
    "\n",
    "## Requirements\n",
    "\n",
    "This tutorial assumes familiarity with the [Python](https://python.org) programming language throughout. Python modules used in this tutorial are:\n",
    "* [IPython](https://ipython.org/) and [Jupyter](https://jupyter.org/)\n",
    "* [planet](https://github.com/planetlabs/planet-client-python)\n",
    "* [geojsonio](https://pypi.python.org/pypi/geojsonio)\n",
    "\n",
    "You should also have an account on the Planet Platform and retrieve your API key from your [account page](https://www.planet.com/account/).\n",
    "\n",
    "## Useful links \n",
    "* [Planet Client V2 Documentation](https://github.com/planetlabs/planet-client-python)\n",
    "* [Planet Data API reference](https://developers.planet.com/docs/apis/data/)"
   ]
  },
  {
   "cell_type": "markdown",
   "metadata": {},
   "source": [
    "This tutorial will cover the basic operations possible with the Python client, particularly those that interact with the Data API."
   ]
  },
  {
   "cell_type": "markdown",
   "metadata": {},
   "source": [
    "The basic workflow for interacting with the Data API is:\n",
    "1. search item types based on filters\n",
    "1. activate assets\n",
    "1. download assets"
   ]
  },
  {
   "cell_type": "markdown",
   "metadata": {},
   "source": [
    "## Set up\n",
    "\n",
    "In order to interact with the Planet API using the client, we need to import the necessary packages & define helper functions."
   ]
  },
  {
   "cell_type": "code",
   "execution_count": 1,
   "metadata": {},
   "outputs": [],
   "source": [
    "from datetime import datetime\n",
    "from planet import Auth\n",
    "from planet import Session, DataClient, OrdersClient, data_filter\n",
    "import json\n",
    "import requests\n",
    "import time\n",
    "import os\n",
    "\n",
    "# We will also create a small helper function to print out JSON with proper indentation.\n",
    "def indent(data):\n",
    "    print(json.dumps(data, indent=2))"
   ]
  },
  {
   "cell_type": "markdown",
   "metadata": {},
   "source": [
    "We next need to create a `client` object registered with our API key. The API key will be automatically read from the `PL_API_KEY` environment variable if it exists. If not, you can provide it below. "
   ]
  },
  {
   "cell_type": "code",
   "execution_count": 2,
   "metadata": {},
   "outputs": [],
   "source": [
    "# if your Planet API Key is not set as an environment variable, you can paste it below\n",
    "if os.environ.get('PL_API_KEY', ''):\n",
    "    API_KEY = os.environ.get('PL_API_KEY', '')\n",
    "else:\n",
    "    API_KEY = 'PASTE_YOUR_API_KEY_HERE'\n",
    "\n",
    "client = Auth.from_key(API_KEY)\n",
    "\n",
    "# Setup the session\n",
    "session = requests.Session()\n",
    "\n",
    "# Authenticate\n",
    "session.auth = (API_KEY, \"\")"
   ]
  },
  {
   "cell_type": "markdown",
   "metadata": {},
   "source": [
    "Let's also read in a GeoJSON geometry into a variable so we can use it during testing."
   ]
  },
  {
   "cell_type": "code",
   "execution_count": 3,
   "metadata": {},
   "outputs": [],
   "source": [
    "with open(\"data/san-francisco.json\") as f:\n",
    "    geom = json.loads(f.read())"
   ]
  },
  {
   "cell_type": "markdown",
   "metadata": {},
   "source": [
    "## Searching\n",
    "\n",
    "We can search for items that are interesting by using the `quick_search` member function. Searches, however, always require a proper request that includes a filter that selects the specific items to return as seach results."
   ]
  },
  {
   "cell_type": "markdown",
   "metadata": {},
   "source": [
    "### Filters"
   ]
  },
  {
   "cell_type": "markdown",
   "metadata": {},
   "source": [
    "The possible filters include `and_filter`, `date_range_filter`, `range_filter` and so on, mirroring the options supported by the Planet API.\n"
   ]
  },
  {
   "cell_type": "code",
   "execution_count": 4,
   "metadata": {},
   "outputs": [],
   "source": [
    "# Define the filters we'll use to find our data\n",
    "\n",
    "item_types = [\"REOrthoTile\", \"PSOrthoTile\"]\n",
    "\n",
    "geom_filter = data_filter.geometry_filter(geom)\n",
    "clear_percent_filter = data_filter.range_filter('clear_percent', 90)\n",
    "date_range_filter = data_filter.date_range_filter(\"acquired\", gt = datetime(month=1, day=1, year=2017))\n",
    "cloud_cover_filter = data_filter.range_filter('cloud_cover', None, 0.1)\n",
    "\n",
    "combined_filter = data_filter.and_filter([geom_filter, clear_percent_filter, date_range_filter, cloud_cover_filter])"
   ]
  },
  {
   "cell_type": "code",
   "execution_count": 5,
   "metadata": {
    "scrolled": true
   },
   "outputs": [
    {
     "name": "stdout",
     "output_type": "stream",
     "text": [
      "{\n",
      "  \"type\": \"AndFilter\",\n",
      "  \"config\": [\n",
      "    {\n",
      "      \"type\": \"GeometryFilter\",\n",
      "      \"field_name\": \"geometry\",\n",
      "      \"config\": {\n",
      "        \"type\": \"Polygon\",\n",
      "        \"coordinates\": [\n",
      "          [\n",
      "            [\n",
      "              -122.47455596923828,\n",
      "              37.810326435534755\n",
      "            ],\n",
      "            [\n",
      "              -122.49172210693358,\n",
      "              37.795406713958236\n",
      "            ],\n",
      "            [\n",
      "              -122.52056121826172,\n",
      "              37.784282779035216\n",
      "            ],\n",
      "            [\n",
      "              -122.51953124999999,\n",
      "              37.6971326434885\n",
      "            ],\n",
      "            [\n",
      "              -122.38941192626953,\n",
      "              37.69441603823106\n",
      "            ],\n",
      "            [\n",
      "              -122.38872528076173,\n",
      "              37.705010235842614\n",
      "            ],\n",
      "            [\n",
      "              -122.36228942871092,\n",
      "              37.70935613533687\n",
      "            ],\n",
      "            [\n",
      "              -122.34992980957031,\n",
      "              37.727280276860036\n",
      "            ],\n",
      "            [\n",
      "              -122.37773895263672,\n",
      "              37.76230130281876\n",
      "            ],\n",
      "            [\n",
      "              -122.38494873046875,\n",
      "              37.794592824285104\n",
      "            ],\n",
      "            [\n",
      "              -122.40554809570311,\n",
      "              37.813310018173155\n",
      "            ],\n",
      "            [\n",
      "              -122.46150970458983,\n",
      "              37.805715207044685\n",
      "            ],\n",
      "            [\n",
      "              -122.47455596923828,\n",
      "              37.810326435534755\n",
      "            ]\n",
      "          ]\n",
      "        ]\n",
      "      }\n",
      "    },\n",
      "    {\n",
      "      \"type\": \"RangeFilter\",\n",
      "      \"field_name\": \"clear_percent\",\n",
      "      \"config\": {\n",
      "        \"gt\": 90\n",
      "      }\n",
      "    },\n",
      "    {\n",
      "      \"type\": \"DateRangeFilter\",\n",
      "      \"field_name\": \"acquired\",\n",
      "      \"config\": {\n",
      "        \"gt\": \"2017-01-01T00:00:00Z\"\n",
      "      }\n",
      "    },\n",
      "    {\n",
      "      \"type\": \"RangeFilter\",\n",
      "      \"field_name\": \"cloud_cover\",\n",
      "      \"config\": {\n",
      "        \"lt\": 0.1\n",
      "      }\n",
      "    }\n",
      "  ]\n",
      "}\n"
     ]
    }
   ],
   "source": [
    "indent(combined_filter)"
   ]
  },
  {
   "cell_type": "markdown",
   "metadata": {},
   "source": [
    "Now let's build the request:"
   ]
  },
  {
   "cell_type": "code",
   "execution_count": 6,
   "metadata": {},
   "outputs": [],
   "source": [
    "async with Session() as sess:\n",
    "    cl = DataClient(sess)\n",
    "    request = await cl.create_search(name='planet_client_demo',search_filter=combined_filter, item_types=item_types)"
   ]
  },
  {
   "cell_type": "code",
   "execution_count": 11,
   "metadata": {},
   "outputs": [
    {
     "data": {
      "text/plain": [
       "{'__daily_email_enabled': False,\n",
       " '_links': {'_self': 'https://api.planet.com/data/v1/searches/f5dfc1298e1249848ac99df4e981c1e3',\n",
       "  'results': 'https://api.planet.com/data/v1/searches/f5dfc1298e1249848ac99df4e981c1e3/results'},\n",
       " 'created': '2022-12-09T19:43:27.793325Z',\n",
       " 'filter': {'config': [{'config': {'coordinates': [[[-122.47455596923828,\n",
       "        37.810326435534755],\n",
       "       [-122.49172210693358, 37.795406713958236],\n",
       "       [-122.52056121826172, 37.784282779035216],\n",
       "       [-122.51953124999999, 37.6971326434885],\n",
       "       [-122.38941192626953, 37.69441603823106],\n",
       "       [-122.38872528076173, 37.705010235842614],\n",
       "       [-122.36228942871092, 37.70935613533687],\n",
       "       [-122.34992980957031, 37.727280276860036],\n",
       "       [-122.37773895263672, 37.76230130281876],\n",
       "       [-122.38494873046875, 37.794592824285104],\n",
       "       [-122.40554809570311, 37.813310018173155],\n",
       "       [-122.46150970458983, 37.805715207044685],\n",
       "       [-122.47455596923828, 37.810326435534755]]],\n",
       "     'type': 'Polygon'},\n",
       "    'field_name': 'geometry',\n",
       "    'type': 'GeometryFilter'},\n",
       "   {'config': {'gt': 90.0},\n",
       "    'field_name': 'clear_percent',\n",
       "    'type': 'RangeFilter'},\n",
       "   {'config': {'gt': '2017-01-01T00:00:00Z'},\n",
       "    'field_name': 'acquired',\n",
       "    'type': 'DateRangeFilter'},\n",
       "   {'config': {'lt': 0.1},\n",
       "    'field_name': 'cloud_cover',\n",
       "    'type': 'RangeFilter'}],\n",
       "  'type': 'AndFilter'},\n",
       " 'id': 'f5dfc1298e1249848ac99df4e981c1e3',\n",
       " 'item_types': ['REOrthoTile', 'PSOrthoTile'],\n",
       " 'last_executed': None,\n",
       " 'name': 'planet_client_demo',\n",
       " 'search_type': 'saved',\n",
       " 'updated': '2022-12-09T19:43:27.793325Z'}"
      ]
     },
     "execution_count": 11,
     "metadata": {},
     "output_type": "execute_result"
    }
   ],
   "source": [
    "request"
   ]
  },
  {
   "cell_type": "code",
   "execution_count": 29,
   "metadata": {},
   "outputs": [],
   "source": [
    "# Search the Data API\n",
    "# The default result limit is 100. Here, we're setting our limit to 50\n",
    "async with Session() as sess:\n",
    "    cl = DataClient(sess)\n",
    "    items = await cl.run_search(search_id=request['id'], limit=50)\n",
    "    item_list = [i async for i in items]"
   ]
  },
  {
   "cell_type": "markdown",
   "metadata": {},
   "source": [
    "Now, we can iterate through our search results."
   ]
  },
  {
   "cell_type": "code",
   "execution_count": 30,
   "metadata": {
    "scrolled": false
   },
   "outputs": [
    {
     "name": "stdout",
     "output_type": "stream",
     "text": [
      "6128289_1056417_2022-12-07_2262 PSOrthoTile\n",
      "6117841_1056517_2022-12-02_247f PSOrthoTile\n",
      "6117841_1056516_2022-12-02_247f PSOrthoTile\n",
      "6117841_1056417_2022-12-02_247f PSOrthoTile\n",
      "6117841_1056416_2022-12-02_247f PSOrthoTile\n",
      "6117149_1056517_2022-12-02_2430 PSOrthoTile\n",
      "6117149_1056516_2022-12-02_2430 PSOrthoTile\n",
      "6104170_1056517_2022-11-26_2423 PSOrthoTile\n",
      "6104170_1056417_2022-11-26_2423 PSOrthoTile\n",
      "6099543_1056517_2022-11-24_242d PSOrthoTile\n",
      "6099543_1056417_2022-11-24_242d PSOrthoTile\n",
      "6095810_1056416_2022-11-22_249a PSOrthoTile\n",
      "6095810_1056517_2022-11-22_249a PSOrthoTile\n",
      "6095810_1056516_2022-11-22_249a PSOrthoTile\n",
      "6095810_1056417_2022-11-22_249a PSOrthoTile\n",
      "6093412_1056516_2022-11-21_2430 PSOrthoTile\n",
      "6093412_1056517_2022-11-21_2430 PSOrthoTile\n",
      "6093412_1056417_2022-11-21_2430 PSOrthoTile\n",
      "6093412_1056416_2022-11-21_2430 PSOrthoTile\n",
      "6089131_1056517_2022-11-19_2465 PSOrthoTile\n",
      "6089131_1056516_2022-11-19_2465 PSOrthoTile\n",
      "6089131_1056417_2022-11-19_2465 PSOrthoTile\n",
      "6089131_1056416_2022-11-19_2465 PSOrthoTile\n",
      "6082627_1056417_2022-11-16_247b PSOrthoTile\n",
      "6082627_1056517_2022-11-16_247b PSOrthoTile\n",
      "6082627_1056516_2022-11-16_247b PSOrthoTile\n",
      "6076119_1056517_2022-11-13_242d PSOrthoTile\n",
      "6076119_1056516_2022-11-13_242d PSOrthoTile\n",
      "6067219_1056517_2022-11-09_249d PSOrthoTile\n",
      "6067219_1056516_2022-11-09_249d PSOrthoTile\n",
      "6060194_1056517_2022-11-06_247d PSOrthoTile\n",
      "6054452_1056417_2022-11-03_247f PSOrthoTile\n",
      "6054452_1056517_2022-11-03_247f PSOrthoTile\n",
      "6053688_1056516_2022-11-03_2481 PSOrthoTile\n",
      "6041960_1056517_2022-10-29_2416 PSOrthoTile\n",
      "6041960_1056417_2022-10-29_2416 PSOrthoTile\n",
      "6034926_1056516_2022-10-26_241d PSOrthoTile\n",
      "6032365_1056517_2022-10-25_2455 PSOrthoTile\n",
      "6030099_1056517_2022-10-24_2446 PSOrthoTile\n",
      "6030099_1056417_2022-10-24_2446 PSOrthoTile\n",
      "6030099_1056416_2022-10-24_2446 PSOrthoTile\n",
      "6020789_1056517_2022-10-20_248b PSOrthoTile\n",
      "6020789_1056516_2022-10-20_248b PSOrthoTile\n",
      "6018646_1056517_2022-10-18_2402 PSOrthoTile\n",
      "6018550_1056517_2022-10-19_2445 PSOrthoTile\n",
      "6018550_1056516_2022-10-19_2445 PSOrthoTile\n",
      "5976834_1056517_2022-10-03_2431 PSOrthoTile\n",
      "5976834_1056417_2022-10-03_2431 PSOrthoTile\n",
      "5968672_1056517_2022-09-30_2485 PSOrthoTile\n",
      "5964618_1056516_2022-09-29_2465 PSOrthoTile\n"
     ]
    }
   ],
   "source": [
    "for item in item_list:\n",
    "    print(item['id'], item['properties']['item_type'])"
   ]
  },
  {
   "cell_type": "code",
   "execution_count": 31,
   "metadata": {},
   "outputs": [],
   "source": [
    "with open('output/results.json','w') as f:\n",
    "    jsonStr = json.dumps(item_list)\n",
    "    f.write(jsonStr)\n",
    "    f.close()"
   ]
  },
  {
   "cell_type": "markdown",
   "metadata": {},
   "source": [
    "This GeoJSON file can be opened and viewed in any compatible application."
   ]
  },
  {
   "cell_type": "markdown",
   "metadata": {
    "collapsed": true
   },
   "source": [
    "## Assets and downloads\n",
    "\n",
    "After a search returns results, the Python client can be used to check for assets and initiate downloads.\n",
    "Let's start by looking at one item and the assets available to download for that item.\n",
    "\n",
    "For more information and Assets and Items, check out [Items & Assets](https://developers.planet.com/docs/apis/data/items-assets/) on Planet Developer Center."
   ]
  },
  {
   "cell_type": "code",
   "execution_count": 59,
   "metadata": {
    "scrolled": false
   },
   "outputs": [
    {
     "name": "stdout",
     "output_type": "stream",
     "text": [
      "6128289_1056417_2022-12-07_2262 PSOrthoTile\n"
     ]
    }
   ],
   "source": [
    "# As an example, let's look at the first result in our item_list and grab the item_id and item_type:\n",
    "item = item_list[0]\n",
    "\n",
    "print(item['id'], item['properties']['item_type'])"
   ]
  },
  {
   "cell_type": "code",
   "execution_count": 48,
   "metadata": {
    "scrolled": false
   },
   "outputs": [
    {
     "data": {
      "text/plain": [
       "['assets.analytic:download',\n",
       " 'assets.analytic_5b:download',\n",
       " 'assets.analytic_5b_xml:download',\n",
       " 'assets.analytic_dn:download',\n",
       " 'assets.analytic_dn_xml:download',\n",
       " 'assets.analytic_sr:download',\n",
       " 'assets.analytic_xml:download',\n",
       " 'assets.udm:download',\n",
       " 'assets.udm2:download',\n",
       " 'assets.visual:download',\n",
       " 'assets.visual_xml:download']"
      ]
     },
     "execution_count": 48,
     "metadata": {},
     "output_type": "execute_result"
    }
   ],
   "source": [
    "# The list of assets for an item that a user has access to can be retrieved with `permissions`\n",
    "item['_permissions']"
   ]
  },
  {
   "cell_type": "code",
   "execution_count": 49,
   "metadata": {},
   "outputs": [],
   "source": [
    "# Define our item_id, and item_type\n",
    "\n",
    "item_id = item['id']\n",
    "item_type = item['properties']['item_type']"
   ]
  },
  {
   "cell_type": "markdown",
   "metadata": {},
   "source": [
    "There are a few steps involved in order to download an asset using the Planet Python Client:\n",
    "\n",
    "* **Get Asset:** Get a desscription of our asset based on the specifications we're looking for\n",
    "* **Activate Asset:** Activate the asset with the given description\n",
    "* **Wait Asset:** Wait for the asset to be activated\n",
    "* **Download Asset:** Now our asset is ready for download!\n",
    "\n",
    "Let's go through these steps below. We'll do this for our `analytic` asset, as well as the `analytic_xml` asset."
   ]
  },
  {
   "cell_type": "code",
   "execution_count": 50,
   "metadata": {},
   "outputs": [
    {
     "name": "stderr",
     "output_type": "stream",
     "text": [
      "output/6128289_1056417_2022-12-07_2262_BGRN_Analytic.tif: 100%|█| 416k/416k [02:54<00:00, 2.50M\n"
     ]
    }
   ],
   "source": [
    "# Analytic Asset\n",
    "async with Session() as sess:\n",
    "    cl = DataClient(sess)\n",
    "    # Get Asset\n",
    "    asset_desc = await cl.get_asset(item_type_id=item_type,item_id=item_id, asset_type_id='analytic')\n",
    "    # Activate Asset\n",
    "    await cl.activate_asset(asset=asset_desc)\n",
    "    # Wait Asset\n",
    "    await cl.wait_asset(asset=asset_desc)\n",
    "    # Download Asset\n",
    "    asset_path = await cl.download_asset(asset=asset_desc, directory='output', overwrite=True)"
   ]
  },
  {
   "cell_type": "code",
   "execution_count": 51,
   "metadata": {},
   "outputs": [
    {
     "name": "stderr",
     "output_type": "stream",
     "text": [
      "output/6128289_1056417_2022-12-07_2262_BGRN_Analytic_metadata.xml: 100%|█| 0.01k/0.01k [00:00<0\n"
     ]
    }
   ],
   "source": [
    "# Analytic XML Asset\n",
    "async with Session() as sess:\n",
    "    cl = DataClient(sess)\n",
    "    # Get Asset\n",
    "    asset_desc = await cl.get_asset(item_type_id=item_type,item_id=item_id, asset_type_id='analytic_xml')\n",
    "    # Activate Asset\n",
    "    await cl.activate_asset(asset=asset_desc)\n",
    "    # Wait Asset (this may take some time!)\n",
    "    await cl.wait_asset(asset=asset_desc)\n",
    "    # Download Asset\n",
    "    asset_path = await cl.download_asset(asset=asset_desc, directory='output', overwrite=True)"
   ]
  },
  {
   "cell_type": "markdown",
   "metadata": {},
   "source": [
    "Congratulations! Both the `analytic` and `analytic_xml` assets should be saved in our outputs directory."
   ]
  },
  {
   "cell_type": "markdown",
   "metadata": {},
   "source": [
    "## Saved Searches\n",
    "\n",
    "The Planet Python Client can also help in managing saved searches on the Planet Platform."
   ]
  },
  {
   "cell_type": "code",
   "execution_count": 52,
   "metadata": {},
   "outputs": [],
   "source": [
    "async with Session() as sess:\n",
    "    cl = DataClient(sess)\n",
    "    searches = await cl.list_searches()\n",
    "    searches_list = [i async for i in searches]"
   ]
  },
  {
   "cell_type": "code",
   "execution_count": 53,
   "metadata": {},
   "outputs": [
    {
     "data": {
      "text/plain": [
       "100"
      ]
     },
     "execution_count": 53,
     "metadata": {},
     "output_type": "execute_result"
    }
   ],
   "source": [
    "# We may have a lot of saved searches!\n",
    "\n",
    "len(searches_list)"
   ]
  },
  {
   "cell_type": "markdown",
   "metadata": {},
   "source": [
    "View your saved searches:"
   ]
  },
  {
   "cell_type": "code",
   "execution_count": 54,
   "metadata": {
    "scrolled": true
   },
   "outputs": [
    {
     "name": "stdout",
     "output_type": "stream",
     "text": [
      "f5dfc1298e1249848ac99df4e981c1e3 planet_client_demo\n",
      "43dca6cff2944a239d96b4b39263c464 43dca6cff2944a239d96b4b39263c464\n",
      "816d88e6e2ab4719abd0df7fd1403fb7 816d88e6e2ab4719abd0df7fd1403fb7\n",
      "0e5c694738fa472ca365e91828bbff9c 0e5c694738fa472ca365e91828bbff9c\n",
      "84fd57c2549d4658bdb60b2478f93528 84fd57c2549d4658bdb60b2478f93528\n",
      "682f64d5f0304ea08103689919740354 682f64d5f0304ea08103689919740354\n",
      "22568456f1cc4c69a80cb0121b1271bf 22568456f1cc4c69a80cb0121b1271bf\n",
      "1dbd454ee3c54ff4ae457a8f136fd642 1dbd454ee3c54ff4ae457a8f136fd642\n",
      "fb73db3ee010410e81cdbd39c1355ce1 fb73db3ee010410e81cdbd39c1355ce1\n",
      "0f1d6706b8d14f7896477a6df6409c47 0f1d6706b8d14f7896477a6df6409c47\n",
      "aff65930c69b4c818c778e2e87ae4b84 aff65930c69b4c818c778e2e87ae4b84\n",
      "d5e28fe0154944d98317cc19fff4c594 d5e28fe0154944d98317cc19fff4c594\n",
      "4a01df80dce443199e902b023e30b17c 4a01df80dce443199e902b023e30b17c\n",
      "6df9c275d6a2448c821f9d395a91ce2e 6df9c275d6a2448c821f9d395a91ce2e\n",
      "f0dd5a03dd5b48d0ad8538fd0d044c51 f0dd5a03dd5b48d0ad8538fd0d044c51\n",
      "14f0f4bdf11a41658510a5b847e339a2 14f0f4bdf11a41658510a5b847e339a2\n",
      "0b18f4b6f4a345d4bc3b3945cf0f1a2c 0b18f4b6f4a345d4bc3b3945cf0f1a2c\n",
      "ce061eff824f4a29becea68a602be9d5 ce061eff824f4a29becea68a602be9d5\n",
      "aabe3f61782647f2915999ffbed51cd0 aabe3f61782647f2915999ffbed51cd0\n",
      "f804ec44a2ac4efeb9db96e3180a2d56 f804ec44a2ac4efeb9db96e3180a2d56\n",
      "9e5c0551c2284a929119167b06265ead 9e5c0551c2284a929119167b06265ead\n",
      "aa407320798844068f9342552b7e2304 aa407320798844068f9342552b7e2304\n",
      "afcd6ea0243146d089e70db8e273a657 afcd6ea0243146d089e70db8e273a657\n",
      "e3bb009793874083b26009377cac0144 e3bb009793874083b26009377cac0144\n",
      "5c6c6d24cbe84bfe9554904f86d78ad9 5c6c6d24cbe84bfe9554904f86d78ad9\n",
      "09724372370e401185ee7b222f0afaed 09724372370e401185ee7b222f0afaed\n",
      "aecd3bd679f9493c89edf75524b58088 aecd3bd679f9493c89edf75524b58088\n",
      "59e40eef01a8413aa4e174b48bacd544 59e40eef01a8413aa4e174b48bacd544\n",
      "a9d4d04c8eb843f5a2c9e14b1fc45ec2 a9d4d04c8eb843f5a2c9e14b1fc45ec2\n",
      "de16da55282a488c8837c74c88f2592b de16da55282a488c8837c74c88f2592b\n",
      "02d608d08a1b4909aa730f790bdfee86 02d608d08a1b4909aa730f790bdfee86\n",
      "837321f261514779ba0fb3d80951a7ea 837321f261514779ba0fb3d80951a7ea\n",
      "6720029d6069444799d5a635add0d38e 6720029d6069444799d5a635add0d38e\n",
      "15243508e5134a29bf121e1d1986898a 15243508e5134a29bf121e1d1986898a\n",
      "9cd459b4012e41a885d84868ea2c1e31 9cd459b4012e41a885d84868ea2c1e31\n",
      "d190e0cdcdff43ee843d9f1a1130a873 d190e0cdcdff43ee843d9f1a1130a873\n",
      "c93690c25bea4ca3b09d22a833a4e12f c93690c25bea4ca3b09d22a833a4e12f\n",
      "5b90fbb15e9a478ba616728300885c8e 5b90fbb15e9a478ba616728300885c8e\n",
      "25dbda59f3c0462caad3005c15c613dc 25dbda59f3c0462caad3005c15c613dc\n",
      "efd4bc43a1f14ea5904469eede1e1575 efd4bc43a1f14ea5904469eede1e1575\n",
      "0aa12b11b2bf4b51a787013a958ef1fe 0aa12b11b2bf4b51a787013a958ef1fe\n",
      "348aaf1cf2204b7ab0643c9a95ba24f0 348aaf1cf2204b7ab0643c9a95ba24f0\n",
      "773d5129097a4282903a13f3a47edb9e 773d5129097a4282903a13f3a47edb9e\n",
      "5c1b159db56f41af8b3d9af374af2bdc 5c1b159db56f41af8b3d9af374af2bdc\n",
      "560dc1f66ab44e9b8ac2499f224dc1cc 560dc1f66ab44e9b8ac2499f224dc1cc\n",
      "aae5f71061bd4f569f23ea49bdf32883 aae5f71061bd4f569f23ea49bdf32883\n",
      "58c0f350d2dd4b0b9935705b34fd6eca 58c0f350d2dd4b0b9935705b34fd6eca\n",
      "36e3eaa300d14fe7a292ff5f8041bd18 36e3eaa300d14fe7a292ff5f8041bd18\n",
      "a6a451a385064e18b40e098344c70eba a6a451a385064e18b40e098344c70eba\n",
      "b04b1e1367a54f7ba991b2dffee9d627 b04b1e1367a54f7ba991b2dffee9d627\n",
      "619af66b5dc14b6fa41f66d619c7fdfc 619af66b5dc14b6fa41f66d619c7fdfc\n",
      "8b2ebc974f734a9291f4f0df8af9c51b 8b2ebc974f734a9291f4f0df8af9c51b\n",
      "3f4b056afb7b45cba11d739b46997e30 3f4b056afb7b45cba11d739b46997e30\n",
      "0d6fff51198a428088256126fb44ce5c 0d6fff51198a428088256126fb44ce5c\n",
      "f1d41a6da44b45f8b2cb05fbd00cb990 f1d41a6da44b45f8b2cb05fbd00cb990\n",
      "1447055c9f78406bb72f94c05e468573 1447055c9f78406bb72f94c05e468573\n",
      "acbe33b4669b4398be90d494daa7be5f acbe33b4669b4398be90d494daa7be5f\n",
      "fb5d2d5273a74f1bbdb1584be9288d0f fb5d2d5273a74f1bbdb1584be9288d0f\n",
      "bb7fa075574b4989bb2d9b67697091f2 bb7fa075574b4989bb2d9b67697091f2\n",
      "73a7a7dab6864d319b61774e552aa5e5 73a7a7dab6864d319b61774e552aa5e5\n",
      "b8af42894b2d425b8a80ec5afd430d40 b8af42894b2d425b8a80ec5afd430d40\n",
      "0c4d0b99146149ffb7d7cdfb51843fb2 0c4d0b99146149ffb7d7cdfb51843fb2\n",
      "e98d8556d9fe4ec4bb28e3d0c813ed30 e98d8556d9fe4ec4bb28e3d0c813ed30\n",
      "17dc65b7d672416aba75229c308efd9b 17dc65b7d672416aba75229c308efd9b\n",
      "332530fb6a5140bc984cdc16cf84be8f 332530fb6a5140bc984cdc16cf84be8f\n",
      "9cebe5e0de444cd582c3b883acc22e7e 9cebe5e0de444cd582c3b883acc22e7e\n",
      "40e6ca4accf54ef0b9df5d5e30cd7f57 40e6ca4accf54ef0b9df5d5e30cd7f57\n",
      "a1cfbbfbac2645b9b6f72d9a79ce86f7 a1cfbbfbac2645b9b6f72d9a79ce86f7\n",
      "fed8cbdc62414534a7c3bd2e9cd7c6b8 fed8cbdc62414534a7c3bd2e9cd7c6b8\n",
      "f344b92de8b74fd7a0026c4c6a66332a f344b92de8b74fd7a0026c4c6a66332a\n",
      "f03fd7d6ea2646948f783b7594770a22 f03fd7d6ea2646948f783b7594770a22\n",
      "9e5a8bbff8504c98bf4b4053ca0b2057 9e5a8bbff8504c98bf4b4053ca0b2057\n",
      "1a40816ebbe846ec84d3732a6aa1aa3a 1a40816ebbe846ec84d3732a6aa1aa3a\n",
      "559bd824d4ee4ce4bb4e70171bc2f584 559bd824d4ee4ce4bb4e70171bc2f584\n",
      "3c5c6edcdb9e479695c4ee3898acad66 3c5c6edcdb9e479695c4ee3898acad66\n",
      "b4710e69adb345b9bd5ee341c58d30a6 b4710e69adb345b9bd5ee341c58d30a6\n",
      "07a7d4cd414744d5a9bd0d646899d431 07a7d4cd414744d5a9bd0d646899d431\n",
      "7901d999341b41d19af859853a11f83a 7901d999341b41d19af859853a11f83a\n",
      "6018a7ef47a843179aeb020fe500cd4b 6018a7ef47a843179aeb020fe500cd4b\n",
      "d8c7bb83984c45e89d49ecf3b36c1363 d8c7bb83984c45e89d49ecf3b36c1363\n",
      "e86a39648ec8496794c460ee369ab6c9 e86a39648ec8496794c460ee369ab6c9\n",
      "8aeb67f8342643979fe3702ea5307a92 8aeb67f8342643979fe3702ea5307a92\n",
      "479086c217d240d393efdc9b8d47bb7c 479086c217d240d393efdc9b8d47bb7c\n",
      "9f1ebae8a5c74594b6634538b75883c6 9f1ebae8a5c74594b6634538b75883c6\n",
      "0e53234bff1f4b77aa41560fc3b4e782 0e53234bff1f4b77aa41560fc3b4e782\n",
      "185a3c77d21244bcbdd6e1f95d9b961d 185a3c77d21244bcbdd6e1f95d9b961d\n",
      "80c8595b3c0d47cb912bde810cb813b2 80c8595b3c0d47cb912bde810cb813b2\n",
      "eb5ef36eb1be4fddbe0c2ec5cd1fbad5 eb5ef36eb1be4fddbe0c2ec5cd1fbad5\n",
      "9f26d8ce5d1f4323b11e7fcf5d188147 9f26d8ce5d1f4323b11e7fcf5d188147\n",
      "4bdb740a9d3d4fcf84c8837eda3261e6 4bdb740a9d3d4fcf84c8837eda3261e6\n",
      "d959b55eca204053b0ef7e8eff90eb14 d959b55eca204053b0ef7e8eff90eb14\n",
      "d64d68bb18684bf38f27704d969ce17f d64d68bb18684bf38f27704d969ce17f\n",
      "dfdf6714d0ac4636840bab5a9f1c5f9d dfdf6714d0ac4636840bab5a9f1c5f9d\n",
      "ced78262b72e472f905fcce8bbb912bb ced78262b72e472f905fcce8bbb912bb\n",
      "8d70a9eb738642a38152f4f4e326f012 8d70a9eb738642a38152f4f4e326f012\n",
      "985b69b1833044daa4b2eeca6b0f6a19 985b69b1833044daa4b2eeca6b0f6a19\n",
      "7f20da671ef44b27be9457b322b22771 7f20da671ef44b27be9457b322b22771\n",
      "24839fec1bb44e459947e4c47c8a2203 24839fec1bb44e459947e4c47c8a2203\n",
      "2883ccb90d8942d28f0d58b81b072d62 2883ccb90d8942d28f0d58b81b072d62\n",
      "8fd827098632474e80c0412fba77903e 8fd827098632474e80c0412fba77903e\n"
     ]
    }
   ],
   "source": [
    "for search in searches_list[:100]:\n",
    "    print(search['id'], search['name'])"
   ]
  },
  {
   "cell_type": "markdown",
   "metadata": {},
   "source": [
    "We can find the saved search we're looking for by filtering on our search id:"
   ]
  },
  {
   "cell_type": "code",
   "execution_count": 55,
   "metadata": {},
   "outputs": [],
   "source": [
    "async with Session() as sess:\n",
    "    cl = DataClient(sess)\n",
    "    search = await cl.get_search(searches_list[0]['id'])"
   ]
  },
  {
   "cell_type": "code",
   "execution_count": 56,
   "metadata": {},
   "outputs": [
    {
     "data": {
      "text/plain": [
       "{'__daily_email_enabled': False,\n",
       " '_links': {'_self': 'https://api.planet.com/data/v1/searches/f5dfc1298e1249848ac99df4e981c1e3',\n",
       "  'results': 'https://api.planet.com/data/v1/searches/f5dfc1298e1249848ac99df4e981c1e3/results'},\n",
       " 'created': '2022-12-09T19:43:27.793325Z',\n",
       " 'filter': {'config': [{'config': {'coordinates': [[[-122.47455596923828,\n",
       "        37.810326435534755],\n",
       "       [-122.49172210693358, 37.795406713958236],\n",
       "       [-122.52056121826172, 37.784282779035216],\n",
       "       [-122.51953124999999, 37.6971326434885],\n",
       "       [-122.38941192626953, 37.69441603823106],\n",
       "       [-122.38872528076173, 37.705010235842614],\n",
       "       [-122.36228942871092, 37.70935613533687],\n",
       "       [-122.34992980957031, 37.727280276860036],\n",
       "       [-122.37773895263672, 37.76230130281876],\n",
       "       [-122.38494873046875, 37.794592824285104],\n",
       "       [-122.40554809570311, 37.813310018173155],\n",
       "       [-122.46150970458983, 37.805715207044685],\n",
       "       [-122.47455596923828, 37.810326435534755]]],\n",
       "     'type': 'Polygon'},\n",
       "    'field_name': 'geometry',\n",
       "    'type': 'GeometryFilter'},\n",
       "   {'config': {'gt': 90.0},\n",
       "    'field_name': 'clear_percent',\n",
       "    'type': 'RangeFilter'},\n",
       "   {'config': {'gt': '2017-01-01T00:00:00Z'},\n",
       "    'field_name': 'acquired',\n",
       "    'type': 'DateRangeFilter'},\n",
       "   {'config': {'lt': 0.1},\n",
       "    'field_name': 'cloud_cover',\n",
       "    'type': 'RangeFilter'}],\n",
       "  'type': 'AndFilter'},\n",
       " 'id': 'f5dfc1298e1249848ac99df4e981c1e3',\n",
       " 'item_types': ['REOrthoTile', 'PSOrthoTile'],\n",
       " 'last_executed': '2022-12-09T19:54:58.663561Z',\n",
       " 'name': 'planet_client_demo',\n",
       " 'search_type': 'saved',\n",
       " 'updated': '2022-12-09T19:54:58.663906Z'}"
      ]
     },
     "execution_count": 56,
     "metadata": {},
     "output_type": "execute_result"
    }
   ],
   "source": [
    "search"
   ]
  },
  {
   "cell_type": "markdown",
   "metadata": {},
   "source": [
    "# Statistics\n",
    "\n",
    "The Python API client can also help report statistical summaries of the amount of data in the Planet API."
   ]
  },
  {
   "cell_type": "code",
   "execution_count": 57,
   "metadata": {},
   "outputs": [],
   "source": [
    "# Here, we can look at the stats for the search we've been working with:\n",
    "\n",
    "async with Session() as sess:\n",
    "    cl = DataClient(sess)\n",
    "    stats = await cl.get_stats(interval='year', search_filter=combined_filter, item_types=item_types)"
   ]
  },
  {
   "cell_type": "code",
   "execution_count": 58,
   "metadata": {
    "scrolled": true
   },
   "outputs": [
    {
     "name": "stdout",
     "output_type": "stream",
     "text": [
      "{\n",
      "  \"buckets\": [\n",
      "    {\n",
      "      \"count\": 375,\n",
      "      \"start_time\": \"2018-01-01T00:00:00.000000Z\"\n",
      "    },\n",
      "    {\n",
      "      \"count\": 594,\n",
      "      \"start_time\": \"2019-01-01T00:00:00.000000Z\"\n",
      "    },\n",
      "    {\n",
      "      \"count\": 665,\n",
      "      \"start_time\": \"2020-01-01T00:00:00.000000Z\"\n",
      "    },\n",
      "    {\n",
      "      \"count\": 758,\n",
      "      \"start_time\": \"2021-01-01T00:00:00.000000Z\"\n",
      "    },\n",
      "    {\n",
      "      \"count\": 588,\n",
      "      \"start_time\": \"2022-01-01T00:00:00.000000Z\"\n",
      "    }\n",
      "  ],\n",
      "  \"interval\": \"year\",\n",
      "  \"utc_offset\": \"+0h\"\n",
      "}\n"
     ]
    }
   ],
   "source": [
    "indent(stats)"
   ]
  }
 ],
 "metadata": {
  "kernelspec": {
   "display_name": "Python 3 (ipykernel)",
   "language": "python",
   "name": "python3"
  },
  "language_info": {
   "codemirror_mode": {
    "name": "ipython",
    "version": 3
   },
   "file_extension": ".py",
   "mimetype": "text/x-python",
   "name": "python",
   "nbconvert_exporter": "python",
   "pygments_lexer": "ipython3",
   "version": "3.8.13"
  }
 },
 "nbformat": 4,
 "nbformat_minor": 1
}
