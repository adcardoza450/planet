{
 "cells": [
  {
   "cell_type": "markdown",
   "id": "398d1b50",
   "metadata": {},
   "source": [
    "ADD NOTEBOOK INTRO TEXT HERE"
   ]
  },
  {
   "cell_type": "markdown",
   "id": "d9910407",
   "metadata": {},
   "source": [
    "### Notebook Setup: Import Packages and Authenticate"
   ]
  },
  {
   "cell_type": "code",
   "execution_count": 86,
   "id": "a15da861",
   "metadata": {},
   "outputs": [],
   "source": [
    "import json\n",
    "import os\n",
    "import pathlib\n",
    "import time\n",
    "\n",
    "import requests\n",
    "import planet\n",
    "from planet import Session, DataClient, OrdersClient"
   ]
  },
  {
   "cell_type": "code",
   "execution_count": 2,
   "id": "a95a4f9f",
   "metadata": {},
   "outputs": [],
   "source": [
    "# if your Planet API Key is not set as an environment variable, you can paste it below\n",
    "if os.environ.get('PL_API_KEY', ''):\n",
    "    API_KEY = os.environ.get('PL_API_KEY', '')\n",
    "else:\n",
    "    API_KEY = 'PASTE_YOUR_API_KEY_HERE'\n",
    "    \n",
    "# Setup the session\n",
    "session = requests.Session()\n",
    "\n",
    "# Authenticate\n",
    "session.auth = (API_KEY, \"\")"
   ]
  },
  {
   "cell_type": "markdown",
   "id": "fe1c5e14",
   "metadata": {},
   "source": [
    "#### Testing Hosted Data API Connection"
   ]
  },
  {
   "cell_type": "markdown",
   "id": "f740cdc3",
   "metadata": {},
   "source": [
    "Let's start by testing our API connection to ensure that everything is working properly."
   ]
  },
  {
   "cell_type": "code",
   "execution_count": 47,
   "id": "68dd0964",
   "metadata": {},
   "outputs": [],
   "source": [
    "hd_url = 'https://api.planet.com/hosted-data/v1/folders'"
   ]
  },
  {
   "cell_type": "code",
   "execution_count": 49,
   "id": "a89a4c4d",
   "metadata": {
    "scrolled": true
   },
   "outputs": [
    {
     "data": {
      "text/plain": [
       "<Response [200]>"
      ]
     },
     "execution_count": 49,
     "metadata": {},
     "output_type": "execute_result"
    }
   ],
   "source": [
    "# Here, we want to see a 200 Response.\n",
    "response = requests.get(hd_url, auth=session.auth)\n",
    "response"
   ]
  },
  {
   "cell_type": "markdown",
   "id": "fdca862c",
   "metadata": {},
   "source": [
    "We can also look at our response to see any existing Hosted Data API folders you may have access to."
   ]
  },
  {
   "cell_type": "code",
   "execution_count": 50,
   "id": "da663ce9",
   "metadata": {},
   "outputs": [
    {
     "data": {
      "text/plain": [
       "{'folders': [{'id': '76OgKpDgx3hHM4R66B8j',\n",
       "   'name': 'test_folder',\n",
       "   'description': '',\n",
       "   'created': '2023-01-17T23:16:35.327273Z',\n",
       "   'updated': '2023-01-17T23:16:35.327273Z',\n",
       "   'active_count': 0,\n",
       "   '_owner': True,\n",
       "   '_permissions': [{'allow': True, 'action': 'can-read'},\n",
       "    {'allow': True, 'action': 'can-write'}],\n",
       "   '_links': {'self': 'https://api.planet.com/hosted-data/v1/folders/76OgKpDgx3hHM4R66B8j',\n",
       "    'contents': 'https://api.planet.com/hosted-data/v1/folders/76OgKpDgx3hHM4R66B8j/contents'}},\n",
       "  {'id': 'rbQe4cwTwnuCsYGoq5Vk',\n",
       "   'name': 'simple order',\n",
       "   'description': '',\n",
       "   'created': '2023-01-17T23:06:41.112929Z',\n",
       "   'updated': '2023-01-17T23:06:41.112929Z',\n",
       "   'active_count': 0,\n",
       "   '_owner': True,\n",
       "   '_permissions': [{'allow': True, 'action': 'can-read'},\n",
       "    {'allow': True, 'action': 'can-write'}],\n",
       "   '_links': {'self': 'https://api.planet.com/hosted-data/v1/folders/rbQe4cwTwnuCsYGoq5Vk',\n",
       "    'contents': 'https://api.planet.com/hosted-data/v1/folders/rbQe4cwTwnuCsYGoq5Vk/contents'}},\n",
       "  {'id': '3gIdabfXpEGyJKB710Jh',\n",
       "   'name': 'Cleveland waterfront',\n",
       "   'description': '',\n",
       "   'created': '2021-07-21T14:59:35.467Z',\n",
       "   'updated': '2022-09-20T19:39:44.597Z',\n",
       "   'active_count': 5,\n",
       "   '_owner': False,\n",
       "   '_permissions': [{'allow': True, 'action': 'can-read'}],\n",
       "   '_links': {'self': 'https://api.planet.com/hosted-data/v1/folders/3gIdabfXpEGyJKB710Jh',\n",
       "    'contents': 'https://api.planet.com/hosted-data/v1/folders/3gIdabfXpEGyJKB710Jh/contents'}},\n",
       "  {'id': 'afMB5gjjxsmXnCG2of5I',\n",
       "   'name': 'Port of Long Beach Monitoring',\n",
       "   'description': '',\n",
       "   'created': '2021-03-17T21:28:44.364Z',\n",
       "   'updated': '2021-03-17T22:52:34.28Z',\n",
       "   'active_count': 4,\n",
       "   '_owner': False,\n",
       "   '_permissions': [{'allow': True, 'action': 'can-read'}],\n",
       "   '_links': {'self': 'https://api.planet.com/hosted-data/v1/folders/afMB5gjjxsmXnCG2of5I',\n",
       "    'contents': 'https://api.planet.com/hosted-data/v1/folders/afMB5gjjxsmXnCG2of5I/contents'}},\n",
       "  {'id': 'g7GoGYrJEbSWgL3nLcKM',\n",
       "   'name': 'Mageshima Airfield Obstruction',\n",
       "   'description': '',\n",
       "   'created': '2020-09-24T19:31:38.121Z',\n",
       "   'updated': '2021-10-19T06:04:56.475Z',\n",
       "   'active_count': 4,\n",
       "   '_owner': False,\n",
       "   '_permissions': [{'allow': True, 'action': 'can-read'}],\n",
       "   '_links': {'self': 'https://api.planet.com/hosted-data/v1/folders/g7GoGYrJEbSWgL3nLcKM',\n",
       "    'contents': 'https://api.planet.com/hosted-data/v1/folders/g7GoGYrJEbSWgL3nLcKM/contents'}},\n",
       "  {'id': '95BTuJZhQalWBOm20pBM',\n",
       "   'name': 'Apalachicola Forest Insect Infestation',\n",
       "   'description': '',\n",
       "   'created': '2020-09-24T17:41:57.843Z',\n",
       "   'updated': '2021-05-11T00:38:45.159Z',\n",
       "   'active_count': 12,\n",
       "   '_owner': False,\n",
       "   '_permissions': [{'allow': True, 'action': 'can-read'}],\n",
       "   '_links': {'self': 'https://api.planet.com/hosted-data/v1/folders/95BTuJZhQalWBOm20pBM',\n",
       "    'contents': 'https://api.planet.com/hosted-data/v1/folders/95BTuJZhQalWBOm20pBM/contents'}},\n",
       "  {'id': 'AyglWwREGkumZ87BtTBO',\n",
       "   'name': 'Saginaw River Flooding',\n",
       "   'description': '',\n",
       "   'created': '2020-09-24T17:37:19.205Z',\n",
       "   'updated': '2021-05-12T23:15:01.617Z',\n",
       "   'active_count': 13,\n",
       "   '_owner': False,\n",
       "   '_permissions': [{'allow': True, 'action': 'can-read'}],\n",
       "   '_links': {'self': 'https://api.planet.com/hosted-data/v1/folders/AyglWwREGkumZ87BtTBO',\n",
       "    'contents': 'https://api.planet.com/hosted-data/v1/folders/AyglWwREGkumZ87BtTBO/contents'}},\n",
       "  {'id': 'N2o99aeYnDqHp2S1AKmC',\n",
       "   'name': 'Big Basin Forest Fire Burn Scars ',\n",
       "   'description': '',\n",
       "   'created': '2020-09-24T17:32:48.618Z',\n",
       "   'updated': '2021-05-11T15:22:21.068Z',\n",
       "   'active_count': 20,\n",
       "   '_owner': False,\n",
       "   '_permissions': [{'allow': True, 'action': 'can-read'}],\n",
       "   '_links': {'self': 'https://api.planet.com/hosted-data/v1/folders/N2o99aeYnDqHp2S1AKmC',\n",
       "    'contents': 'https://api.planet.com/hosted-data/v1/folders/N2o99aeYnDqHp2S1AKmC/contents'}},\n",
       "  {'id': '4ivmruUSl2R268qT6CZG',\n",
       "   'name': 'Iowa Fields Weather Impact',\n",
       "   'description': '',\n",
       "   'created': '2020-09-24T17:29:15.049Z',\n",
       "   'updated': '2020-09-24T17:52:32.166Z',\n",
       "   'active_count': 9,\n",
       "   '_owner': False,\n",
       "   '_permissions': [{'allow': True, 'action': 'can-read'}],\n",
       "   '_links': {'self': 'https://api.planet.com/hosted-data/v1/folders/4ivmruUSl2R268qT6CZG',\n",
       "    'contents': 'https://api.planet.com/hosted-data/v1/folders/4ivmruUSl2R268qT6CZG/contents'}},\n",
       "  {'id': 'URLq49qxTEhrfxbi5qry',\n",
       "   'name': 'Milne Ice Shelf Collapse',\n",
       "   'description': '',\n",
       "   'created': '2020-09-11T17:42:02.772Z',\n",
       "   'updated': '2021-09-11T02:09:51.856Z',\n",
       "   'active_count': 53,\n",
       "   '_owner': False,\n",
       "   '_permissions': [{'allow': True, 'action': 'can-read'}],\n",
       "   '_links': {'self': 'https://api.planet.com/hosted-data/v1/folders/URLq49qxTEhrfxbi5qry',\n",
       "    'contents': 'https://api.planet.com/hosted-data/v1/folders/URLq49qxTEhrfxbi5qry/contents'}}],\n",
       " '_links': {'self': 'https://api.planet.com/hosted-data/v1/folders'}}"
      ]
     },
     "execution_count": 50,
     "metadata": {},
     "output_type": "execute_result"
    }
   ],
   "source": [
    "response.json()"
   ]
  },
  {
   "cell_type": "markdown",
   "id": "bed919ef",
   "metadata": {},
   "source": [
    "### Use the Hosted Data API to Create & Delete Folders"
   ]
  },
  {
   "cell_type": "markdown",
   "id": "29baa037",
   "metadata": {},
   "source": [
    "#### Create a Hosted Data Folder"
   ]
  },
  {
   "cell_type": "code",
   "execution_count": 64,
   "id": "2512d836",
   "metadata": {},
   "outputs": [],
   "source": [
    "# set content type to json\n",
    "headers = {'content-type': 'application/json'}"
   ]
  },
  {
   "cell_type": "code",
   "execution_count": 80,
   "id": "35a51c49",
   "metadata": {},
   "outputs": [],
   "source": [
    "# include the name of the folder you would like to create in the request\n",
    "request = {\"name\":\"test_folder\"}"
   ]
  },
  {
   "cell_type": "code",
   "execution_count": 66,
   "id": "1d3a0fac",
   "metadata": {},
   "outputs": [
    {
     "data": {
      "text/plain": [
       "<Response [201]>"
      ]
     },
     "execution_count": 66,
     "metadata": {},
     "output_type": "execute_result"
    }
   ],
   "source": [
    "response = requests.post(hd_url, data=json.dumps(request), auth=session.auth, headers=headers)\n",
    "response"
   ]
  },
  {
   "cell_type": "markdown",
   "id": "7edee385",
   "metadata": {},
   "source": [
    "A 201 Response means that our folder has been created!\n",
    "\n",
    "We can see our new folder `test_folder` by looking at the json response:"
   ]
  },
  {
   "cell_type": "code",
   "execution_count": 67,
   "id": "8bb28163",
   "metadata": {
    "scrolled": false
   },
   "outputs": [
    {
     "data": {
      "text/plain": [
       "{'id': 'KxhbEZUIsSNtBSZc4G8b',\n",
       " 'name': 'test_folder1',\n",
       " 'description': '',\n",
       " 'created': '2023-01-17T23:39:30.579933Z',\n",
       " 'updated': '2023-01-17T23:39:30.579933Z',\n",
       " 'active_count': 0,\n",
       " '_owner': True,\n",
       " '_permissions': [{'allow': True, 'action': 'can-read'},\n",
       "  {'allow': True, 'action': 'can-write'}],\n",
       " '_links': {'self': 'https://api.planet.com/hosted-data/v1/folders/KxhbEZUIsSNtBSZc4G8b',\n",
       "  'contents': 'https://api.planet.com/hosted-data/v1/folders/KxhbEZUIsSNtBSZc4G8b/contents'}}"
      ]
     },
     "execution_count": 67,
     "metadata": {},
     "output_type": "execute_result"
    }
   ],
   "source": [
    "response.json()"
   ]
  },
  {
   "cell_type": "markdown",
   "id": "a07fd63d",
   "metadata": {},
   "source": [
    "#### Delete a Hosted Data Folder"
   ]
  },
  {
   "cell_type": "code",
   "execution_count": 81,
   "id": "132aa175",
   "metadata": {},
   "outputs": [],
   "source": [
    "# Get the folder URL using the ID of the folder we just created\n",
    "folder_url = hd_url + '/' + response.json()['id']"
   ]
  },
  {
   "cell_type": "code",
   "execution_count": 82,
   "id": "877809b4",
   "metadata": {},
   "outputs": [
    {
     "data": {
      "text/plain": [
       "<Response [204]>"
      ]
     },
     "execution_count": 82,
     "metadata": {},
     "output_type": "execute_result"
    }
   ],
   "source": [
    "# Send a delete request to the API\n",
    "response = requests.delete(folder_url, auth=session.auth)\n",
    "response"
   ]
  },
  {
   "cell_type": "markdown",
   "id": "40b0a2ba",
   "metadata": {},
   "source": [
    "A 204 Response means that our request has succeeded, and there's no more info that needs to be returned to the response body.\n",
    "\n",
    "We can confirm this by listing out our folders again. Notice that our `test_folder` is gone!"
   ]
  },
  {
   "cell_type": "code",
   "execution_count": 83,
   "id": "ba58c38b",
   "metadata": {
    "scrolled": true
   },
   "outputs": [
    {
     "data": {
      "text/plain": [
       "{'folders': [{'id': '3gIdabfXpEGyJKB710Jh',\n",
       "   'name': 'Cleveland waterfront',\n",
       "   'description': '',\n",
       "   'created': '2021-07-21T14:59:35.467Z',\n",
       "   'updated': '2022-09-20T19:39:44.597Z',\n",
       "   'active_count': 5,\n",
       "   '_owner': False,\n",
       "   '_permissions': [{'allow': True, 'action': 'can-read'}],\n",
       "   '_links': {'self': 'https://api.planet.com/hosted-data/v1/folders/3gIdabfXpEGyJKB710Jh',\n",
       "    'contents': 'https://api.planet.com/hosted-data/v1/folders/3gIdabfXpEGyJKB710Jh/contents'}},\n",
       "  {'id': 'afMB5gjjxsmXnCG2of5I',\n",
       "   'name': 'Port of Long Beach Monitoring',\n",
       "   'description': '',\n",
       "   'created': '2021-03-17T21:28:44.364Z',\n",
       "   'updated': '2021-03-17T22:52:34.28Z',\n",
       "   'active_count': 4,\n",
       "   '_owner': False,\n",
       "   '_permissions': [{'allow': True, 'action': 'can-read'}],\n",
       "   '_links': {'self': 'https://api.planet.com/hosted-data/v1/folders/afMB5gjjxsmXnCG2of5I',\n",
       "    'contents': 'https://api.planet.com/hosted-data/v1/folders/afMB5gjjxsmXnCG2of5I/contents'}},\n",
       "  {'id': 'g7GoGYrJEbSWgL3nLcKM',\n",
       "   'name': 'Mageshima Airfield Obstruction',\n",
       "   'description': '',\n",
       "   'created': '2020-09-24T19:31:38.121Z',\n",
       "   'updated': '2021-10-19T06:04:56.475Z',\n",
       "   'active_count': 4,\n",
       "   '_owner': False,\n",
       "   '_permissions': [{'allow': True, 'action': 'can-read'}],\n",
       "   '_links': {'self': 'https://api.planet.com/hosted-data/v1/folders/g7GoGYrJEbSWgL3nLcKM',\n",
       "    'contents': 'https://api.planet.com/hosted-data/v1/folders/g7GoGYrJEbSWgL3nLcKM/contents'}},\n",
       "  {'id': '95BTuJZhQalWBOm20pBM',\n",
       "   'name': 'Apalachicola Forest Insect Infestation',\n",
       "   'description': '',\n",
       "   'created': '2020-09-24T17:41:57.843Z',\n",
       "   'updated': '2021-05-11T00:38:45.159Z',\n",
       "   'active_count': 12,\n",
       "   '_owner': False,\n",
       "   '_permissions': [{'allow': True, 'action': 'can-read'}],\n",
       "   '_links': {'self': 'https://api.planet.com/hosted-data/v1/folders/95BTuJZhQalWBOm20pBM',\n",
       "    'contents': 'https://api.planet.com/hosted-data/v1/folders/95BTuJZhQalWBOm20pBM/contents'}},\n",
       "  {'id': 'AyglWwREGkumZ87BtTBO',\n",
       "   'name': 'Saginaw River Flooding',\n",
       "   'description': '',\n",
       "   'created': '2020-09-24T17:37:19.205Z',\n",
       "   'updated': '2021-05-12T23:15:01.617Z',\n",
       "   'active_count': 13,\n",
       "   '_owner': False,\n",
       "   '_permissions': [{'allow': True, 'action': 'can-read'}],\n",
       "   '_links': {'self': 'https://api.planet.com/hosted-data/v1/folders/AyglWwREGkumZ87BtTBO',\n",
       "    'contents': 'https://api.planet.com/hosted-data/v1/folders/AyglWwREGkumZ87BtTBO/contents'}},\n",
       "  {'id': 'N2o99aeYnDqHp2S1AKmC',\n",
       "   'name': 'Big Basin Forest Fire Burn Scars ',\n",
       "   'description': '',\n",
       "   'created': '2020-09-24T17:32:48.618Z',\n",
       "   'updated': '2021-05-11T15:22:21.068Z',\n",
       "   'active_count': 20,\n",
       "   '_owner': False,\n",
       "   '_permissions': [{'allow': True, 'action': 'can-read'}],\n",
       "   '_links': {'self': 'https://api.planet.com/hosted-data/v1/folders/N2o99aeYnDqHp2S1AKmC',\n",
       "    'contents': 'https://api.planet.com/hosted-data/v1/folders/N2o99aeYnDqHp2S1AKmC/contents'}},\n",
       "  {'id': '4ivmruUSl2R268qT6CZG',\n",
       "   'name': 'Iowa Fields Weather Impact',\n",
       "   'description': '',\n",
       "   'created': '2020-09-24T17:29:15.049Z',\n",
       "   'updated': '2020-09-24T17:52:32.166Z',\n",
       "   'active_count': 9,\n",
       "   '_owner': False,\n",
       "   '_permissions': [{'allow': True, 'action': 'can-read'}],\n",
       "   '_links': {'self': 'https://api.planet.com/hosted-data/v1/folders/4ivmruUSl2R268qT6CZG',\n",
       "    'contents': 'https://api.planet.com/hosted-data/v1/folders/4ivmruUSl2R268qT6CZG/contents'}},\n",
       "  {'id': 'URLq49qxTEhrfxbi5qry',\n",
       "   'name': 'Milne Ice Shelf Collapse',\n",
       "   'description': '',\n",
       "   'created': '2020-09-11T17:42:02.772Z',\n",
       "   'updated': '2021-09-11T02:09:51.856Z',\n",
       "   'active_count': 53,\n",
       "   '_owner': False,\n",
       "   '_permissions': [{'allow': True, 'action': 'can-read'}],\n",
       "   '_links': {'self': 'https://api.planet.com/hosted-data/v1/folders/URLq49qxTEhrfxbi5qry',\n",
       "    'contents': 'https://api.planet.com/hosted-data/v1/folders/URLq49qxTEhrfxbi5qry/contents'}}],\n",
       " '_links': {'self': 'https://api.planet.com/hosted-data/v1/folders'}}"
      ]
     },
     "execution_count": 83,
     "metadata": {},
     "output_type": "execute_result"
    }
   ],
   "source": [
    "response = requests.get(hd_url, auth=session.auth)\n",
    "response.json()"
   ]
  },
  {
   "cell_type": "markdown",
   "id": "84dc6235",
   "metadata": {},
   "source": [
    "### Order Images to a Hosted Data Folder Using the Orders API"
   ]
  },
  {
   "cell_type": "markdown",
   "id": "747b105b",
   "metadata": {},
   "source": [
    "Let's start by creating a folder once more since we deleted our original folder above."
   ]
  },
  {
   "cell_type": "code",
   "execution_count": 84,
   "id": "53436c3c",
   "metadata": {},
   "outputs": [
    {
     "data": {
      "text/plain": [
       "{'id': 'a0pbNXEEKh2etbFOKovd',\n",
       " 'name': 'test_folder',\n",
       " 'description': '',\n",
       " 'created': '2023-01-17T23:51:42.731723Z',\n",
       " 'updated': '2023-01-17T23:51:42.731723Z',\n",
       " 'active_count': 0,\n",
       " '_owner': True,\n",
       " '_permissions': [{'allow': True, 'action': 'can-read'},\n",
       "  {'allow': True, 'action': 'can-write'}],\n",
       " '_links': {'self': 'https://api.planet.com/hosted-data/v1/folders/a0pbNXEEKh2etbFOKovd',\n",
       "  'contents': 'https://api.planet.com/hosted-data/v1/folders/a0pbNXEEKh2etbFOKovd/contents'}}"
      ]
     },
     "execution_count": 84,
     "metadata": {},
     "output_type": "execute_result"
    }
   ],
   "source": [
    "# Create our `test_folder` once again\n",
    "response = requests.post(hd_url, data=json.dumps(request), auth=session.auth, headers=headers)\n",
    "response.json()"
   ]
  },
  {
   "cell_type": "code",
   "execution_count": 94,
   "id": "5b836ec0",
   "metadata": {},
   "outputs": [],
   "source": [
    "folder_id = response.json()['id']"
   ]
  },
  {
   "cell_type": "markdown",
   "id": "d8f64f25",
   "metadata": {},
   "source": [
    "Now, we can order images to this folder using the Orders API. There are a few steps involved:\n",
    "1) Identify data to be ordered  \n",
    "2) Build the order request  \n",
    "3) Create and deliver the order to our hosted data folder"
   ]
  },
  {
   "cell_type": "markdown",
   "id": "9e68ae35",
   "metadata": {},
   "source": [
    "#### Identify Data To Be Ordered"
   ]
  },
  {
   "cell_type": "code",
   "execution_count": 85,
   "id": "1ea376db",
   "metadata": {},
   "outputs": [],
   "source": [
    "# The area of interest (AOI) defined as a polygon\n",
    "iowa_aoi = {\n",
    "    \"type\":\n",
    "    \"Polygon\",\n",
    "    \"coordinates\": [[[-91.198465, 42.893071], [-91.121931, 42.893071],\n",
    "                     [-91.121931, 42.946205], [-91.198465, 42.946205],\n",
    "                     [-91.198465, 42.893071]]]\n",
    "}\n",
    "\n",
    "# The item IDs we wish to order\n",
    "iowa_images = ['20200925_161029_69_2223', '20200925_161027_48_2223']"
   ]
  },
  {
   "cell_type": "markdown",
   "id": "56879acf",
   "metadata": {},
   "source": [
    "#### Build the Order Request"
   ]
  },
  {
   "cell_type": "markdown",
   "id": "eeb066dd",
   "metadata": {},
   "source": [
    "We don't yet have SDK suport for Hosted Data order requests so we'll need to build this json manually for now.\n",
    "\n",
    "In this example, we are looking at some `item_ids` that correspond to `PSScene` images for a location in Iowa. For more information and examples on how to identify the item IDs corresponding to your needs, please see the [Data API documentation on our Developer Center](https://developers.planet.com/docs/apis/data/) and our Data API [jupyter notebooks](https://github.com/planetlabs/notebooks/blob/master/jupyter-notebooks/data-api-tutorials)."
   ]
  },
  {
   "cell_type": "code",
   "execution_count": 163,
   "id": "7424ee9b",
   "metadata": {},
   "outputs": [],
   "source": [
    "# Note that we're using the `folder_id` we just created.\n",
    "\n",
    "iowa_order ={\n",
    "'name': 'iowa_order',\n",
    " 'products': [{'item_ids': ['20200925_161029_69_2223', '20200925_161027_48_2223'],\n",
    "               'item_type': 'PSScene',\n",
    "               'product_bundle': 'analytic_sr_udm2'}],\n",
    "    'delivery': {\n",
    "        'planet_folders': {\n",
    "            'folder_id': folder_id}}}"
   ]
  },
  {
   "cell_type": "code",
   "execution_count": 164,
   "id": "17712879",
   "metadata": {
    "scrolled": true
   },
   "outputs": [
    {
     "data": {
      "text/plain": [
       "{'name': 'iowa_order',\n",
       " 'products': [{'item_ids': ['20200925_161029_69_2223',\n",
       "    '20200925_161027_48_2223'],\n",
       "   'item_type': 'PSScene',\n",
       "   'product_bundle': 'analytic_sr_udm2'}],\n",
       " 'delivery': {'planet_folders': {'folder_id': 'a0pbNXEEKh2etbFOKovd'}}}"
      ]
     },
     "execution_count": 164,
     "metadata": {},
     "output_type": "execute_result"
    }
   ],
   "source": [
    "# view our order request\n",
    "iowa_order"
   ]
  },
  {
   "cell_type": "markdown",
   "id": "7f0de2b0",
   "metadata": {},
   "source": [
    "#### Create and Deliver the Order"
   ]
  },
  {
   "cell_type": "markdown",
   "id": "1c1002c3",
   "metadata": {},
   "source": [
    "First, we will create a function that will allow us to to create the order and wait until it is completed. Then, we will run this function using the Planet Orders Client."
   ]
  },
  {
   "cell_type": "code",
   "execution_count": 172,
   "id": "d0412f3a",
   "metadata": {},
   "outputs": [],
   "source": [
    "async def create_and_deliver_order(order_request, client):\n",
    "    '''Create and deliver an order.\n",
    "\n",
    "    Parameters:\n",
    "        order_request: An order request\n",
    "        client: An Order client object\n",
    "    '''\n",
    "    with planet.reporting.StateBar(state='creating') as reporter:\n",
    "        # Place an order to the Orders API\n",
    "        order = await client.create_order(order_request)\n",
    "        reporter.update(state='created', order_id=order['id'])\n",
    "        # Wait while the order is being completed\n",
    "        await client.wait(order['id'],\n",
    "                          callback=reporter.update_state,\n",
    "                          max_attempts=0)\n",
    "\n",
    "    # Grab the details of the orders\n",
    "    order_details = await client.get_order(order_id=order['id'])\n",
    "\n",
    "    return order_details"
   ]
  },
  {
   "cell_type": "code",
   "execution_count": 166,
   "id": "c485aa57",
   "metadata": {},
   "outputs": [
    {
     "name": "stderr",
     "output_type": "stream",
     "text": [
      "04:31 - order 1796ec73-1151-471b-a91e-99b4ff7cbccb - state: success\n"
     ]
    }
   ],
   "source": [
    "async with planet.Session() as ps:\n",
    "    # The Orders API client\n",
    "    client = planet.OrdersClient(ps)\n",
    "    # Create the order and deliver it to our Hosted Data Folder\n",
    "    order_details = await create_and_deliver_order(iowa_order, client)"
   ]
  },
  {
   "cell_type": "code",
   "execution_count": 167,
   "id": "096efe61",
   "metadata": {},
   "outputs": [
    {
     "data": {
      "text/plain": [
       "{'_links': {'_self': 'https://api.planet.com/compute/ops/orders/v2/1796ec73-1151-471b-a91e-99b4ff7cbccb',\n",
       "  'results': [{'delivery': 'success',\n",
       "    'expires_at': '0001-01-01T00:00:00.000Z',\n",
       "    'name': 'org-1/user:345186/folder-a0pbNXEEKh2etbFOKovd/1796ec73-1151-471b-a91e-99b4ff7cbccb/PSScene/20200925_161027_48_2223_3B_udm2.tif'},\n",
       "   {'delivery': 'success',\n",
       "    'expires_at': '0001-01-01T00:00:00.000Z',\n",
       "    'name': 'org-1/user:345186/folder-a0pbNXEEKh2etbFOKovd/1796ec73-1151-471b-a91e-99b4ff7cbccb/PSScene/20200925_161027_48_2223_3B_AnalyticMS_metadata.xml'},\n",
       "   {'delivery': 'success',\n",
       "    'expires_at': '0001-01-01T00:00:00.000Z',\n",
       "    'name': 'org-1/user:345186/folder-a0pbNXEEKh2etbFOKovd/1796ec73-1151-471b-a91e-99b4ff7cbccb/PSScene/20200925_161027_48_2223_3B_AnalyticMS_SR.tif'},\n",
       "   {'delivery': 'success',\n",
       "    'expires_at': '0001-01-01T00:00:00.000Z',\n",
       "    'name': 'org-1/user:345186/folder-a0pbNXEEKh2etbFOKovd/1796ec73-1151-471b-a91e-99b4ff7cbccb/PSScene/20200925_161027_48_2223_metadata.json'},\n",
       "   {'delivery': 'success',\n",
       "    'expires_at': '0001-01-01T00:00:00.000Z',\n",
       "    'name': 'org-1/user:345186/folder-a0pbNXEEKh2etbFOKovd/1796ec73-1151-471b-a91e-99b4ff7cbccb/PSScene/20200925_161029_69_2223_3B_udm2.tif'},\n",
       "   {'delivery': 'success',\n",
       "    'expires_at': '0001-01-01T00:00:00.000Z',\n",
       "    'name': 'org-1/user:345186/folder-a0pbNXEEKh2etbFOKovd/1796ec73-1151-471b-a91e-99b4ff7cbccb/PSScene/20200925_161029_69_2223_3B_AnalyticMS_metadata.xml'},\n",
       "   {'delivery': 'success',\n",
       "    'expires_at': '0001-01-01T00:00:00.000Z',\n",
       "    'name': 'org-1/user:345186/folder-a0pbNXEEKh2etbFOKovd/1796ec73-1151-471b-a91e-99b4ff7cbccb/PSScene/20200925_161029_69_2223_3B_AnalyticMS_SR.tif'},\n",
       "   {'delivery': 'success',\n",
       "    'expires_at': '0001-01-01T00:00:00.000Z',\n",
       "    'name': 'org-1/user:345186/folder-a0pbNXEEKh2etbFOKovd/1796ec73-1151-471b-a91e-99b4ff7cbccb/PSScene/20200925_161029_69_2223_metadata.json'},\n",
       "   {'delivery': 'success',\n",
       "    'expires_at': '0001-01-01T00:00:00.000Z',\n",
       "    'name': 'org-0/user:0/folder-a0pbNXEEKh2etbFOKovd/1796ec73-1151-471b-a91e-99b4ff7cbccb/1796ec73-1151-471b-a91e-99b4ff7cbccb/manifest.json'}]},\n",
       " 'created_on': '2023-01-18T23:18:09.734Z',\n",
       " 'delivery': {'planet_folders': {'folder_id': 'a0pbNXEEKh2etbFOKovd'}},\n",
       " 'error_hints': [],\n",
       " 'id': '1796ec73-1151-471b-a91e-99b4ff7cbccb',\n",
       " 'last_message': 'Manifest delivery completed',\n",
       " 'last_modified': '2023-01-18T23:22:39.317Z',\n",
       " 'name': 'iowa_order',\n",
       " 'products': [{'item_ids': ['20200925_161029_69_2223',\n",
       "    '20200925_161027_48_2223'],\n",
       "   'item_type': 'PSScene',\n",
       "   'product_bundle': 'analytic_sr_udm2'}],\n",
       " 'state': 'success'}"
      ]
     },
     "execution_count": 167,
     "metadata": {},
     "output_type": "execute_result"
    }
   ],
   "source": [
    "# Let's look at the details of the order that we just placed.\n",
    "order_details"
   ]
  },
  {
   "cell_type": "markdown",
   "id": "f0e778c9",
   "metadata": {},
   "source": [
    "Note that now, when we look at at the first item in our Hosted Data URL response, we see that our test folder has been populated, and the `updated` field reflects when the new items were added."
   ]
  },
  {
   "cell_type": "code",
   "execution_count": 170,
   "id": "e0b2d002",
   "metadata": {},
   "outputs": [
    {
     "data": {
      "text/plain": [
       "{'id': 'a0pbNXEEKh2etbFOKovd',\n",
       " 'name': 'test_folder',\n",
       " 'description': '',\n",
       " 'created': '2023-01-17T23:51:42.731723Z',\n",
       " 'updated': '2023-01-18T23:21:09.078909Z',\n",
       " 'active_count': 2,\n",
       " '_owner': True,\n",
       " '_permissions': [{'allow': True, 'action': 'can-read'},\n",
       "  {'allow': True, 'action': 'can-write'}],\n",
       " '_links': {'self': 'https://api.planet.com/hosted-data/v1/folders/a0pbNXEEKh2etbFOKovd',\n",
       "  'contents': 'https://api.planet.com/hosted-data/v1/folders/a0pbNXEEKh2etbFOKovd/contents'}}"
      ]
     },
     "execution_count": 170,
     "metadata": {},
     "output_type": "execute_result"
    }
   ],
   "source": [
    "response = requests.get(hd_url, auth=session.auth)\n",
    "response.json()['folders'][0]"
   ]
  },
  {
   "cell_type": "markdown",
   "id": "38509dea",
   "metadata": {},
   "source": [
    "### Listing Images in Hosted Data Folders as STAC"
   ]
  },
  {
   "cell_type": "markdown",
   "id": "7aa5b349",
   "metadata": {},
   "source": [
    "TBD"
   ]
  },
  {
   "cell_type": "markdown",
   "id": "549d07d0",
   "metadata": {},
   "source": [
    "### Stream a Hosted Data COG"
   ]
  },
  {
   "cell_type": "markdown",
   "id": "587a3c1f",
   "metadata": {},
   "source": [
    "TBD"
   ]
  },
  {
   "cell_type": "markdown",
   "id": "5fabb78a",
   "metadata": {},
   "source": [
    "### Stream an XYZ Tile Service for Images in Hosted Data Folders "
   ]
  },
  {
   "cell_type": "markdown",
   "id": "dcbb7250",
   "metadata": {},
   "source": [
    "TBD"
   ]
  }
 ],
 "metadata": {
  "kernelspec": {
   "display_name": "Python 3 (ipykernel)",
   "language": "python",
   "name": "python3"
  },
  "language_info": {
   "codemirror_mode": {
    "name": "ipython",
    "version": 3
   },
   "file_extension": ".py",
   "mimetype": "text/x-python",
   "name": "python",
   "nbconvert_exporter": "python",
   "pygments_lexer": "ipython3",
   "version": "3.8.13"
  }
 },
 "nbformat": 4,
 "nbformat_minor": 5
}
