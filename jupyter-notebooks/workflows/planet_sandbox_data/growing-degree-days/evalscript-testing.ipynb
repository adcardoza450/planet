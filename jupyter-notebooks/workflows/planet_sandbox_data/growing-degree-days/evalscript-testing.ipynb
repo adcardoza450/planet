{
 "cells": [
  {
   "cell_type": "markdown",
   "metadata": {},
   "source": [
    "# Calculating Thermal Time from Land Surface Temperature. \n",
    "\n",
    "This Jupyter Notebook demonstrates how to calculate Thermal Time or Growing Degree Days based on the Land Surface Temperature product using the Processing API.\n",
    "\n",
    "In this example, cumulative thermal time is calcualted for a single field. "
   ]
  },
  {
   "cell_type": "code",
   "execution_count": 1,
   "metadata": {},
   "outputs": [],
   "source": [
    "import json\n",
    "import numpy as np\n",
    "import folium\n",
    "\n",
    "import pandas as pd\n",
    "import matplotlib.pyplot as plt\n",
    "from shapely.geometry import Polygon\n",
    "import sentinelhub\n",
    "from sentinelhub import (\n",
    "    SHConfig,\n",
    "    Geometry,\n",
    "    CRS,\n",
    "    SentinelHubStatistical,\n",
    "    DataCollection,\n",
    "    SentinelHubDownloadClient,\n",
    ")\n",
    "\n"
   ]
  },
  {
   "cell_type": "markdown",
   "metadata": {},
   "source": [
    "## Credentials\n",
    "To obtain your `client_id` & `client_secret`, you need to navigate to your [Dashboard](https://apps.sentinel-hub.com/dashboard/#/). In the User Settings, you can create a new OAuth client to generate these credentials. More detailed instructions can be found on the corresponding documentation page.\n",
    "\n",
    "Now that you have your `client_id` & `client_secret`, it is recommended to configure a new profile in your Sentinel Hub Python package. Instructions on how to configure your Sentinel Hub Python package can be found [here](https://sentinelhub-py.readthedocs.io/en/latest/configure.html). This is useful as changes to the config class in your notebook are usually only temporary and by saving the configuration to your profile, you don't have to generate new credentials or overwrite/change the default profile every time you run or write a new Jupyter Notebook."
   ]
  },
  {
   "cell_type": "code",
   "execution_count": 2,
   "metadata": {},
   "outputs": [
    {
     "name": "stdout",
     "output_type": "stream",
     "text": [
      "Connected to Sentinel Hub\n"
     ]
    }
   ],
   "source": [
    "config = SHConfig()\n",
    "\n",
    "if not config.sh_client_id or not config.sh_client_secret:\n",
    "    print(\"No credentials found, please provide the OAuth client ID and secret.\")\n",
    "else:\n",
    "    print(\"Connected to Sentinel Hub\")"
   ]
  },
  {
   "cell_type": "markdown",
   "metadata": {},
   "source": [
    "### Define Field of Interest \n",
    "\n",
    "In this example a field of interest has been selected in Des Moines, Iowa USA. The field boundary is defined as a GeoJSON file in EPSG:4326. We will read the geoJSON and plot the area of interest."
   ]
  },
  {
   "cell_type": "code",
   "execution_count": 22,
   "metadata": {},
   "outputs": [],
   "source": [
    "# Read a geojson containing a polygon representing the city of Bordeaux, France\n",
    "with open(\"./../example_data/des_moines_FOI.geojson\") as file:\n",
    "    foi_json = json.load(file)\n",
    "\n",
    "# Load GeoJSON into a shapely polygon\n",
    "foi_polygon = Polygon(foi_json[\"features\"][0][\"geometry\"][\"coordinates\"][0])\n",
    "\n",
    "# Convert shapely polygon to a Sentinel Hub geometry\n",
    "foi = Geometry(foi_polygon, crs=CRS(4326))"
   ]
  },
  {
   "cell_type": "code",
   "execution_count": 23,
   "metadata": {},
   "outputs": [
    {
     "data": {
      "text/html": [
       "<div style=\"width:100%;\"><div style=\"position:relative;width:100%;height:0;padding-bottom:60%;\"><span style=\"color:#565656\">Make this Notebook Trusted to load map: File -> Trust Notebook</span><iframe srcdoc=\"&lt;!DOCTYPE html&gt;\n",
       "&lt;html&gt;\n",
       "&lt;head&gt;\n",
       "    \n",
       "    &lt;meta http-equiv=&quot;content-type&quot; content=&quot;text/html; charset=UTF-8&quot; /&gt;\n",
       "    \n",
       "        &lt;script&gt;\n",
       "            L_NO_TOUCH = false;\n",
       "            L_DISABLE_3D = false;\n",
       "        &lt;/script&gt;\n",
       "    \n",
       "    &lt;style&gt;html, body {width: 100%;height: 100%;margin: 0;padding: 0;}&lt;/style&gt;\n",
       "    &lt;style&gt;#map {position:absolute;top:0;bottom:0;right:0;left:0;}&lt;/style&gt;\n",
       "    &lt;script src=&quot;https://cdn.jsdelivr.net/npm/leaflet@1.9.3/dist/leaflet.js&quot;&gt;&lt;/script&gt;\n",
       "    &lt;script src=&quot;https://code.jquery.com/jquery-3.7.1.min.js&quot;&gt;&lt;/script&gt;\n",
       "    &lt;script src=&quot;https://cdn.jsdelivr.net/npm/bootstrap@5.2.2/dist/js/bootstrap.bundle.min.js&quot;&gt;&lt;/script&gt;\n",
       "    &lt;script src=&quot;https://cdnjs.cloudflare.com/ajax/libs/Leaflet.awesome-markers/2.0.2/leaflet.awesome-markers.js&quot;&gt;&lt;/script&gt;\n",
       "    &lt;link rel=&quot;stylesheet&quot; href=&quot;https://cdn.jsdelivr.net/npm/leaflet@1.9.3/dist/leaflet.css&quot;/&gt;\n",
       "    &lt;link rel=&quot;stylesheet&quot; href=&quot;https://cdn.jsdelivr.net/npm/bootstrap@5.2.2/dist/css/bootstrap.min.css&quot;/&gt;\n",
       "    &lt;link rel=&quot;stylesheet&quot; href=&quot;https://netdna.bootstrapcdn.com/bootstrap/3.0.0/css/bootstrap-glyphicons.css&quot;/&gt;\n",
       "    &lt;link rel=&quot;stylesheet&quot; href=&quot;https://cdn.jsdelivr.net/npm/@fortawesome/fontawesome-free@6.2.0/css/all.min.css&quot;/&gt;\n",
       "    &lt;link rel=&quot;stylesheet&quot; href=&quot;https://cdnjs.cloudflare.com/ajax/libs/Leaflet.awesome-markers/2.0.2/leaflet.awesome-markers.css&quot;/&gt;\n",
       "    &lt;link rel=&quot;stylesheet&quot; href=&quot;https://cdn.jsdelivr.net/gh/python-visualization/folium/folium/templates/leaflet.awesome.rotate.min.css&quot;/&gt;\n",
       "    \n",
       "            &lt;meta name=&quot;viewport&quot; content=&quot;width=device-width,\n",
       "                initial-scale=1.0, maximum-scale=1.0, user-scalable=no&quot; /&gt;\n",
       "            &lt;style&gt;\n",
       "                #map_2335e9c5acfa33f1daa6a3b69ca16053 {\n",
       "                    position: relative;\n",
       "                    width: 100.0%;\n",
       "                    height: 100.0%;\n",
       "                    left: 0.0%;\n",
       "                    top: 0.0%;\n",
       "                }\n",
       "                .leaflet-container { font-size: 1rem; }\n",
       "            &lt;/style&gt;\n",
       "        \n",
       "&lt;/head&gt;\n",
       "&lt;body&gt;\n",
       "    \n",
       "    \n",
       "            &lt;div class=&quot;folium-map&quot; id=&quot;map_2335e9c5acfa33f1daa6a3b69ca16053&quot; &gt;&lt;/div&gt;\n",
       "        \n",
       "&lt;/body&gt;\n",
       "&lt;script&gt;\n",
       "    \n",
       "    \n",
       "            var map_2335e9c5acfa33f1daa6a3b69ca16053 = L.map(\n",
       "                &quot;map_2335e9c5acfa33f1daa6a3b69ca16053&quot;,\n",
       "                {\n",
       "                    center: [41.252547823967944, -93.93410028940352],\n",
       "                    crs: L.CRS.EPSG3857,\n",
       "                    zoom: 15,\n",
       "                    zoomControl: true,\n",
       "                    preferCanvas: false,\n",
       "                }\n",
       "            );\n",
       "\n",
       "            \n",
       "\n",
       "        \n",
       "    \n",
       "            var tile_layer_7940c13a1684476be564b4af3ea57d80 = L.tileLayer(\n",
       "                &quot;https://tile.openstreetmap.org/{z}/{x}/{y}.png&quot;,\n",
       "                {&quot;attribution&quot;: &quot;\\u0026copy; \\u003ca href=\\&quot;https://www.openstreetmap.org/copyright\\&quot;\\u003eOpenStreetMap\\u003c/a\\u003e contributors&quot;, &quot;detectRetina&quot;: false, &quot;maxNativeZoom&quot;: 19, &quot;maxZoom&quot;: 19, &quot;minZoom&quot;: 0, &quot;noWrap&quot;: false, &quot;opacity&quot;: 1, &quot;subdomains&quot;: &quot;abc&quot;, &quot;tms&quot;: false}\n",
       "            );\n",
       "        \n",
       "    \n",
       "            tile_layer_7940c13a1684476be564b4af3ea57d80.addTo(map_2335e9c5acfa33f1daa6a3b69ca16053);\n",
       "        \n",
       "    \n",
       "        function geo_json_28318572897e93e8cf91b13eeb35c313_styler(feature) {\n",
       "            switch(feature.id) {\n",
       "                default:\n",
       "                    return {&quot;fillColor&quot;: &quot;blue&quot;};\n",
       "            }\n",
       "        }\n",
       "\n",
       "        function geo_json_28318572897e93e8cf91b13eeb35c313_onEachFeature(feature, layer) {\n",
       "            layer.on({\n",
       "            });\n",
       "        };\n",
       "        var geo_json_28318572897e93e8cf91b13eeb35c313 = L.geoJson(null, {\n",
       "                onEachFeature: geo_json_28318572897e93e8cf91b13eeb35c313_onEachFeature,\n",
       "            \n",
       "                style: geo_json_28318572897e93e8cf91b13eeb35c313_styler,\n",
       "        });\n",
       "\n",
       "        function geo_json_28318572897e93e8cf91b13eeb35c313_add (data) {\n",
       "            geo_json_28318572897e93e8cf91b13eeb35c313\n",
       "                .addData(data);\n",
       "        }\n",
       "            geo_json_28318572897e93e8cf91b13eeb35c313_add({&quot;features&quot;: [{&quot;geometry&quot;: {&quot;coordinates&quot;: [[[-93.936496, 41.250814], [-93.936474, 41.254275], [-93.931721, 41.254307], [-93.931732, 41.250798], [-93.936496, 41.250814]]], &quot;type&quot;: &quot;Polygon&quot;}, &quot;id&quot;: &quot;0&quot;, &quot;type&quot;: &quot;Feature&quot;}], &quot;type&quot;: &quot;FeatureCollection&quot;});\n",
       "\n",
       "        \n",
       "    \n",
       "            geo_json_28318572897e93e8cf91b13eeb35c313.addTo(map_2335e9c5acfa33f1daa6a3b69ca16053);\n",
       "        \n",
       "&lt;/script&gt;\n",
       "&lt;/html&gt;\" style=\"position:absolute;width:100%;height:100%;left:0;top:0;border:none !important;\" allowfullscreen webkitallowfullscreen mozallowfullscreen></iframe></div></div>"
      ],
      "text/plain": [
       "<folium.folium.Map at 0x7fc9d903a9a0>"
      ]
     },
     "execution_count": 23,
     "metadata": {},
     "output_type": "execute_result"
    }
   ],
   "source": [
    "# Plot the field on an interactive map\n",
    "m = folium.Map(\n",
    "    location=[\n",
    "        foi_polygon.centroid.coords.xy[1][0],\n",
    "        foi_polygon.centroid.coords.xy[0][0],\n",
    "    ],\n",
    "    zoom_start=15,\n",
    "    tiles=\"OpenStreetMap\",\n",
    ")\n",
    "geo_j = folium.GeoJson(data=foi_polygon, style_function=lambda x: {\"fillColor\": \"blue\"})\n",
    "geo_j.add_to(m)\n",
    "m"
   ]
  },
  {
   "cell_type": "markdown",
   "metadata": {},
   "source": [
    "## Set link to the Planet Sandbox Collection\n",
    "\n",
    "Land Surface Temperature is available through the Subscriptions API. Once the area of interest and variables are subscribed to, the data can be automatically delivered into a Sentinel Hub collection if you use the Sentinel Hub delivery option.\n",
    "\n",
    "In this example, we will use the Land Surface Temperature collection available from Planet Sandbox Data.\n",
    "\n",
    "For more information on how to call a collection ID in a request with Python, you can refer to the sentinelhub-py documentation."
   ]
  },
  {
   "cell_type": "code",
   "execution_count": 81,
   "metadata": {},
   "outputs": [],
   "source": [
    "collection_id= \"8d977093-cf9e-4351-8159-90f2522c29c1\"\n",
    "data_collection = DataCollection.define_byoc(collection_id)"
   ]
  },
  {
   "cell_type": "markdown",
   "metadata": {},
   "source": [
    "## Calculating Thermal Time\n",
    "\n",
    "A time series for the field average daily minimum and and maximum temperature will be constructed using LST, linear regression and the Sentinel Hub Statistics API. The thermal time calulation will then be performed with a base development value of 10 degrees celcius, this value can be changed and should be set based on the crop in the field of interest. A cumulative calculation will be performed from the start date to the end date. \n",
    "\n",
    "We will perform the thermal time calculation with the following parameters:\n",
    "\n",
    "- The Sandbox Data collection Land Surface Temperature `(data_collection)`\n",
    "- Cumulative calculation from May 1st, 2018 to October 31st, 2018\n",
    "- At the native resolution (0.01 degree -> ±1km)\n",
    "- Using our previously defined function `(calculate_thermal_time)`\n",
    "- Calculated for each day `(P1D)`\n",
    "- Over the geometry our field of interest `(foi)`\n",
    "- Crop base development threshold of 10 degrees celcius. \n",
    "\n"
   ]
  },
  {
   "cell_type": "code",
   "execution_count": 27,
   "metadata": {},
   "outputs": [],
   "source": [
    "def get_time_series(temp_extreme : str, \n",
    "                    time_of_interest : tuple, \n",
    "                    input_data : sentinelhub.api.base_request.InputDataDict,\n",
    "                    parcel_geo : sentinelhub.geometry.Geometry,\n",
    "                    config : sentinelhub.config.SHConfig) -> pd.Series:\n",
    "    \n",
    "    \"\"\"Get time series of LST data from sentinel hub statstics API and addjust to daily temperature extreme\"\"\"\n",
    "\n",
    "    # set parameters for max or min temperature calculation \n",
    "    if temp_extreme == 'max': \n",
    "        sensing_time = '\"1330\"'\n",
    "        coefficient = 0.57263731\n",
    "        intercept = 5.93745546\n",
    "\n",
    "    if temp_extreme == 'min': \n",
    "        sensing_time= '\"0130\"'\n",
    "        coefficient = 0.3175429\n",
    "        intercept = 2.15137094\n",
    "\n",
    "    # eval script for getting time series and adjusting to daily temperature extreme\n",
    "    time_series_evalscript = f\"\"\"\n",
    "    //VERSION=3\n",
    "\n",
    "    function setup() {{\n",
    "        return {{\n",
    "            input: [{{bands: [\"LST\", \"dataMask\"]}}],\n",
    "            output: [\n",
    "                {{ id: \"LST\", bands: 1, sampleType: \"FLOAT32\" }},\n",
    "                {{ id: \"dataMask\", bands: 1, sampleType: \"UINT8\" }}\n",
    "            ],\n",
    "            mosaicking: \"TILE\"\n",
    "        }};\n",
    "    }}\n",
    "\n",
    "    // linear regression function\n",
    "    function applyLinearRegression(x) {{\n",
    "        return ({coefficient} * x) + {intercept}\n",
    "    }}\n",
    "\n",
    "\n",
    "    // Filter out scenes where the sensing time matches specified sensing time\n",
    "    function preProcessScenes (collections) {{\n",
    "        collections.scenes.tiles = collections.scenes.tiles.filter(function (tile) {{\n",
    "            return tile.dataPath.includes(\"T\"+{sensing_time});\n",
    "        }})\n",
    "        collections.scenes.tiles.sort((a, b) => new Date(b.date) - new Date(a.date));\n",
    "        return collections\n",
    "    }}\n",
    "\n",
    "    // Convert Land Surface Temperature to celcius and apply linear regression\n",
    "    function evaluatePixel(samples) {{\n",
    "\n",
    "        var sample = samples[0].LST\n",
    "        var nodata = samples[0].dataMask\n",
    "\n",
    "        //convert to celcius \n",
    "        var celcius = (sample / 100) - 273.5\n",
    "\n",
    "        //linear regression\n",
    "        var air_temp = applyLinearRegression(celcius)\n",
    "\n",
    "\n",
    "        return {{\n",
    "            LST: [celcius],\n",
    "            dataMask: [nodata]\n",
    "        }};\n",
    "    }}\n",
    "    \"\"\"\n",
    "    \n",
    "    # Set up Sentinel Hub request\n",
    "    request = SentinelHubStatistical(\n",
    "        aggregation=SentinelHubStatistical.aggregation(evalscript=time_series_evalscript, \n",
    "                                                       time_interval=time_of_interest, \n",
    "                                                       aggregation_interval=\"P1D\", \n",
    "                                                       resolution=(0.01, 0.01)),# SHOULD THIS BE HARDCODED? \n",
    "                                                       input_data=[input_data],\n",
    "                                                       geometry=parcel_geo,\n",
    "                                                       config=config,\n",
    "                                                        )\n",
    "\n",
    "    # Make request and download response\n",
    "    download_requests = [request.download_list[0]]\n",
    "    client = SentinelHubDownloadClient(config=config)\n",
    "    response = client.download(download_requests)\n",
    "\n",
    "    # Format response into Pandas dataframe\n",
    "    series = pd.json_normalize(response[0][\"data\"])\n",
    "    series['date'] = pd.to_datetime(series['interval.from'])\n",
    "    series['date'] = series['date'].dt.date\n",
    "    series.set_index('date', inplace=True)\n",
    "\n",
    "    series = series[['outputs.LST.bands.B0.stats.mean']].rename({'outputs.LST.bands.B0.stats.mean':temp_extreme}, axis= 1)\n",
    "    series[temp_extreme] = pd.to_numeric(series[temp_extreme], errors = 'coerce')\n",
    "\n",
    "    return series\n",
    "\n",
    "def calculate_thermal_time(time_of_interest : tuple, \n",
    "                           input_data : sentinelhub.api.base_request.InputDataDict, \n",
    "                           parcel_geo : sentinelhub.geometry.Geometry, \n",
    "                           config : sentinelhub.config.SHConfig,\n",
    "                           base_value : int, \n",
    "                           upper_value : int = 0) -> pd.Series:\n",
    "\n",
    "    # get max and min temp from Sentinel Hub Statistics API \n",
    "    max_temp = get_time_series('max', time_of_interest, input_data, parcel_geo, config)\n",
    "    min_temp = get_time_series('min', time_of_interest, input_data, parcel_geo, config)\n",
    "    temp_extremes =  max_temp.join(min_temp, how='outer')\n",
    "\n",
    "    # interpolate any missing days \n",
    "    temp_extremes = temp_extremes.interpolate()\n",
    "\n",
    "    # calcualate daily thermal time \n",
    "    temp_extremes[temp_extremes < base_value] = base_value\n",
    "    if upper_value != 0:\n",
    "        temp_extremes[temp_extremes > upper_value] = upper_value\n",
    "    \n",
    "    # Apply thermal time equation\n",
    "    temp_extremes['GDD'] = (temp_extremes['max'] + temp_extremes['min']) / 2 - base_value\n",
    "    temp_extremes[temp_extremes < 0] = 0 # handle any cases where daily min was greater than max \n",
    "\n",
    "    return temp_extremes['GDD'].cumsum()\n",
    "\n"
   ]
  },
  {
   "cell_type": "code",
   "execution_count": 30,
   "metadata": {},
   "outputs": [],
   "source": [
    "# LST input data\n",
    "input_data = SentinelHubStatistical.input_data(data_collection)\n",
    "\n",
    "# start and end date \n",
    "time_of_interest = '2018-04-01', '2018-10-31'\n",
    "\n",
    "# crop specific base value over which growth occurs\n",
    "base_value = 10\n",
    "\n",
    "thermal_time = calculate_thermal_time(time_of_interest = time_of_interest, \n",
    "                                      input_data = input_data, \n",
    "                                      parcel_geo = foi, \n",
    "                                      config = config, \n",
    "                                      base_value=base_value)"
   ]
  },
  {
   "cell_type": "code",
   "execution_count": 31,
   "metadata": {},
   "outputs": [
    {
     "data": {
      "text/plain": [
       "date\n",
       "2018-04-01    0.000000\n",
       "2018-04-02    0.000000\n",
       "2018-04-03    0.452500\n",
       "2018-04-04    2.562500\n",
       "2018-04-05    7.282501\n",
       "Name: GDD, dtype: float64"
      ]
     },
     "execution_count": 31,
     "metadata": {},
     "output_type": "execute_result"
    }
   ],
   "source": [
    "thermal_time.head()"
   ]
  },
  {
   "cell_type": "markdown",
   "metadata": {},
   "source": [
    "## Plot the result \n",
    "\n",
    "Plot cumulative thermal time against date."
   ]
  },
  {
   "cell_type": "code",
   "execution_count": 32,
   "metadata": {},
   "outputs": [
    {
     "data": {
      "image/png": "[encoded data removed]",
      "text/plain": [
       "<Figure size 640x480 with 1 Axes>"
      ]
     },
     "metadata": {},
     "output_type": "display_data"
    }
   ],
   "source": [
    "plt.plot(thermal_time.index, thermal_time)\n",
    "plt.ylabel('Cumulative Thermal Time')\n",
    "plt.xlabel('Date')\n",
    "plt.show()"
   ]
  },
  {
   "cell_type": "markdown",
   "metadata": {},
   "source": [
    "## Combining with other data sourc. \n",
    "\n",
    "Thermal time can also be used to compare growth conditions at the same development stage across fields or years better than day of year. \n",
    "\n",
    "We will now index Soil Water Content for the field of interest based on the thermal time rather than calander day to compare available water in the 2018, 2019 and 2020 seasons. \n",
    "\n",
    "First we will generate cumulative thermal time for all three seasons. "
   ]
  },
  {
   "cell_type": "code",
   "execution_count": 82,
   "metadata": {},
   "outputs": [],
   "source": [
    "# LST input data\n",
    "input_data = SentinelHubStatistical.input_data(data_collection)\n",
    "\n",
    "# Time of interest for each season\n",
    "season_windows = [('2018-04-01', '2018-10-31'), ('2019-04-10', '2019-10-10'), ('2020-04-22', '2020-10-05')]\n",
    "\n",
    "# crop specific base value over which growth occurs\n",
    "base_value = 10\n",
    "\n",
    "# Generate thermal time for each year\n",
    "thermal_time_data = {}\n",
    "\n",
    "for time_of_interest in season_windows:\n",
    "\n",
    "    thermal_time = calculate_thermal_time(time_of_interest = time_of_interest, \n",
    "                                        input_data = input_data, \n",
    "                                        parcel_geo = foi, \n",
    "                                        config = config, \n",
    "                                        base_value=base_value)\n",
    "    \n",
    "    thermal_time_data[time_of_interest[0].split('-')[0]] = thermal_time\n",
    "    \n"
   ]
  },
  {
   "cell_type": "markdown",
   "metadata": {},
   "source": [
    "Now we will extract the soil water content for our field of interest in the same time interval. \n",
    "\n",
    "We will use the Soil Water Content available in the Planet Sandbox Data and use the Sentinel Hub Statsitcs API to generate a time series of SWC data. "
   ]
  },
  {
   "cell_type": "code",
   "execution_count": 83,
   "metadata": {},
   "outputs": [],
   "source": [
    "# Set SWC collection ID as input \n",
    "collection_id= \"65f7e4fb-a27a-4fae-8d79-06a59d7e6ede\"\n",
    "data_collection = DataCollection.define_byoc(collection_id)\n"
   ]
  },
  {
   "cell_type": "code",
   "execution_count": 84,
   "metadata": {},
   "outputs": [],
   "source": [
    "# source SWC data in time series\n",
    "\n",
    "swc_time_series_evalscript = \"\"\"\n",
    "//VERSION=3\n",
    "function setup() {\n",
    "    return {\n",
    "        input: [{bands: [\"SWC\", \"dataMask\"]}],\n",
    "        output: [\n",
    "            { id: \"SWC\", bands: 1, sampleType: \"FLOAT32\" },\n",
    "            { id: \"dataMask\", bands: 1, sampleType: \"UINT8\" }\n",
    "        ],\n",
    "        mosaicking: \"TILE\"\n",
    "    };\n",
    "}\n",
    "\n",
    "function evaluatePixel(samples) {\n",
    "    var sample = samples[0].SWC\n",
    "    var nodata = samples[0].dataMask\n",
    "\n",
    "    return {\n",
    "        SWC: [(sample) / 100],\n",
    "        dataMask: [nodata]\n",
    "    };\n",
    "}\n",
    "\"\"\""
   ]
  },
  {
   "cell_type": "markdown",
   "metadata": {},
   "source": [
    "### Request the data\n",
    "We will source SWC data with the following parameters:\n",
    "\n",
    "- From April 1st, 2018 to October 31st, 2020\n",
    "- At the native resolution (0.01 degree -> ±1km)\n",
    "- Using our previously defined function `(swc_time_series_evalscript)`\n",
    "- Calculated for each day `(P1D)`\n",
    "- Over the geometry our field of interest `(foi)`\n"
   ]
  },
  {
   "cell_type": "code",
   "execution_count": 85,
   "metadata": {},
   "outputs": [],
   "source": [
    "input_data = SentinelHubStatistical.input_data(data_collection)\n",
    "\n",
    "# Specifiy your time of interest (TOI) - we will set the whole time of interest to process all in single request\n",
    "time_of_interest = '2018-04-01', '2020-10-05'\n",
    "\n",
    "# Specify a resolution in degrees\n",
    "resx = 0.01\n",
    "resy = 0.01\n",
    "\n",
    "# Use aggregation method to combine parameters\n",
    "aggregation = SentinelHubStatistical.aggregation(\n",
    "    evalscript=swc_time_series_evalscript, time_interval=time_of_interest, aggregation_interval=\"P1D\", resolution=(resx, resy)\n",
    ")\n",
    "\n",
    "# Create the request\n",
    "request = SentinelHubStatistical(\n",
    "        aggregation=aggregation,\n",
    "        input_data=[input_data],\n",
    "        geometry=foi,\n",
    "        config=config,\n",
    "    )"
   ]
  },
  {
   "cell_type": "code",
   "execution_count": 86,
   "metadata": {},
   "outputs": [],
   "source": [
    "# Post the requests\n",
    "download_requests = [request.download_list[0]]\n",
    "client = SentinelHubDownloadClient(config=config)\n",
    "swc_stats_response = client.download(download_requests)"
   ]
  },
  {
   "cell_type": "markdown",
   "metadata": {},
   "source": [
    "Format the time series "
   ]
  },
  {
   "cell_type": "code",
   "execution_count": 87,
   "metadata": {},
   "outputs": [],
   "source": [
    "series = pd.json_normalize(swc_stats_response[0][\"data\"])\n",
    "series['date'] = pd.to_datetime(series['interval.from'])\n",
    "series['date'] = series['date'].dt.date\n",
    "series.set_index('date', inplace=True)\n",
    "series = series[['outputs.SWC.bands.B0.stats.mean']].rename({'outputs.SWC.bands.B0.stats.mean':'SWC'}, axis= 1)\n",
    "series['SWC'] = pd.to_numeric(series['SWC'], errors = 'coerce')\n",
    "series = series['SWC'].interpolate() # Does this make sense here?\n"
   ]
  },
  {
   "cell_type": "markdown",
   "metadata": {},
   "source": [
    "Plot the cumulative SWC against the cumulative thermal time to see how much water was available to the crops at the same point in development each season. For example here we can see SWC was higher in 2019 before becoming lower than the 2020 season later in the crops development. "
   ]
  },
  {
   "cell_type": "code",
   "execution_count": 88,
   "metadata": {},
   "outputs": [
    {
     "data": {
      "image/png": "[encoded data removed]",
      "text/plain": [
       "<Figure size 500x500 with 1 Axes>"
      ]
     },
     "metadata": {},
     "output_type": "display_data"
    }
   ],
   "source": [
    "fig, ax = plt.subplots(1, 1, figsize=(5, 5))\n",
    "\n",
    "for season, df in thermal_time_data.items():\n",
    "\n",
    "    combined = pd.merge(df, series, left_index=True, right_index=True, how = 'left')\n",
    "    ax.plot(combined.GDD, combined.SWC.cumsum(), label = f\"{season}\")\n",
    "\n",
    "ax.set_ylabel('Cumulative Soil Water Content')\n",
    "ax.set_xlabel('Cumulative Thermal Time')\n",
    "plt.legend()\n",
    "plt.show()\n",
    "\n",
    "\n",
    "\n",
    "    "
   ]
  }
 ],
 "metadata": {
  "kernelspec": {
   "display_name": "lst-tt-JI8cmRQD-py3.9",
   "language": "python",
   "name": "python3"
  },
  "language_info": {
   "codemirror_mode": {
    "name": "ipython",
    "version": 3
   },
   "file_extension": ".py",
   "mimetype": "text/x-python",
   "name": "python",
   "nbconvert_exporter": "python",
   "pygments_lexer": "ipython3",
   "version": "3.9.7"
  }
 },
 "nbformat": 4,
 "nbformat_minor": 2
}
