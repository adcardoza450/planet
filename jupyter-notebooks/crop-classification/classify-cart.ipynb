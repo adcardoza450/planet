{
 "cells": [
  {
   "cell_type": "markdown",
   "metadata": {},
   "source": [
    "# Crop Type Classification: CART\n",
    "\n",
    "Our aim in this notebook is to classify crop type using PlanetScope 4-band Orthotiles. The crop types of particular interest are corn and soybeans.\n",
    "\n",
    "[CART](http://scikit-learn.org/stable/modules/tree.html#tree-algorithms-id3-c4-5-c5-0-and-cart) is a decision tree algorithm that has shown great promise for classification of remotely sensed imagery. We will use this algorithm to classify crop type.\n",
    "\n",
    "In this notebook, we will focus on using the PlanetScope imagery 4 bands as well as NDVI calculation as the features that are fed into the CART algorithm. We will train on one PS Orthotile and validate on another PS Orthotile.\n",
    "\n",
    "### Outline\n",
    "1. Identify datasets (PS Orthotiles and gold standard dataset for train and test)\n",
    "1. Train classifier\n",
    "1. Test classifier\n",
    "\n",
    "\n",
    "### Gold Standard Dataset\n",
    "\n",
    "The [USDA 2016 Crop Data Layer](https://www.nass.usda.gov/Research_and_Science/Cropland/Release/index.php) (CDL) provides a national crop type dataset. This dataset was build using Landsat 8, DMC Deimos-1, and UK 2 satellite imagery ([src](https://www.nass.usda.gov/Research_and_Science/Cropland/sarsfaqs2.php#Section3_17.0)), using supervised classification (decision trees) based on ground truth from the Farm Service Agency (FSA) Common Land Unit (CLU) Program. Since this is a derived dataset, it isn't a ground truth dataset but it is known to be quite accurate so can be used as our gold standard dataset. This dataset is provided as a georegistered raster (geoTIFF).\n",
    "\n",
    "Since corn and soybeans are the primary crops grown in Iowa, we will focus our analysis in that state. The [metadata](https://www.nass.usda.gov/Research_and_Science/Cropland/metadata/metadata_ia16.htm) provided for the Iowa 2016 CDL indicates that it's accuracy is 96.4% and that corn (categorization code 1) and soybeans (categorization code 5) are indeed the primary crop types in the state.\n",
    "\n",
    "### Growth Season\n",
    "\n",
    "[Iowa 1997 statistics](https://usda.mannlib.cornell.edu/usda/nass/planting/uph97.pdf): corn planting ended June 3, harvesting began Sept 17 and soybean planting ended June 17 and harvesting began Sept 21. Therefore, imagery should be limited to between June 3 and Sept 17, 2016.\n",
    "\n",
    "\n",
    "## Install Dependencies"
   ]
  },
  {
   "cell_type": "code",
   "execution_count": 1,
   "metadata": {
    "collapsed": true
   },
   "outputs": [],
   "source": [
    "from collections import namedtuple\n",
    "import os\n",
    "from subprocess import check_output, STDOUT, CalledProcessError\n",
    "import tempfile\n",
    "from xml.dom import minidom\n",
    "\n",
    "import matplotlib\n",
    "import matplotlib.patches as mpatches\n",
    "import matplotlib.pyplot as plt\n",
    "import numpy as np\n",
    "import rasterio\n",
    "from sklearn.tree import DecisionTreeClassifier\n",
    "\n",
    "%matplotlib inline"
   ]
  },
  {
   "cell_type": "markdown",
   "metadata": {},
   "source": [
    "## Identify Datasets\n",
    "\n",
    "### PS Orthotoile\n",
    "\n",
    "Get a PS Orthotile that has majority coverage over the grid, is from a SSO satellite, is free from clouds, and was taken between June 3 and Sept 17, 2016.\n",
    "\n",
    "Using [planet explorer](https://www.planet.com/explorer/), [210879_1558814_2016-07-25_0e16](https://api.planet.com/data/v1/item-types/PSOrthoTile/items/210879_1558814_2016-07-25_0e16/thumb) was identified as a good candidate."
   ]
  },
  {
   "cell_type": "markdown",
   "metadata": {},
   "source": [
    "#### Download Scene and Supporting Files"
   ]
  },
  {
   "cell_type": "code",
   "execution_count": 2,
   "metadata": {
    "collapsed": true
   },
   "outputs": [],
   "source": [
    "# uncomment below to learn more about PSOrthotile 210879_1558814_2016-07-25_0e16\n",
    "\n",
    "# !planet data search --item-type PSOrthoTile --string-in id 210879_1558814_2016-07-25_0e16"
   ]
  },
  {
   "cell_type": "code",
   "execution_count": 3,
   "metadata": {
    "collapsed": true
   },
   "outputs": [],
   "source": [
    "# uncomment below to download scene and supporting files to local folder\n",
    "\n",
    "# !mkdir -p data/cart/210879_1558814_2016-07-25_0e16\n",
    "# !planet data download --item-type PSOrthoTile --dest data/cart/210879_1558814_2016-07-25_0e16 \\\n",
    "#     --asset-type analytic,analytic_xml,udm --string-in id 210879_1558814_2016-07-25_0e16\n",
    "# !ls -l --block-size=M data/cart/210879_1558814_2016-07-25_0e16/"
   ]
  },
  {
   "cell_type": "code",
   "execution_count": 4,
   "metadata": {},
   "outputs": [
    {
     "name": "stdout",
     "output_type": "stream",
     "text": [
      "data/cart/210879_1558814_2016-07-25_0e16/210879_1558814_2016-07-25_0e16_BGRN_DN_udm.tif\n",
      "data/cart/210879_1558814_2016-07-25_0e16/210879_1558814_2016-07-25_0e16_BGRN_Analytic.tif\n",
      "data/cart/210879_1558814_2016-07-25_0e16/210879_1558814_2016-07-25_0e16_BGRN_Analytic_metadata.xml\n"
     ]
    }
   ],
   "source": [
    "# define data file filenames and ensure they exist\n",
    "train_folder = os.path.join('data', 'cart', '210879_1558814_2016-07-25_0e16')\n",
    "\n",
    "train_files = {\n",
    "    'scene': os.path.join(train_folder, '210879_1558814_2016-07-25_0e16_BGRN_Analytic.tif'),\n",
    "    'metadata': os.path.join(train_folder, '210879_1558814_2016-07-25_0e16_BGRN_Analytic_metadata.xml'),\n",
    "    'udm': os.path.join(train_folder, '210879_1558814_2016-07-25_0e16_BGRN_DN_udm.tif'),\n",
    "}\n",
    "\n",
    "for filename in train_files.values():\n",
    "    print(filename)\n",
    "    assert os.path.isfile(filename)"
   ]
  },
  {
   "cell_type": "markdown",
   "metadata": {},
   "source": [
    "### 2016 Iowa CDL\n",
    "\n",
    "Crop type information is provided for Iowa for 2016 from the [USDA 2016 Crop Data Layer](https://www.nass.usda.gov/Research_and_Science/Cropland/Release/index.php) (CDL). We are specifically interested in the CDL for Iowa.\n",
    "\n",
    "The [metadata](https://www.nass.usda.gov/Research_and_Science/Cropland/metadata/metadata_ia16.htm) for the Iowa CDL provides the conversion between tif class values and crop type. The values along with the number of pixels associated with those values can be found in the Data_Quality_Information section of the metadata. The value for corn is 1 and the value for soybeans is 5. Note that there are some values associated with double crops that include corn or soybeans but the pixel count for those categories is zero so they can be disregarded.\n",
    "\n",
    "In this section, we prepare the Iowa CDL tif for processing, load a block of the tif that matches the block loaded from the PS Orthotile, and then look at the unique values present in the block."
   ]
  },
  {
   "cell_type": "markdown",
   "metadata": {},
   "source": [
    "#### Obtain and Prepare Data File\n",
    "\n",
    "In this section, we download the 2016 Iowa CDL and crop it to the PS Orthotile footprint.\n",
    "\n",
    "2016 CDL for Iowa is obtained through the [CropScape](https://nassgeodata.gmu.edu/CropScape/) site. On that site, ensure the layer is 'CropLand Data Layers -> 2016', then click the icon for 'Define Area of Interest by State...' (looks like an outline of the US with the US flag design). Under 'Select a State', select Iowa and click 'Submit.' Next, click the icon for 'Download Defined Area of Interest Data.' In the popup, ensure the 'CDL' tab is open and '2016' is selected, then click 'Select.' Another popup should appear with 'Please Wait...' then after a while, the popup should be replaced by a popup that says 'Download files from server'. Click 'Download' and after a bit the download should begin.\n",
    "\n",
    "Unzip the downloaded folder and move the tif, `CDL_2016_19.tif` to the data folder."
   ]
  },
  {
   "cell_type": "code",
   "execution_count": 5,
   "metadata": {},
   "outputs": [
    {
     "name": "stdout",
     "output_type": "stream",
     "text": [
      "data/CDL_2016_19.tif\n"
     ]
    }
   ],
   "source": [
    "# ensure the tif file is present\n",
    "cdl_full = os.path.join('data', 'CDL_2016_19.tif')\n",
    "print(cdl_full)\n",
    "assert os.path.isfile(cdl_full)"
   ]
  },
  {
   "cell_type": "markdown",
   "metadata": {},
   "source": [
    "#### Crop and Project CDL\n",
    "\n",
    "We project, resample, and crop the CDL to match the Orthotile and save in train dataset."
   ]
  },
  {
   "cell_type": "code",
   "execution_count": 6,
   "metadata": {
    "collapsed": true
   },
   "outputs": [],
   "source": [
    "# Utility functions: crop, resample, and project an image\n",
    "\n",
    "# These use gdalwarp. for a description of gdalwarp command line options, see:\n",
    "# http://www.gdal.org/gdalwarp.html\n",
    "\n",
    "def gdalwarp_project_options(src_crs, dst_crs):\n",
    "    src_proj = _crs_to_string(src_crs)\n",
    "    dst_proj = _crs_to_string(dst_crs)\n",
    "    return ['-s_srs', src_crs.to_string(), '-t_srs', dst_crs.to_string()]\n",
    "\n",
    "def gdalwarp_crop_options(bounds, crs):\n",
    "    xmin, ymin, xmax, ymax = [str(b) for b in bounds]\n",
    "    dst_proj = _crs_to_string(crs)\n",
    "    # -te xmin ymin xmax ymax\n",
    "    return ['-te', xmin, ymin, xmax, ymax]\n",
    "\n",
    "def gdalwarp_resample_options(width, height, technique='near'):\n",
    "    # for technique options, see: http://www.gdal.org/gdalwarp.html\n",
    "    return ['-ts', width, height, '-r', technique]\n",
    "\n",
    "def gdalwarp(input_filename, output_filename, options):\n",
    "    commands = _gdalwarp_commands(input_filename, output_filename, options)\n",
    "\n",
    "    # print error if one is encountered\n",
    "    # https://stackoverflow.com/questions/29580663/save-error-message-of-subprocess-command\n",
    "    try:\n",
    "        output = check_output(commands, stderr=STDOUT)\n",
    "    except CalledProcessError as exc:\n",
    "        print(exc.output)\n",
    "\n",
    "def _gdalwarp_commands(input_filename, output_filename, options):\n",
    "    commands = ['gdalwarp'] + options + \\\n",
    "               ['-overwrite',\n",
    "                input_filename,\n",
    "                output_filename]\n",
    "    print(' '.join(commands))\n",
    "    return commands\n",
    "\n",
    "def _test():\n",
    "    TEST_DST_SCENE = train_files['scene']\n",
    "    TEST_SRC_SCENE = cdl_full\n",
    "\n",
    "    with rasterio.open(TEST_DST_SCENE, 'r') as dst:\n",
    "        with rasterio.open(TEST_SRC_SCENE, 'r') as src:\n",
    "            print(_gdalwarp_project_options(src.crs, dst.crs))\n",
    "\n",
    "            print(_gdalwarp_crop_options(dst.bounds, dst.crs))\n",
    "\n",
    "            print(_gdalwarp_resample_options(dst.width, dst.height))\n",
    "# _test()"
   ]
  },
  {
   "cell_type": "code",
   "execution_count": 7,
   "metadata": {
    "collapsed": true
   },
   "outputs": [],
   "source": [
    "def prepare_cdl_image(cdl_filename, dst_filename, out_filename):\n",
    "    '''Project, crop, and resample cdl image to match dst_filename image.'''\n",
    "    \n",
    "    with rasterio.open(cdl_filename, 'r') as src:\n",
    "        with rasterio.open(dst_filename, 'r') as dst:\n",
    "            # project\n",
    "            src_crs = _add_nad_datum(src.crs) # Manually add NAD83 datum\n",
    "            proj_options = _gdalwarp_project_options(src_crs, dst.crs)\n",
    "\n",
    "            # crop\n",
    "            crop_options = _gdalwarp_crop_options(dst.bounds, dst.crs)\n",
    "\n",
    "            # resample\n",
    "            width, height = dst.shape\n",
    "            resample_options = _gdalwarp_resample_options(str(width), str(height), 'near')\n",
    "\n",
    "            options = proj_options + crop_options + resample_options\n",
    "            \n",
    "            # run gdalwarp\n",
    "            gdalwarp(cdl_filename, out_filename, options)\n",
    "\n",
    "def _add_nad_datum(crs):\n",
    "    '''Rasterio is not reading the datum for the CDL image so add it manually'''\n",
    "    crs.update({'datum': 'NAD83'})\n",
    "    return crs\n",
    "\n",
    "def _test(delete=True):\n",
    "    TEST_DST_SCENE = train_files['scene']\n",
    "    TEST_SRC_SCENE = cdl_full\n",
    "    \n",
    "    with tempfile.NamedTemporaryFile(suffix='.tif', delete=delete, dir='.') as out_file:\n",
    "        # create output\n",
    "        prepare_cdl_image(TEST_SRC_SCENE, TEST_DST_SCENE, out_file.name)\n",
    "\n",
    "        # check output\n",
    "        with rasterio.open(TEST_DST_SCENE, 'r') as dst:\n",
    "            with rasterio.open(out_file.name, 'r') as src:\n",
    "                assert dst.crs == src.crs, '{} != {}'.format(src.crs, dst.crs)\n",
    "                assert dst.bounds == src.bounds\n",
    "                assert dst.shape == src.shape\n",
    "# _test()"
   ]
  },
  {
   "cell_type": "code",
   "execution_count": 8,
   "metadata": {},
   "outputs": [
    {
     "name": "stdout",
     "output_type": "stream",
     "text": [
      "data/cart/210879_1558814_2016-07-25_0e16/CDL_2016_19_prep.tif\n"
     ]
    }
   ],
   "source": [
    "# create train dataset gold image from CDL image\n",
    "prep_filename = os.path.join(train_folder, 'CDL_2016_19_prep.tif')\n",
    "\n",
    "# only generate output if it doesn't already exist\n",
    "if not os.path.isfile(prep_filename):\n",
    "    prepare_cdl_image(cdl_full, train_files['scene'], prep_filename)\n",
    "    \n",
    "train_files['gold'] = prep_filename\n",
    "print(train_files['gold'])"
   ]
  },
  {
   "cell_type": "markdown",
   "metadata": {},
   "source": [
    "## Train Classifier\n",
    "\n",
    "### PS Orthotile to features\n",
    "\n",
    "In this section we generate classification features from the 4 bands of the PS Orthotile and NDVI calculated from the Orthotile."
   ]
  },
  {
   "cell_type": "code",
   "execution_count": 9,
   "metadata": {
    "collapsed": true
   },
   "outputs": [],
   "source": [
    "# Utility function for reading a window of an image\n",
    "\n",
    "def _read_window(filename, window):\n",
    "    with rasterio.open(filename, 'r') as src:\n",
    "        return src.read(window=window)"
   ]
  },
  {
   "cell_type": "markdown",
   "metadata": {},
   "source": [
    "#### Convert UDM to mask\n",
    "\n",
    "We convert the UDM file to a boolean mask that can be used to generate masked band arrays"
   ]
  },
  {
   "cell_type": "code",
   "execution_count": 10,
   "metadata": {},
   "outputs": [],
   "source": [
    "def load_udm_mask(udm_filename, window=None):\n",
    "    udm_array = _read_window(udm_filename, window)\n",
    "    return _udm_to_mask(udm_array)\n",
    "    \n",
    "def _udm_to_mask(udm_array):\n",
    "    '''Convert UDM bit-encoded array to boolean mask.\n",
    "    \n",
    "    The description for the information encoded in the bits in the UDM is given here:\n",
    "    https://www.planet.com/docs/spec-sheets/sat-imagery/\n",
    "    \n",
    "    Pixels with no issues have all bits set to 0, therefore their values are zero.\n",
    "    \n",
    "    We mask all pixels with any issues.\n",
    "    '''\n",
    "    return udm_array != 0\n",
    "\n",
    "def _test(): \n",
    "    udm_mask = load_udm_mask(train_files['udm'], window=((0,1000),(0,1000)))\n",
    "    print(udm_mask.shape)\n",
    "# _test()"
   ]
  },
  {
   "cell_type": "markdown",
   "metadata": {},
   "source": [
    "#### Load and Mask Bands\n",
    "\n",
    "We load the orthotile bands (optionally applying a window) and mask them using the udm mask."
   ]
  },
  {
   "cell_type": "code",
   "execution_count": 11,
   "metadata": {},
   "outputs": [],
   "source": [
    "NamedBands = namedtuple('NamedBands', 'b, g, r, nir')\n",
    "\n",
    "def load_masked_bands(scene_filename, udm_filename, window=None):\n",
    "    \"\"\"Loads a 4-band BGRNir Planet Image file as a list of masked bands.\n",
    "    \n",
    "    The masked bands share the same mask, so editing one band mask will\n",
    "    edit them all.\n",
    "    \"\"\"\n",
    "    bands = load_bands(scene_filename, window=window)\n",
    "    mask = load_udm_mask(udm_filename, window=window)\n",
    "    return NamedBands(*[np.ma.array(b, mask=mask)\n",
    "                        for b in bands])\n",
    "\n",
    "def load_bands(filename, window=None):      \n",
    "    b, g, r, nir = _read_window(filename, window=window)\n",
    "    return NamedBands(b=b, g=g, r=r, nir=nir)\n",
    "\n",
    "def get_mask(bands):\n",
    "    return bands[0].mask\n",
    "\n",
    "\n",
    "def check_mask(bands):\n",
    "    band_mask = get_mask(bands)\n",
    "    return '{}/{} ({}%) masked'.format(band_mask.sum(), band_mask.size, (100.0*band_mask.sum())/band_mask.size)\n",
    "\n",
    "\n",
    "def _test():\n",
    "    print(check_mask(load_masked_bands(train_files['scene'],\n",
    "                                       train_files['udm'],\n",
    "                                       window=((500,1500),(500,1500)))))\n",
    "# _test()"
   ]
  },
  {
   "cell_type": "markdown",
   "metadata": {},
   "source": [
    "#### Convert to Reflectance\n",
    "\n",
    "The PSOrthotiles provide the top of atmosphere radiance values for each band. It is preferred to work with top of atmosphere reflectance, as this is more consistent across time. Therefore, we convert each band to reflectance."
   ]
  },
  {
   "cell_type": "code",
   "execution_count": 12,
   "metadata": {},
   "outputs": [],
   "source": [
    "# Utility functions: converting an image to reflectance\n",
    "\n",
    "NamedCoefficients = namedtuple('NamedCoefficients', 'b, g, r, nir')\n",
    "\n",
    "def read_refl_coefficients(metadata_filename):\n",
    "    # https://github.com/planetlabs/notebooks/blob/master/jupyter-notebooks/ndvi/ndvi_planetscope.ipynb\n",
    "    xmldoc = minidom.parse(metadata_filename)\n",
    "    nodes = xmldoc.getElementsByTagName(\"ps:bandSpecificMetadata\")\n",
    "\n",
    "    # XML parser refers to bands by numbers 1-4\n",
    "    coeffs = {}\n",
    "    for node in nodes:\n",
    "        bn = node.getElementsByTagName(\"ps:bandNumber\")[0].firstChild.data\n",
    "        if bn in ['1', '2', '3', '4']:\n",
    "            i = int(bn)\n",
    "            value = node.getElementsByTagName(\"ps:reflectanceCoefficient\")[0].firstChild.data\n",
    "            coeffs[i] = float(value)\n",
    "    return NamedCoefficients(b=coeffs[1],\n",
    "                             g=coeffs[2],\n",
    "                             r=coeffs[3],\n",
    "                             nir=coeffs[4])\n",
    "\n",
    "def _apply_coeffs(bands, coeffs):\n",
    "    return NamedBands(*[b.astype(float)*c for b,c in zip(bands, coeffs)])\n",
    "\n",
    "\n",
    "def _test():\n",
    "    print(read_refl_coefficients(train_files['metadata']))\n",
    "# _test()"
   ]
  },
  {
   "cell_type": "code",
   "execution_count": 13,
   "metadata": {},
   "outputs": [],
   "source": [
    "def load_reflectance_bands(scene_file, udm_file, metadata_file, window=None):\n",
    "    return _to_reflectance(load_masked_bands(scene_file, udm_file, window=window),\n",
    "                                metadata_file)\n",
    "\n",
    "def _to_reflectance(bands, metadata_filename):\n",
    "    coeffs = read_refl_coefficients(metadata_filename)\n",
    "    return _apply_coeffs(bands, coeffs)\n",
    "\n",
    "def _test():\n",
    "    bands = load_reflectance_bands(train_files['scene'],\n",
    "                                   train_files['udm'],\n",
    "                                   train_files['metadata'],\n",
    "                                   window=((500,1500),(500,1500)))\n",
    "    print([b.mean() for b in bands])\n",
    "# _test()"
   ]
  },
  {
   "cell_type": "markdown",
   "metadata": {},
   "source": [
    "#### Display Image\n",
    "\n",
    "To ensure everything loaded correctly, we display the image with and without the mask converted to the alpha channel."
   ]
  },
  {
   "cell_type": "code",
   "execution_count": 17,
   "metadata": {
    "collapsed": true
   },
   "outputs": [],
   "source": [
    "# Utility functions: displaying an image\n",
    "\n",
    "def _linear_scale(ndarray, old_min, old_max, new_min, new_max):\n",
    "    \"\"\"Linear scale from old_min to new_min, old_max to new_max.\n",
    "    \n",
    "    Values below min/max are allowed in input and output.\n",
    "    Min/Max values are two data points that are used in the linear scaling.\n",
    "    \"\"\"\n",
    "    #https://en.wikipedia.org/wiki/Normalization_(image_processing)\n",
    "    return (ndarray - old_min)*(new_max - new_min)/(old_max - old_min) + new_min\n",
    "# print(linear_scale(np.array([1,2,10,100,256,2560, 2660]), 2, 2560, 0, 256))\n",
    "\n",
    "def _mask_to_alpha(bands):\n",
    "    band = np.atleast_3d(bands[0])\n",
    "    alpha = np.zeros_like(band)\n",
    "    alpha[~band.mask] = 1\n",
    "    return alpha\n",
    "\n",
    "def _add_alpha_mask(bands):\n",
    "    return np.dstack([bands, _mask_to_alpha(bands)])\n",
    "\n",
    "def scale_bands(band_stack):\n",
    "    old_min = np.percentile(band_stack, 2)\n",
    "    old_max = np.percentile(band_stack, 98)\n",
    "    old_min = band_stack.min()\n",
    "    old_max = band_stack.max()\n",
    "\n",
    "    new_min = 0\n",
    "    new_max = 1\n",
    "    scaled = [np.clip(_linear_scale(b.astype(np.float),\n",
    "                                    old_min, old_max,\n",
    "                                    new_min, new_max),\n",
    "                      new_min, new_max)\n",
    "              for b in bands]\n",
    "    return scaled\n",
    "    \n",
    "def bands_to_display(bands, scale=True, alpha=False):\n",
    "    \"\"\"Converts a list of 3 bands to a 3-band rgb, normalized array for display.\"\"\"  \n",
    "    assert len(bands) in [1,3]\n",
    "    all_bands = np.dstack(bands)\n",
    "    \n",
    "    if scale:\n",
    "        scaled = \n",
    "    old_min = np.percentile(all_bands, 2)\n",
    "    old_max = np.percentile(all_bands, 98)\n",
    "    old_min = all_bands.min()\n",
    "    old_max = all_bands.max()\n",
    "\n",
    "    new_min = 0\n",
    "    new_max = 1\n",
    "    scaled = [np.clip(_linear_scale(b.astype(np.float),\n",
    "                                    old_min, old_max,\n",
    "                                    new_min, new_max),\n",
    "                      new_min, new_max)\n",
    "              for b in bands]\n",
    "\n",
    "    filled = [b.filled(fill_value=new_min) for b in scaled]\n",
    "    if alpha:\n",
    "        filled.append(_mask_to_alpha(scaled))\n",
    "\n",
    "    return np.dstack(filled)"
   ]
  },
  {
   "cell_type": "code",
   "execution_count": 18,
   "metadata": {
    "scrolled": false
   },
   "outputs": [
    {
     "name": "stdout",
     "output_type": "stream",
     "text": [
      "295368/1000000 (29.5368%) masked\n",
      "(0.067990905871377599, 0.36307512027914396)\n",
      "(0.061612413226528003, 0.35306403262990721)\n",
      "(0.037686084291491999, 0.36434713031043736)\n",
      "(0.14062722723785701, 0.49724242437433497)\n"
     ]
    },
    {
     "data": {
      "image/png": "[encoded data removed]",
      "text/plain": [
       "<matplotlib.figure.Figure at 0x7f8b71adedd0>"
      ]
     },
     "metadata": {},
     "output_type": "display_data"
    }
   ],
   "source": [
    "def get_rgb(named_bands):\n",
    "    '''convenience function to aid in displaying a NamedBands image'''\n",
    "    return [named_bands.r, named_bands.g, named_bands.b]\n",
    "\n",
    "def show_bands(bands):\n",
    "    fig, (ax1, ax2) = plt.subplots(nrows=1, ncols=2, sharex=True, sharey=True, figsize=(10,10))\n",
    "    for ax in (ax1, ax2):\n",
    "        ax.set_adjustable('box-forced')\n",
    "    \n",
    "    rgb_bands = get_rgb(bands)\n",
    "    ax1.imshow(bands_to_display(rgb_bands, alpha=False))\n",
    "    ax1.set_title('Reflectance Bands, No Alpha')\n",
    "\n",
    "    ax2.imshow(bands_to_display(rgb_bands, alpha=True))\n",
    "    ax2.set_title('Reflectance Bands, Alpha from Mask')\n",
    "    plt.tight_layout()\n",
    "\n",
    "def _test():\n",
    "    def _read_window(filename, window):\n",
    "        with rasterio.open(filename, 'r') as src:\n",
    "            print('hi')\n",
    "            return src.read(window=window)\n",
    "\n",
    "    window = ((500,1500),(500,1500))\n",
    "#     window = ((0,4000),(0,4000))\n",
    "    window = ((3000,4000),(3000,4000))\n",
    "    refl_bands = load_reflectance_bands(train_files['scene'],\n",
    "                                        train_files['udm'],\n",
    "                                        train_files['metadata'],\n",
    "                                        window=window)\n",
    "    print(check_mask(refl_bands))\n",
    "    for b in refl_bands:\n",
    "        print (b.min(), b.max()) \n",
    "    show_bands(refl_bands)\n",
    "_test()"
   ]
  },
  {
   "cell_type": "markdown",
   "metadata": {},
   "source": [
    "#### Features from Image\n",
    "\n",
    "We calculate the classification features from the scene and convert them to an array for feeding into the CART classifier."
   ]
  },
  {
   "cell_type": "code",
   "execution_count": null,
   "metadata": {},
   "outputs": [],
   "source": [
    "def calculate_ndvi(bands):\n",
    "    ndvi = (bands.nir.astype(np.float) - bands.r) / (bands.nir + bands.r)\n",
    "    return ndvi\n",
    "\n",
    "\n",
    "def build_feature_bands(bands):\n",
    "    \"\"\"Prepare bands representing pixel features and provide feature names.\n",
    "    \n",
    "    Takes as input NamedBands\n",
    "    Returns (1) tuple of bands representing features and (2) feature names\n",
    "    \"\"\"\n",
    "    # not copying these bands to minimize memory footprints\n",
    "    features = (bands.b, bands.g, bands.r, bands.nir, calculate_ndvi(bands))\n",
    "    feature_names = ('Blue', 'Green', 'Red', 'NIR', 'NDVI')\n",
    "    return features, feature_names\n",
    "\n",
    "\n",
    "def display_feature_bands(bands, names):\n",
    "    # for this notebook, we know there are 4 features and we will use that\n",
    "    # knowledge to side-step some logic in organizing subplots\n",
    "    assert len(bands) == 5 \n",
    "    \n",
    "    fig, subplot_axes = plt.subplots(nrows=3, ncols=2,\n",
    "                                     sharex=True, sharey=True,\n",
    "                                     figsize=(10,10))\n",
    "    axes = subplot_axes.flat[:-1]\n",
    "    delaxis = subplot_axes.flat[-1]\n",
    "    fig.delaxes(delaxis)\n",
    "    for ax, band, name in zip(axes, bands, names):\n",
    "        ax.set_adjustable('box-forced')\n",
    "        ax.axis('off')\n",
    "\n",
    "        pcm = ax.imshow(band, alpha=True)\n",
    "        ax.set_title(name)\n",
    "        fig.colorbar(pcm, ax=ax,\n",
    "                     pad=0.05, shrink=0.9)\n",
    "\n",
    "    plt.tight_layout()\n",
    "\n",
    "def _test():\n",
    "    refl_bands = load_reflectance_bands(train_files['scene'],\n",
    "                                        train_files['udm'],\n",
    "                                        train_files['metadata'],\n",
    "                                        window=((500,1500),(500,1500)))\n",
    "    feat_bands, feat_names = build_feature_bands(refl_bands)\n",
    "    display_feature_bands(feat_bands, feat_names)\n",
    "_test()"
   ]
  },
  {
   "cell_type": "markdown",
   "metadata": {},
   "source": [
    "From the scales on the colorbars, we see that the scales of the features are not all the same. 'Blue' feature max is ~0.35 while NDVI feature max is ~0.9. This is not a problem for decision trees, which do not require that features be normalized before training."
   ]
  },
  {
   "cell_type": "code",
   "execution_count": null,
   "metadata": {},
   "outputs": [],
   "source": [
    "def to_X(feature_bands):\n",
    "    \"\"\"Convert feature_bands (tuple of bands) to 2d array for working with classifier.\n",
    "    \"\"\"\n",
    "    return np.stack([f.compressed() for f in feature_bands], # exclude masked pixels\n",
    "                     axis=1)\n",
    "\n",
    "\n",
    "def _test():\n",
    "    refl_bands = load_reflectance_bands(train_files['scene'],\n",
    "                                        train_files['udm'],\n",
    "                                        train_files['metadata'],\n",
    "                                        window=((500,1500),(500,1500)))\n",
    "    feat_bands, feat_names = build_feature_bands(refl_bands)\n",
    "    \n",
    "    X = to_X(feat_bands)\n",
    "    print(X.shape)\n",
    "_test()"
   ]
  },
  {
   "cell_type": "markdown",
   "metadata": {},
   "source": [
    "### Gold Standard Dataset to Labels\n",
    "\n",
    "#### Load and Visualize Gold Classified Band\n",
    "\n",
    "Filter to corn and soybean classes and visualize the classified band."
   ]
  },
  {
   "cell_type": "code",
   "execution_count": null,
   "metadata": {
    "collapsed": true
   },
   "outputs": [],
   "source": [
    "# class labels from metadata\n",
    "CLASS_LABELS = {1: 'corn', 5: 'soybeans'}"
   ]
  },
  {
   "cell_type": "code",
   "execution_count": null,
   "metadata": {},
   "outputs": [],
   "source": [
    "def load_gold_class_band(gold_filename, class_labels=None, window=None, fill_value=0):\n",
    "    gold_class_band = _read_window(gold_filename, window)[0,...]\n",
    "    \n",
    "    try:\n",
    "        # mask pixels with a value not in class_labels\n",
    "        masks = [gold_class_band == val for val in class_labels.keys()]\n",
    "        mask = np.any(np.dstack(masks), axis=2)\n",
    "        mask = ~mask\n",
    "        \n",
    "        masked_band = np.ma.array(np.ma.array(gold_class_band, mask=mask).filled(fill_value=fill_value),\n",
    "                                  mask=mask)\n",
    "    except AttributeError:\n",
    "        # mask nothing\n",
    "        null_mask = np.zeros(gold_class_band.shape, dtype=np.bool)\n",
    "        masked_band = np.ma.array(gold_class_band, mask=null_mask)\n",
    "\n",
    "    return masked_band\n",
    "\n",
    "def _test():\n",
    "    print np.unique(load_gold_class_band(train_files['gold']))\n",
    "    print np.unique(load_gold_class_band(train_files['gold'], class_labels=CLASS_LABELS))\n",
    "_test()"
   ]
  },
  {
   "cell_type": "code",
   "execution_count": null,
   "metadata": {},
   "outputs": [],
   "source": [
    "def _imshow_class_band(ax, class_band, class_labels=None, cmap='viridis'):\n",
    "    \"\"\"Show classified band with legend. Alters ax in place.\n",
    "    \n",
    "    possible cmaps ref: https://matplotlib.org/examples/color/colormaps_reference.html\n",
    "    \"\"\"\n",
    "    im = ax.imshow(class_band, cmap=cmap)\n",
    "\n",
    "    try:\n",
    "        # add class label legend\n",
    "        # https://stackoverflow.com/questions/25482876/how-to-add-legend-to-imshow-in-matplotlib\n",
    "        colors = [im.cmap(im.norm(value))\n",
    "                  for value in class_labels.keys()]\n",
    "        labels = class_labels.values()\n",
    "\n",
    "        # https://matplotlib.org/users/legend_guide.html\n",
    "        # tag: #creating-artists-specifically-for-adding-to-the-legend-aka-proxy-artists\n",
    "        patches = [mpatches.Patch(color=c, label=l) for c,l in zip(colors, labels)]\n",
    "\n",
    "        ax.legend(handles=patches, bbox_to_anchor=(1, 1), loc='upper right', borderaxespad=0.)\n",
    "    except AttributeError:\n",
    "        pass\n",
    "\n",
    "def plot_classified_band(class_band, class_labels=None, cmap=None, title='Class Labels', figdim=10):\n",
    "    fig = plt.figure(figsize=(figdim, figdim))\n",
    "    ax = fig.add_subplot(1, 1, 1)\n",
    "    _imshow_class_band(ax, class_band, class_labels, cmap=cmap)\n",
    "    ax.set_title(title)\n",
    "\n",
    "def _test():\n",
    "    plot_classified_band(load_gold_class_band(train_files['gold'],\n",
    "                                              class_labels=CLASS_LABELS,\n",
    "                                              window=((500,1500),(500,1500))),\n",
    "                         class_labels=CLASS_LABELS, title='Gold Class Labels, Windowed', figdim=5)\n",
    "\n",
    "    plot_classified_band(load_gold_class_band(train_files['gold'], class_labels=CLASS_LABELS),\n",
    "                         class_labels=CLASS_LABELS, title='Gold Class Labels')\n",
    "_test()"
   ]
  },
  {
   "cell_type": "code",
   "execution_count": null,
   "metadata": {},
   "outputs": [],
   "source": [
    "def to_y(classified_band):\n",
    "    return classified_band.compressed()\n",
    "\n",
    "def _test():\n",
    "    print(to_y(load_gold_class_band(train_files['gold'], class_labels=CLASS_LABELS)).shape)\n",
    "_test()"
   ]
  },
  {
   "cell_type": "markdown",
   "metadata": {},
   "source": [
    "### Train the Classifier\n",
    "\n",
    "Right now we are just going to train the classifier with a subset of data from the Orthotile (the window we have been working with thus far) and use the dummy label data generated above. The goal is to ensure we can run through training and predicting with the classifier and end up with a classified band that looks like the original in shape/mask and shows the classes as labeled above."
   ]
  },
  {
   "cell_type": "code",
   "execution_count": null,
   "metadata": {
    "collapsed": true
   },
   "outputs": [],
   "source": [
    "window = ((500,1500),(500,1500))\n",
    "window = None\n",
    "window = ((0,2000),(0,2000))\n",
    "window = ((0,4000),(0,4000))"
   ]
  },
  {
   "cell_type": "code",
   "execution_count": null,
   "metadata": {},
   "outputs": [],
   "source": [
    "refl_bands = load_reflectance_bands(train_files['scene'],\n",
    "                                    train_files['udm'],\n",
    "                                    train_files['metadata'],\n",
    "                                    window=window)\n",
    "feat_bands, _ = build_feature_bands(refl_bands)\n",
    "X = to_X(refl_bands)\n",
    "print(X.shape)"
   ]
  },
  {
   "cell_type": "code",
   "execution_count": null,
   "metadata": {},
   "outputs": [],
   "source": [
    "gold_class_band = load_gold_class_band(train_files['gold'], class_labels=CLASS_LABELS, window=window)\n",
    "gold_class_band.mask = get_mask(feat_bands)\n",
    "y = to_y(gold_class_band)\n",
    "print(y.shape)"
   ]
  },
  {
   "cell_type": "markdown",
   "metadata": {},
   "source": [
    "Unconstrained, decision trees overfit the training data. Therefore, we must constrain the decision tree by setting a hyperparameter. For now, we will just blindly set the `max_depth` hyperparameter. Eventually, it would be ideal to use cross-validation to identify the best hyperparameter values."
   ]
  },
  {
   "cell_type": "code",
   "execution_count": null,
   "metadata": {},
   "outputs": [],
   "source": [
    "clf = DecisionTreeClassifier(random_state=0, max_depth=5)\n",
    "clf.fit(X, y)"
   ]
  },
  {
   "cell_type": "markdown",
   "metadata": {},
   "source": [
    "Check to see what classes are predicted"
   ]
  },
  {
   "cell_type": "code",
   "execution_count": null,
   "metadata": {},
   "outputs": [],
   "source": [
    "y_pred = clf.predict(X)\n",
    "print(np.unique(y_pred))"
   ]
  },
  {
   "cell_type": "code",
   "execution_count": null,
   "metadata": {},
   "outputs": [],
   "source": [
    "def classified_band_from_y(y, band_mask):\n",
    "    class_band = np.ma.array(np.zeros(band_mask.shape),\n",
    "                             mask=band_mask.copy())\n",
    "    class_band[~class_band.mask] = y\n",
    "    return class_band\n",
    "\n",
    "pred_band = classified_band_from_y(y_pred, get_mask(refl_bands))"
   ]
  },
  {
   "cell_type": "code",
   "execution_count": null,
   "metadata": {},
   "outputs": [],
   "source": [
    "def plot_predicted_vs_truth(predicted_class_band, gold_class_band, class_labels=None, figsize=(15,15)):\n",
    "    fig, (ax1, ax2) = plt.subplots(nrows=1, ncols=2,\n",
    "                                   sharex=True, sharey=True,\n",
    "                                   figsize=figsize)\n",
    "    for ax in (ax1, ax2):\n",
    "        ax.set_adjustable('box-forced')\n",
    "\n",
    "    _imshow_class_band(ax1, predicted_class_band, class_labels=class_labels)\n",
    "    ax1.set_title('Classifier Predicted Classes')\n",
    "\n",
    "    _imshow_class_band(ax2, gold_class_band, class_labels=class_labels)\n",
    "    ax2.set_title('Gold Dataset Classes')\n",
    "    plt.tight_layout()\n",
    "    \n",
    "plot_predicted_vs_truth(pred_band, gold_class_band,class_labels=CLASS_LABELS)"
   ]
  },
  {
   "cell_type": "markdown",
   "metadata": {},
   "source": [
    "Alright! This looks promising. The predicted classes just look like a higher-resolution version of the gold dataset classes. This makes sense, the gold dataset image was upsampled from 30m to 3m (the PS Orthotile pixel size) using nearest-neighbor so would not have the detail to match a prediction performed on the PS Orthotile resolution."
   ]
  },
  {
   "cell_type": "code",
   "execution_count": null,
   "metadata": {
    "collapsed": true
   },
   "outputs": [],
   "source": []
  }
 ],
 "metadata": {
  "kernelspec": {
   "display_name": "Python 2",
   "language": "python",
   "name": "python2"
  },
  "language_info": {
   "codemirror_mode": {
    "name": "ipython",
    "version": 2
   },
   "file_extension": ".py",
   "mimetype": "text/x-python",
   "name": "python",
   "nbconvert_exporter": "python",
   "pygments_lexer": "ipython2",
   "version": "2.7.13"
  }
 },
 "nbformat": 4,
 "nbformat_minor": 2
}
