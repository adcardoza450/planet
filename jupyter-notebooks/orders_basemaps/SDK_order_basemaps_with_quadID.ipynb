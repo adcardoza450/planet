{
 "cells": [
  {
   "attachments": {},
   "cell_type": "markdown",
   "metadata": {},
   "source": [
    "# Order a Basemap Using the Orders API & SDK via Quad ID\n",
    "---\n",
    "\n",
    "## Overview ##\n",
    "---\n",
    "Download Basemap quads based on the mosaic name and quad IDs.\n",
    "\n",
    "For example:\n",
    "point_reyes_rolling_normalized_2020-04-30_mosaic\n",
    "\n",
    "and\n",
    "\n",
    "325-1260,326-1260,325-1259,326-1259\n"
   ]
  },
  {
   "attachments": {},
   "cell_type": "markdown",
   "metadata": {},
   "source": [
    "<a name=\"Get-quad-IDs\"></a> \n",
    "## Get quad IDs\n",
    "---\n",
    "\n",
    "You can get a basemap ID from Planet Explorer or the Basemap Viewer, as described in jupyter-notebooks/quad_tutorial/basemaps_ordersv2_aoi.ipynb. Each basemap is broken down into quads. To get the quad IDs for a basemap:\n",
    "\n",
    "1. In the Basemap Viewer, enter your basemap ID, such as point_reyes_rolling_normalized_2020-04-30_mosaic\n",
    "2. On the resulting basemap, select the arrow to view the quads and scenes, for example: 325-1260,326-1260,325-1259,326-1259\n"
   ]
  },
  {
   "attachments": {},
   "cell_type": "markdown",
   "metadata": {},
   "source": [
    "<a name=\"how-to-get-started\"></a> \n",
    "## Start coding\n",
    "\n",
    "---\n",
    "Next set up a session by importing needed Python packages, pulling in your API Key, and make an initial request (to retrieve the Orders API parameters) to confirm a connection with the server."
   ]
  },
  {
   "cell_type": "code",
   "execution_count": null,
   "metadata": {},
   "outputs": [],
   "source": [
    "import planet\n",
    "import os\n",
    "import requests\n",
    "from requests.auth import HTTPBasicAuth\n",
    "import json\n"
   ]
  },
  {
   "cell_type": "code",
   "execution_count": null,
   "metadata": {},
   "outputs": [],
   "source": [
    "ORDERS_API_URL = 'https://api.planet.com/compute/ops/orders/v2'\n",
    "API_KEY = os.environ.get('PL_API_KEY')\n",
    "GCP_CREDENTIALS = os.environ.get('GCP_CREDENTIALS')\n",
    "orders_url = 'https://api.planet.com/compute/ops/orders/v2'\n",
    "auth = HTTPBasicAuth(API_KEY, '')\n",
    "(fix this)"
   ]
  },
  {
   "attachments": {},
   "cell_type": "markdown",
   "metadata": {},
   "source": [
    "## Use Basemaps API to get the Basemap and quad IDs\n",
    "---\n",
    "\n",
    "Use the Basemap APIs to retrieve the basemap you want and the quad IDs. You can get the base URL you'll need to communicate with the Basemap API service:\n",
    "\n",
    "1. Go to the [Basemap API reference](https://developers.planet.com/docs/basemaps/reference/) at https://developers.planet.com/docs/basemaps/reference/. \n",
    "2. Under List Mosaics, select GET /mosaics.\n",
    "\n",
    "A dropdown UI element appears with the URL to use:\n",
    "\n",
    "https://api.planet.com/basemaps/v1/mosaics\n"
   ]
  },
  {
   "attachments": {},
   "cell_type": "markdown",
   "metadata": {},
   "source": [
    "#### Search for the mosaic ID to get its quad IDs\n",
    "\n",
    "Here, we are using the full name of the mosaic, but with the `name__contains` field, you can use a partial name based on the names of the mosaics available through your account.\n",
    "\n",
    "Declare the search string for `requests.get()`. You will use the dictionary you create with the mosaic name to pass to the requests.get() function.\n"
   ]
  },
  {
   "cell_type": "code",
   "execution_count": null,
   "metadata": {},
   "outputs": [],
   "source": [
    "BASEMAP_API_URL = 'https://api.planet.com/basemaps/v1/mosaics'\n",
    "headers = {'content-type': 'application/json'}\n",
    "\n",
    "basemap_params = {\n",
    "    'name__contains': 'point_reyes_rolling_normalized_2020-04-30_mosaic'\n",
    "}\n",
    "\n",
    "basemap_service_response = requests.get(\n",
    "    url=BASEMAP_API_URL, params=basemap_params, auth=auth, headers=headers)\n",
    "\n",
    "basemaps = basemap_service_response.raise_for_status()\n",
    "if basemap_service_response.status_code != 204:\n",
    "    basemaps = json.loads(basemap_service_response.text)\n",
    "print(basemaps)\n"
   ]
  },
  {
   "cell_type": "code",
   "execution_count": null,
   "metadata": {},
   "outputs": [],
   "source": [
    "mosaic_ID = basemaps['mosaics'][0]['id']\n",
    "mosaic_box = basemaps['mosaics'][0]['bbox']\n",
    "mosaic_box_str = ','.join(map(str, mosaic_box))\n",
    "\n",
    "quad_params = {\n",
    "    'mosaic_id': mosaic_ID,\n",
    "    'bbox': mosaic_box_str,\n",
    "}\n",
    "\n",
    "quads_url = \"{}/{}/quads\".format(BASEMAP_API_URL, mosaic_ID)\n",
    "quadServiceResponse = requests.get(\n",
    "    url=quads_url, params=quad_params, auth=auth, headers=headers)\n",
    "quads = quadServiceResponse.json()\n",
    "items = quads['items']\n",
    "\n",
    "quadIds = []\n",
    "for i in items:\n",
    "    quadId = i['id']\n",
    "    quadIds.append(quadId)\n"
   ]
  },
  {
   "attachments": {},
   "cell_type": "markdown",
   "metadata": {},
   "source": [
    "### Create an order packet\n",
    "---\n",
    "Package up the details of your order in a JSON object and make a POST request, passing in the Orders URL, your JSON, your API key, and the content-type header. "
   ]
  },
  {
   "cell_type": "code",
   "execution_count": null,
   "metadata": {},
   "outputs": [],
   "source": [
    "order_params = {\n",
    "    \"name\": \"basemap order with quad_ids\",\n",
    "    \"source_type\": \"basemaps\",\n",
    "    \"products\": [\n",
    "        {\n",
    "            \"mosaic_name\": \"point_reyes_rolling_normalized_2020-04-30_mosaic\",\n",
    "            \"quad_ids\": quadIds\n",
    "        }\n",
    "    ],\n",
    "    \"tools\": [\n",
    "        {\n",
    "            \"reproject\": {\n",
    "                \"projection\": \"EPSG:4326\",\n",
    "                \"resolution\": 3.0 / 111000.0,\n",
    "                \"kernel\": \"cubic\"\n",
    "            }\n",
    "        },\n",
    "        {\n",
    "            \"bandmath\": {\n",
    "                \"b1\": \"b1\",\n",
    "                \"b2\": \"b2\",\n",
    "                \"b3\": \"b3\",\n",
    "                \"b4\": \"arctan(b1)\",\n",
    "                \"b5\": \"(b4-b3)/(b4+b3)\",\n",
    "                \"pixel_type\": \"32R\"\n",
    "            }\n",
    "        }\n",
    "    ],\n",
    "    \"delivery\": {\n",
    "        \"google_cloud_storage\": {\n",
    "            \"bucket\": \"notebook-practice\",\n",
    "            \"credentials\": GCP_CREDENTIALS,\n",
    "            \"path_prefix\": \"basemaps-to-cloud/\",\n",
    "        }\n",
    "    }\n",
    "}\n"
   ]
  },
  {
   "attachments": {},
   "cell_type": "markdown",
   "metadata": {},
   "source": [
    "### Create a session with SDK and poll for success\n",
    "\n",
    "Here, we are creating a session with the SDK and creating the order using the order parameters. Then, we are polling for success. This may take a few minutes to complete.\n",
    "\n"
   ]
  },
  {
   "cell_type": "code",
   "execution_count": null,
   "metadata": {},
   "outputs": [],
   "source": [
    "with planet.reporting.StateBar(state='creating') as reporter:\n",
    "    async with planet.Session() as sess:\n",
    "        client = planet.OrdersClient(sess)\n",
    "        # perform operations here\n",
    "        order = await client.create_order(order_params)\n",
    "        reporter.update(state='created', order_id=order['id'])\n",
    "        await client.wait(order['id'], callback=reporter.update_state,\n",
    "                          max_attempts=0)\n"
   ]
  }
 ],
 "metadata": {
  "kernelspec": {
   "display_name": "Python 3.9.12 ('base')",
   "language": "python",
   "name": "python3"
  },
  "language_info": {
   "codemirror_mode": {
    "name": "ipython",
    "version": 3
   },
   "file_extension": ".py",
   "mimetype": "text/x-python",
   "name": "python",
   "nbconvert_exporter": "python",
   "pygments_lexer": "ipython3",
   "version": "3.9.12 (main, Apr  5 2022, 01:53:17) \n[Clang 12.0.0 ]"
  },
  "orig_nbformat": 4,
  "vscode": {
   "interpreter": {
    "hash": "40d3a090f54c6569ab1632332b64b2c03c39dcf918b08424e98f38b5ae0af88f"
   }
  }
 },
 "nbformat": 4,
 "nbformat_minor": 2
}
