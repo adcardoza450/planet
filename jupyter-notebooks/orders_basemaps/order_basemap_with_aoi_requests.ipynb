{
 "cells": [
  {
   "attachments": {},
   "cell_type": "markdown",
   "metadata": {},
   "source": [
    "# Order a Basemap Using the Orders API via AOI\n",
    "---\n",
    "\n",
    "## Overview ##\n",
    "---\n",
    "Download Basemap quads based on the mosaic name, merged and clipped to area of interest.\n",
    "\n",
    "For example, from Explorer, I've defined my area of interest and downloaded that geoJSON.\n",
    "\n",
    "I've selected the basemap:\n",
    "\n",
    "global_monthly_2022_01_mosaic\n",
    "\n",
    "and downloaded my Area of Interest.\n",
    "\n",
    "To view the basemap, I clicked on the arrow-in-a-box icon to open that basemap in the Basemap viewer.\n",
    "\n",
    "To see all quads in my subject area, I uploaded my Area of Interest.\n",
    "\n",
    "326-1257,327-1257,328-1257,326-1256,327-1256,328-1256,326-1255,327-1255,328-1255\n"
   ]
  },
  {
   "attachments": {},
   "cell_type": "markdown",
   "metadata": {},
   "source": [
    "<a name=\"Get-a-basemap-ID\"></a> \n",
    "## Get a basemap ID\n",
    "---\n",
    "\n",
    "You can get a basemap ID from Planet Explorer or the Basemap Viewer.\n",
    "\n",
    "### Get a basemap ID from Planet Explorer\n",
    "You&#8217;ll need a basemap ID to work identify what basemap to download.\n",
    "\n",
    "To pick a basemap, you can open <a href=\"https://www.planet.com/explorer/#\" target=\"_blank\">Planet Explorer</a> and select a basemap from the dropdown menu in the lower left corner. (If you don't have access to basemaps, you'll see a message confirming in the lower right corner. Select \"Get Access\" to sign up for basemaps or speak to your customer service manager.)\n",
    "\n",
    "Once you've selected a basemap, the Explorer updates to include that basemap in the view.\n",
    "\n",
    "Select the search icon and time cadence, for example monthly or quarterly. Then select one of the resulting basemap IDs, such as \"global_monthly_2022_05_mosaic.\" That's the value you'll be passing into the Orders API. \n",
    "\n",
    "### Get a basemap ID from the Basemap Viewer\n",
    "\n",
    "To pick a basemap, you can open the Basemap Viewer and select a basemap from the left sidebar menu, using the filter to narrow down the basemap you want.\n",
    "\n",
    "Once you've selected a basemap, and selected the right arrow >, the basemap ID displays, such as \"global_monthly_2022_01_mosaic.\" That's the value you'll be passing into the Orders API."
   ]
  },
  {
   "attachments": {},
   "cell_type": "markdown",
   "metadata": {},
   "source": [
    "<a name=\"how-to-get-started\"></a> \n",
    "## Start coding\n",
    "\n",
    "---\n",
    "Next set up a session by importing needed Python packages, pulling in your API Key, and make an initial request (to retrieve the Orders API parameters) to confirm a connection with the server."
   ]
  },
  {
   "cell_type": "code",
   "execution_count": null,
   "metadata": {},
   "outputs": [],
   "source": [
    "import planet\n",
    "import os\n",
    "import requests\n",
    "from requests.auth import HTTPBasicAuth\n",
    "import json\n",
    "import time\n"
   ]
  },
  {
   "attachments": {},
   "cell_type": "markdown",
   "metadata": {},
   "source": [
    "<a name=\"setup-session\"></a> \n",
    "## Setup Session Using Orders API\n",
    "---\n",
    "The first step is to setup a session to access the Orders API. The Orders API can be used to download full mosaics, or to download individual parts of the mosaic known as quads. "
   ]
  },
  {
   "attachments": {},
   "cell_type": "markdown",
   "metadata": {},
   "source": [
    "### Create Session to Access API\n",
    "---\n",
    "Use your Planet API key for successful authentication. You can retrieve it from your accounts dashboard or in Explorer when selecting imagery.  Here, the API key is saved to a zsh file and imported into the python script."
   ]
  },
  {
   "cell_type": "code",
   "execution_count": null,
   "metadata": {},
   "outputs": [],
   "source": [
    "API_KEY = os.environ.get('PL_API_KEY')\n",
    "GCP_CREDENTIALS = os.environ.get('GCP_CREDENTIALS')\n",
    "orders_url = 'https://api.planet.com/compute/ops/orders/v2'\n",
    "auth = HTTPBasicAuth(API_KEY, '')\n",
    "\n",
    "# Setup the session\n",
    "session = requests.Session()\n",
    "\n",
    "# Authenticate\n",
    "session.auth = (API_KEY, \"\")\n"
   ]
  },
  {
   "attachments": {},
   "cell_type": "markdown",
   "metadata": {},
   "source": [
    "### Send Request and Check Status Code\n",
    "---\n",
    "When sending the request, we will provide one parameter. Assuming we know the name of the mosaic, we can include those details in the request to access the corresponding metadata. After sending the request, let's check the status code to ensure it was successful."
   ]
  },
  {
   "attachments": {},
   "cell_type": "markdown",
   "metadata": {},
   "source": [
    "Send a get request and print out the response, which should return `<Response [200]>`."
   ]
  },
  {
   "cell_type": "code",
   "execution_count": null,
   "metadata": {},
   "outputs": [],
   "source": [
    "response = requests.get(orders_url, auth=session.auth)\n",
    "print(response)\n"
   ]
  },
  {
   "attachments": {},
   "cell_type": "markdown",
   "metadata": {},
   "source": [
    "### Create an order packet\n",
    "---\n",
    "Package up the details of your order in a JSON object and make a POST request, passing in the Orders URL, your JSON, your API key, and the content-type header. "
   ]
  },
  {
   "cell_type": "code",
   "execution_count": null,
   "metadata": {},
   "outputs": [],
   "source": [
    "order_params = {\n",
    "    \"name\": \"basemap order with geometry\",\n",
    "    \"source_type\": \"basemaps\",\n",
    "    \"order_type\": \"partial\",\n",
    "    \"products\": [\n",
    "        {\n",
    "            \"mosaic_name\": \"global_monthly_2022_01_mosaic\",\n",
    "            \"geometry\": {\n",
    "                \"type\": \"Polygon\",\n",
    "                \"coordinates\": [\n",
    "                   [\n",
    "                       [4.607406, 52.353994],\n",
    "                       [4.680005, 52.353994],\n",
    "                       [4.680005, 52.395523],\n",
    "                       [4.607406, 52.395523],\n",
    "                       [4.607406, 52.353994]\n",
    "                   ]\n",
    "                ]\n",
    "            }\n",
    "        }\n",
    "    ],\n",
    "    \"tools\": [\n",
    "        {\"merge\": {}},\n",
    "        {\"clip\": {}}\n",
    "\n",
    "\n",
    "    ],\n",
    "    \"delivery\": {\n",
    "        \"google_cloud_storage\": {\n",
    "            \"bucket\": \"notebook-practice\",\n",
    "            \"credentials\": GCP_CREDENTIALS,\n",
    "            \"path_prefix\": \"basemaps-to-cloud/\"\n",
    "        }\n",
    "\n",
    "\n",
    "    }\n",
    "}\n"
   ]
  },
  {
   "attachments": {},
   "cell_type": "markdown",
   "metadata": {},
   "source": [
    "### Print the response object\n",
    "---\n",
    "Retrieve the response object as text to print out if there are no errors."
   ]
  },
  {
   "cell_type": "code",
   "execution_count": null,
   "metadata": {},
   "outputs": [],
   "source": [
    "ORDERS_API_URL = 'https://api.planet.com/compute/ops/orders/v2'\n",
    "headers = {'content-type': 'application/json'}\n",
    "param_req = requests.post(ORDERS_API_URL, data=json.dumps(\n",
    "    order_params), auth=auth, headers={'content-type': 'application/json'})\n",
    "\n",
    "print(param_req.text)\n"
   ]
  },
  {
   "attachments": {},
   "cell_type": "markdown",
   "metadata": {},
   "source": [
    "### Place the order\n",
    "---\n",
    "The following code  "
   ]
  },
  {
   "cell_type": "code",
   "execution_count": null,
   "metadata": {},
   "outputs": [],
   "source": [
    "def place_order(order_params, auth):\n",
    "    response = requests.post(ORDERS_API_URL, data=json.dumps(\n",
    "        order_params), auth=auth, headers=headers)\n",
    "    order_id = response.json()['id']\n",
    "    order_url = ORDERS_API_URL + '/' + order_id\n",
    "    return order_url"
   ]
  },
  {
   "cell_type": "code",
   "execution_count": null,
   "metadata": {},
   "outputs": [],
   "source": [
    "order_url = place_order(order_params, session.auth)"
   ]
  },
  {
   "attachments": {},
   "cell_type": "markdown",
   "metadata": {},
   "source": [
    "### Poll for data success\n",
    "---\n",
    "When you're ready to pull the data, you can poll for when it's ready. Here, the polling is limited to a number of loops routine."
   ]
  },
  {
   "cell_type": "code",
   "execution_count": null,
   "metadata": {},
   "outputs": [],
   "source": [
    "def poll_for_success(order_url, auth, num_loops=30):\n",
    "    count = 0\n",
    "    while(count < num_loops):\n",
    "        count += 1\n",
    "        r = requests.get(order_url, auth=session.auth)\n",
    "        response = r.json()\n",
    "        state = response['state']\n",
    "        print(state)\n",
    "        end_states = ['success', 'failed', 'partial']\n",
    "        if state in end_states:\n",
    "            break\n",
    "        time.sleep(10)"
   ]
  },
  {
   "cell_type": "code",
   "execution_count": null,
   "metadata": {},
   "outputs": [],
   "source": [
    "poll_for_success(order_url, auth)"
   ]
  },
  {
   "cell_type": "code",
   "execution_count": null,
   "metadata": {},
   "outputs": [],
   "source": [
    "r = requests.get(order_url, auth=session.auth)\n",
    "response = r.json()\n",
    "results = response['_links']['results']\n",
    "\n",
    "print([r['name'] for r in results])\n"
   ]
  },
  {
   "cell_type": "code",
   "execution_count": null,
   "metadata": {},
   "outputs": [],
   "source": []
  },
  {
   "cell_type": "markdown",
   "metadata": {},
   "source": []
  }
 ],
 "metadata": {
  "kernelspec": {
   "display_name": "Python 3 (ipykernel)",
   "language": "python",
   "name": "python3"
  },
  "language_info": {
   "codemirror_mode": {
    "name": "ipython",
    "version": 3
   },
   "file_extension": ".py",
   "mimetype": "text/x-python",
   "name": "python",
   "nbconvert_exporter": "python",
   "pygments_lexer": "ipython3",
   "version": "3.9.12"
  },
  "vscode": {
   "interpreter": {
    "hash": "40d3a090f54c6569ab1632332b64b2c03c39dcf918b08424e98f38b5ae0af88f"
   }
  }
 },
 "nbformat": 4,
 "nbformat_minor": 2
}
