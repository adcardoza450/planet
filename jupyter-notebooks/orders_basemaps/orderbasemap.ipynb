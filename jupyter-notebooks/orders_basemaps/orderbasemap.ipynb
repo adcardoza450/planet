{
 "cells": [
  {
   "cell_type": "markdown",
   "metadata": {},
   "source": [
    "## Ordering Basemaps via Orders API"
   ]
  },
  {
   "cell_type": "code",
   "execution_count": 12,
   "metadata": {},
   "outputs": [],
   "source": [
    "import planet\n",
    "import os\n",
    "import requests\n",
    "from requests.auth import HTTPBasicAuth\n",
    "import json\n",
    "import time\n",
    "import pathlib"
   ]
  },
  {
   "cell_type": "code",
   "execution_count": null,
   "metadata": {},
   "outputs": [],
   "source": []
  },
  {
   "cell_type": "markdown",
   "metadata": {},
   "source": [
    "### Ordering a Basemap via an AOI  "
   ]
  },
  {
   "cell_type": "markdown",
   "metadata": {},
   "source": [
    "step 1: find name of basemap on:\n",
    "    planet explorer\n",
    "    basemap api URL\n"
   ]
  },
  {
   "cell_type": "markdown",
   "metadata": {},
   "source": [
    "step 2: create order"
   ]
  },
  {
   "cell_type": "code",
   "execution_count": 13,
   "metadata": {},
   "outputs": [],
   "source": []
  },
  {
   "cell_type": "code",
   "execution_count": 14,
   "metadata": {},
   "outputs": [],
   "source": []
  },
  {
   "cell_type": "code",
   "execution_count": 15,
   "metadata": {},
   "outputs": [],
   "source": [
    "API_KEY = 'api key'\n",
    "orders_url = 'https://api.planet.com/compute/ops/orders/v2' \n",
    "auth = HTTPBasicAuth('api key', '')\n",
    "if os.environ.get(API_KEY, ''):\n",
    "    API_KEY = os.environ.get(API_KEY, '')\n",
    "else:\n",
    "    API_KEY = API_KEY\n",
    "    \n",
    "# Setup the session\n",
    "session = requests.Session()\n",
    "\n",
    "# Authenticate\n",
    "session.auth = (API_KEY, \"\")"
   ]
  },
  {
   "cell_type": "code",
   "execution_count": 16,
   "metadata": {},
   "outputs": [
    {
     "data": {
      "text/plain": [
       "<Response [200]>"
      ]
     },
     "execution_count": 16,
     "metadata": {},
     "output_type": "execute_result"
    }
   ],
   "source": [
    "response = requests.get(orders_url, auth=session.auth)\n",
    "response"
   ]
  },
  {
   "cell_type": "code",
   "execution_count": 17,
   "metadata": {},
   "outputs": [],
   "source": [
    "order_params = {\n",
    "   \"name\": \"basemap order with geometry\",\n",
    "   \"source_type\": \"basemaps\",\n",
    "   \"order_type\":\"partial\",\n",
    "   \"products\": [\n",
    "       {\n",
    "           \"mosaic_name\": \"global_monthly_2022_01_mosaic\",\n",
    "           \"geometry\":{\n",
    "               \"type\": \"Polygon\",\n",
    "               \"coordinates\":[\n",
    "                   [\n",
    "                       [ 4.607406, 52.353994 ],\n",
    "                        [ 4.680005, 52.353994 ],\n",
    "                        [ 4.680005, 52.395523 ],\n",
    "                        [ 4.607406, 52.395523 ],\n",
    "                        [ 4.607406, 52.353994 ]\n",
    "                   ]\n",
    "               ]\n",
    "           }\n",
    "      }\n",
    "  ],\n",
    "    \"tools\": [\n",
    "      {\"merge\": {}},\n",
    "      {\"clip\": {}}\n",
    "      \n",
    "  ],\n",
    " \"delivery\":{\n",
    "      \"google_cloud_storage\":{\n",
    "         \"bucket\":\"notebook-practice\",\n",
    "         \"credentials\":\"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\",\n",
    "         \"path_prefix\":\"basemaps-to-cloud/\"\n",
    "      }\n",
    "\n",
    "\n",
    " }\n",
    "}"
   ]
  },
  {
   "cell_type": "code",
   "execution_count": 18,
   "metadata": {},
   "outputs": [
    {
     "name": "stdout",
     "output_type": "stream",
     "text": [
      "{\"_links\":{\"_self\":\"https://api.planet.com/compute/ops/orders/v2/bda6aaae-b2ff-48f9-a794-0d2c4342a9ea\"},\"created_on\":\"2022-11-18T22:39:28.111Z\",\"delivery\":{\"google_cloud_storage\":{\"bucket\":\"notebook-practice\",\"credentials\":\"<REDACTED>\",\"path_prefix\":\"basemaps-to-cloud/\"}},\"error_hints\":[],\"id\":\"bda6aaae-b2ff-48f9-a794-0d2c4342a9ea\",\"last_message\":\"Preparing order\",\"last_modified\":\"2022-11-18T22:39:28.111Z\",\"name\":\"basemap order with geometry\",\"order_type\":\"partial\",\"products\":[{\"geometry\":{\"coordinates\":[[[4.607406,52.353994],[4.680005,52.353994],[4.680005,52.395523],[4.607406,52.395523],[4.607406,52.353994]]],\"type\":\"Polygon\"},\"mosaic_name\":\"global_monthly_2022_01_mosaic\"}],\"source_type\":\"basemaps\",\"state\":\"queued\",\"tools\":[{\"merge\":{}},{\"clip\":{}}]}\n",
      "\n"
     ]
    }
   ],
   "source": [
    "ORDERS_API_URL = 'https://api.planet.com/compute/ops/orders/v2'\n",
    "headers = {'content-type': 'application/json'}\n",
    "paramRes = requests.post(ORDERS_API_URL, data=json.dumps(order_params), auth=auth, headers = {'content-type': 'application/json'})\n",
    "\n",
    "print(paramRes.text)"
   ]
  },
  {
   "cell_type": "code",
   "execution_count": 19,
   "metadata": {},
   "outputs": [],
   "source": [
    "def place_order(order_params, auth):\n",
    "    response = requests.post(ORDERS_API_URL, data=json.dumps(order_params), auth=auth, headers=headers)\n",
    "    print(response)\n",
    "    order_id = response.json()['id']\n",
    "    print(order_id)\n",
    "    order_url = ORDERS_API_URL + '/' + order_id\n",
    "    return order_url"
   ]
  },
  {
   "cell_type": "code",
   "execution_count": null,
   "metadata": {},
   "outputs": [],
   "source": []
  },
  {
   "cell_type": "code",
   "execution_count": 20,
   "metadata": {},
   "outputs": [
    {
     "name": "stdout",
     "output_type": "stream",
     "text": [
      "<Response [202]>\n",
      "36aa44c6-56ed-4c78-8570-105bebc13a6a\n"
     ]
    }
   ],
   "source": [
    "order_url = place_order(order_params, session.auth)"
   ]
  },
  {
   "cell_type": "code",
   "execution_count": 21,
   "metadata": {},
   "outputs": [
    {
     "name": "stdout",
     "output_type": "stream",
     "text": [
      "{'_links': {'_self': 'https://api.planet.com/compute/ops/orders/v2/36aa44c6-56ed-4c78-8570-105bebc13a6a'}, 'created_on': '2022-11-18T22:39:28.810Z', 'delivery': {'google_cloud_storage': {'bucket': 'notebook-practice', 'credentials': '<REDACTED>', 'path_prefix': 'basemaps-to-cloud/'}}, 'error_hints': [], 'id': '36aa44c6-56ed-4c78-8570-105bebc13a6a', 'last_message': 'Preparing order', 'last_modified': '2022-11-18T22:39:28.810Z', 'name': 'basemap order with geometry', 'order_type': 'partial', 'products': [{'geometry': {'coordinates': [[[4.607406, 52.353994], [4.680005, 52.353994], [4.680005, 52.395523], [4.607406, 52.395523], [4.607406, 52.353994]]], 'type': 'Polygon'}, 'mosaic_name': 'global_monthly_2022_01_mosaic'}], 'source_type': 'basemaps', 'state': 'queued', 'tools': [{'merge': {}}, {'clip': {}}]}\n",
      "queued\n",
      "{'_links': {'_self': 'https://api.planet.com/compute/ops/orders/v2/36aa44c6-56ed-4c78-8570-105bebc13a6a'}, 'created_on': '2022-11-18T22:39:28.810Z', 'delivery': {'google_cloud_storage': {'bucket': 'notebook-practice', 'credentials': '<REDACTED>', 'path_prefix': 'basemaps-to-cloud/'}}, 'error_hints': [], 'id': '36aa44c6-56ed-4c78-8570-105bebc13a6a', 'last_message': 'starting', 'last_modified': '2022-11-18T22:39:36.291Z', 'name': 'basemap order with geometry', 'order_type': 'partial', 'products': [{'geometry': {'coordinates': [[[4.607406, 52.353994], [4.680005, 52.353994], [4.680005, 52.395523], [4.607406, 52.395523], [4.607406, 52.353994]]], 'type': 'Polygon'}, 'mosaic_name': 'global_monthly_2022_01_mosaic'}], 'source_type': 'basemaps', 'state': 'running', 'tools': [{'merge': {}}, {'clip': {}}]}\n",
      "running\n",
      "{'_links': {'_self': 'https://api.planet.com/compute/ops/orders/v2/36aa44c6-56ed-4c78-8570-105bebc13a6a'}, 'created_on': '2022-11-18T22:39:28.810Z', 'delivery': {'google_cloud_storage': {'bucket': 'notebook-practice', 'credentials': '<REDACTED>', 'path_prefix': 'basemaps-to-cloud/'}}, 'error_hints': [], 'id': '36aa44c6-56ed-4c78-8570-105bebc13a6a', 'last_message': 'Waiting for merge operations to complete', 'last_modified': '2022-11-18T22:39:48.298Z', 'name': 'basemap order with geometry', 'order_type': 'partial', 'products': [{'geometry': {'coordinates': [[[4.607406, 52.353994], [4.680005, 52.353994], [4.680005, 52.395523], [4.607406, 52.395523], [4.607406, 52.353994]]], 'type': 'Polygon'}, 'mosaic_name': 'global_monthly_2022_01_mosaic'}], 'source_type': 'basemaps', 'state': 'running', 'tools': [{'merge': {}}, {'clip': {}}]}\n",
      "running\n",
      "{'_links': {'_self': 'https://api.planet.com/compute/ops/orders/v2/36aa44c6-56ed-4c78-8570-105bebc13a6a'}, 'created_on': '2022-11-18T22:39:28.810Z', 'delivery': {'google_cloud_storage': {'bucket': 'notebook-practice', 'credentials': '<REDACTED>', 'path_prefix': 'basemaps-to-cloud/'}}, 'error_hints': [], 'id': '36aa44c6-56ed-4c78-8570-105bebc13a6a', 'last_message': 'Waiting for merge operations to complete', 'last_modified': '2022-11-18T22:39:48.298Z', 'name': 'basemap order with geometry', 'order_type': 'partial', 'products': [{'geometry': {'coordinates': [[[4.607406, 52.353994], [4.680005, 52.353994], [4.680005, 52.395523], [4.607406, 52.395523], [4.607406, 52.353994]]], 'type': 'Polygon'}, 'mosaic_name': 'global_monthly_2022_01_mosaic'}], 'source_type': 'basemaps', 'state': 'running', 'tools': [{'merge': {}}, {'clip': {}}]}\n",
      "running\n",
      "{'_links': {'_self': 'https://api.planet.com/compute/ops/orders/v2/36aa44c6-56ed-4c78-8570-105bebc13a6a'}, 'created_on': '2022-11-18T22:39:28.810Z', 'delivery': {'google_cloud_storage': {'bucket': 'notebook-practice', 'credentials': '<REDACTED>', 'path_prefix': 'basemaps-to-cloud/'}}, 'error_hints': [], 'id': '36aa44c6-56ed-4c78-8570-105bebc13a6a', 'last_message': 'Waiting for merge operations to complete', 'last_modified': '2022-11-18T22:39:48.298Z', 'name': 'basemap order with geometry', 'order_type': 'partial', 'products': [{'geometry': {'coordinates': [[[4.607406, 52.353994], [4.680005, 52.353994], [4.680005, 52.395523], [4.607406, 52.395523], [4.607406, 52.353994]]], 'type': 'Polygon'}, 'mosaic_name': 'global_monthly_2022_01_mosaic'}], 'source_type': 'basemaps', 'state': 'running', 'tools': [{'merge': {}}, {'clip': {}}]}\n",
      "running\n",
      "{'_links': {'_self': 'https://api.planet.com/compute/ops/orders/v2/36aa44c6-56ed-4c78-8570-105bebc13a6a'}, 'created_on': '2022-11-18T22:39:28.810Z', 'delivery': {'google_cloud_storage': {'bucket': 'notebook-practice', 'credentials': '<REDACTED>', 'path_prefix': 'basemaps-to-cloud/'}}, 'error_hints': [], 'id': '36aa44c6-56ed-4c78-8570-105bebc13a6a', 'last_message': 'Waiting for merge operations to complete', 'last_modified': '2022-11-18T22:39:48.298Z', 'name': 'basemap order with geometry', 'order_type': 'partial', 'products': [{'geometry': {'coordinates': [[[4.607406, 52.353994], [4.680005, 52.353994], [4.680005, 52.395523], [4.607406, 52.395523], [4.607406, 52.353994]]], 'type': 'Polygon'}, 'mosaic_name': 'global_monthly_2022_01_mosaic'}], 'source_type': 'basemaps', 'state': 'running', 'tools': [{'merge': {}}, {'clip': {}}]}\n",
      "running\n",
      "{'_links': {'_self': 'https://api.planet.com/compute/ops/orders/v2/36aa44c6-56ed-4c78-8570-105bebc13a6a'}, 'created_on': '2022-11-18T22:39:28.810Z', 'delivery': {'google_cloud_storage': {'bucket': 'notebook-practice', 'credentials': '<REDACTED>', 'path_prefix': 'basemaps-to-cloud/'}}, 'error_hints': [], 'id': '36aa44c6-56ed-4c78-8570-105bebc13a6a', 'last_message': 'Waiting for merge operations to complete', 'last_modified': '2022-11-18T22:39:48.298Z', 'name': 'basemap order with geometry', 'order_type': 'partial', 'products': [{'geometry': {'coordinates': [[[4.607406, 52.353994], [4.680005, 52.353994], [4.680005, 52.395523], [4.607406, 52.395523], [4.607406, 52.353994]]], 'type': 'Polygon'}, 'mosaic_name': 'global_monthly_2022_01_mosaic'}], 'source_type': 'basemaps', 'state': 'running', 'tools': [{'merge': {}}, {'clip': {}}]}\n",
      "running\n",
      "{'_links': {'_self': 'https://api.planet.com/compute/ops/orders/v2/36aa44c6-56ed-4c78-8570-105bebc13a6a'}, 'created_on': '2022-11-18T22:39:28.810Z', 'delivery': {'google_cloud_storage': {'bucket': 'notebook-practice', 'credentials': '<REDACTED>', 'path_prefix': 'basemaps-to-cloud/'}}, 'error_hints': [], 'id': '36aa44c6-56ed-4c78-8570-105bebc13a6a', 'last_message': 'Waiting for merge operations to complete', 'last_modified': '2022-11-18T22:39:48.298Z', 'name': 'basemap order with geometry', 'order_type': 'partial', 'products': [{'geometry': {'coordinates': [[[4.607406, 52.353994], [4.680005, 52.353994], [4.680005, 52.395523], [4.607406, 52.395523], [4.607406, 52.353994]]], 'type': 'Polygon'}, 'mosaic_name': 'global_monthly_2022_01_mosaic'}], 'source_type': 'basemaps', 'state': 'running', 'tools': [{'merge': {}}, {'clip': {}}]}\n",
      "running\n",
      "{'_links': {'_self': 'https://api.planet.com/compute/ops/orders/v2/36aa44c6-56ed-4c78-8570-105bebc13a6a'}, 'created_on': '2022-11-18T22:39:28.810Z', 'delivery': {'google_cloud_storage': {'bucket': 'notebook-practice', 'credentials': '<REDACTED>', 'path_prefix': 'basemaps-to-cloud/'}}, 'error_hints': [], 'id': '36aa44c6-56ed-4c78-8570-105bebc13a6a', 'last_message': 'Waiting for merge operations to complete', 'last_modified': '2022-11-18T22:40:48.487Z', 'name': 'basemap order with geometry', 'order_type': 'partial', 'products': [{'geometry': {'coordinates': [[[4.607406, 52.353994], [4.680005, 52.353994], [4.680005, 52.395523], [4.607406, 52.395523], [4.607406, 52.353994]]], 'type': 'Polygon'}, 'mosaic_name': 'global_monthly_2022_01_mosaic'}], 'source_type': 'basemaps', 'state': 'running', 'tools': [{'merge': {}}, {'clip': {}}]}\n",
      "running\n",
      "{'_links': {'_self': 'https://api.planet.com/compute/ops/orders/v2/36aa44c6-56ed-4c78-8570-105bebc13a6a'}, 'created_on': '2022-11-18T22:39:28.810Z', 'delivery': {'google_cloud_storage': {'bucket': 'notebook-practice', 'credentials': '<REDACTED>', 'path_prefix': 'basemaps-to-cloud/'}}, 'error_hints': [], 'id': '36aa44c6-56ed-4c78-8570-105bebc13a6a', 'last_message': 'Waiting for merge operations to complete', 'last_modified': '2022-11-18T22:40:48.487Z', 'name': 'basemap order with geometry', 'order_type': 'partial', 'products': [{'geometry': {'coordinates': [[[4.607406, 52.353994], [4.680005, 52.353994], [4.680005, 52.395523], [4.607406, 52.395523], [4.607406, 52.353994]]], 'type': 'Polygon'}, 'mosaic_name': 'global_monthly_2022_01_mosaic'}], 'source_type': 'basemaps', 'state': 'running', 'tools': [{'merge': {}}, {'clip': {}}]}\n",
      "running\n",
      "{'_links': {'_self': 'https://api.planet.com/compute/ops/orders/v2/36aa44c6-56ed-4c78-8570-105bebc13a6a'}, 'created_on': '2022-11-18T22:39:28.810Z', 'delivery': {'google_cloud_storage': {'bucket': 'notebook-practice', 'credentials': '<REDACTED>', 'path_prefix': 'basemaps-to-cloud/'}}, 'error_hints': [], 'id': '36aa44c6-56ed-4c78-8570-105bebc13a6a', 'last_message': 'Waiting for merge operations to complete', 'last_modified': '2022-11-18T22:40:48.487Z', 'name': 'basemap order with geometry', 'order_type': 'partial', 'products': [{'geometry': {'coordinates': [[[4.607406, 52.353994], [4.680005, 52.353994], [4.680005, 52.395523], [4.607406, 52.395523], [4.607406, 52.353994]]], 'type': 'Polygon'}, 'mosaic_name': 'global_monthly_2022_01_mosaic'}], 'source_type': 'basemaps', 'state': 'running', 'tools': [{'merge': {}}, {'clip': {}}]}\n",
      "running\n",
      "{'_links': {'_self': 'https://api.planet.com/compute/ops/orders/v2/36aa44c6-56ed-4c78-8570-105bebc13a6a'}, 'created_on': '2022-11-18T22:39:28.810Z', 'delivery': {'google_cloud_storage': {'bucket': 'notebook-practice', 'credentials': '<REDACTED>', 'path_prefix': 'basemaps-to-cloud/'}}, 'error_hints': [], 'id': '36aa44c6-56ed-4c78-8570-105bebc13a6a', 'last_message': 'Waiting for merge operations to complete', 'last_modified': '2022-11-18T22:40:48.487Z', 'name': 'basemap order with geometry', 'order_type': 'partial', 'products': [{'geometry': {'coordinates': [[[4.607406, 52.353994], [4.680005, 52.353994], [4.680005, 52.395523], [4.607406, 52.395523], [4.607406, 52.353994]]], 'type': 'Polygon'}, 'mosaic_name': 'global_monthly_2022_01_mosaic'}], 'source_type': 'basemaps', 'state': 'running', 'tools': [{'merge': {}}, {'clip': {}}]}\n",
      "running\n",
      "{'_links': {'_self': 'https://api.planet.com/compute/ops/orders/v2/36aa44c6-56ed-4c78-8570-105bebc13a6a'}, 'created_on': '2022-11-18T22:39:28.810Z', 'delivery': {'google_cloud_storage': {'bucket': 'notebook-practice', 'credentials': '<REDACTED>', 'path_prefix': 'basemaps-to-cloud/'}}, 'error_hints': [], 'id': '36aa44c6-56ed-4c78-8570-105bebc13a6a', 'last_message': 'Waiting for merge operations to complete', 'last_modified': '2022-11-18T22:40:48.487Z', 'name': 'basemap order with geometry', 'order_type': 'partial', 'products': [{'geometry': {'coordinates': [[[4.607406, 52.353994], [4.680005, 52.353994], [4.680005, 52.395523], [4.607406, 52.395523], [4.607406, 52.353994]]], 'type': 'Polygon'}, 'mosaic_name': 'global_monthly_2022_01_mosaic'}], 'source_type': 'basemaps', 'state': 'running', 'tools': [{'merge': {}}, {'clip': {}}]}\n",
      "running\n",
      "{'_links': {'_self': 'https://api.planet.com/compute/ops/orders/v2/36aa44c6-56ed-4c78-8570-105bebc13a6a'}, 'created_on': '2022-11-18T22:39:28.810Z', 'delivery': {'google_cloud_storage': {'bucket': 'notebook-practice', 'credentials': '<REDACTED>', 'path_prefix': 'basemaps-to-cloud/'}}, 'error_hints': [], 'id': '36aa44c6-56ed-4c78-8570-105bebc13a6a', 'last_message': 'Waiting for merge operations to complete', 'last_modified': '2022-11-18T22:40:48.487Z', 'name': 'basemap order with geometry', 'order_type': 'partial', 'products': [{'geometry': {'coordinates': [[[4.607406, 52.353994], [4.680005, 52.353994], [4.680005, 52.395523], [4.607406, 52.395523], [4.607406, 52.353994]]], 'type': 'Polygon'}, 'mosaic_name': 'global_monthly_2022_01_mosaic'}], 'source_type': 'basemaps', 'state': 'running', 'tools': [{'merge': {}}, {'clip': {}}]}\n",
      "running\n",
      "{'_links': {'_self': 'https://api.planet.com/compute/ops/orders/v2/36aa44c6-56ed-4c78-8570-105bebc13a6a'}, 'created_on': '2022-11-18T22:39:28.810Z', 'delivery': {'google_cloud_storage': {'bucket': 'notebook-practice', 'credentials': '<REDACTED>', 'path_prefix': 'basemaps-to-cloud/'}}, 'error_hints': [], 'id': '36aa44c6-56ed-4c78-8570-105bebc13a6a', 'last_message': 'Waiting for merge operations to complete', 'last_modified': '2022-11-18T22:41:50.351Z', 'name': 'basemap order with geometry', 'order_type': 'partial', 'products': [{'geometry': {'coordinates': [[[4.607406, 52.353994], [4.680005, 52.353994], [4.680005, 52.395523], [4.607406, 52.395523], [4.607406, 52.353994]]], 'type': 'Polygon'}, 'mosaic_name': 'global_monthly_2022_01_mosaic'}], 'source_type': 'basemaps', 'state': 'running', 'tools': [{'merge': {}}, {'clip': {}}]}\n",
      "running\n",
      "{'_links': {'_self': 'https://api.planet.com/compute/ops/orders/v2/36aa44c6-56ed-4c78-8570-105bebc13a6a'}, 'created_on': '2022-11-18T22:39:28.810Z', 'delivery': {'google_cloud_storage': {'bucket': 'notebook-practice', 'credentials': '<REDACTED>', 'path_prefix': 'basemaps-to-cloud/'}}, 'error_hints': [], 'id': '36aa44c6-56ed-4c78-8570-105bebc13a6a', 'last_message': 'Waiting for merge operations to complete', 'last_modified': '2022-11-18T22:41:50.351Z', 'name': 'basemap order with geometry', 'order_type': 'partial', 'products': [{'geometry': {'coordinates': [[[4.607406, 52.353994], [4.680005, 52.353994], [4.680005, 52.395523], [4.607406, 52.395523], [4.607406, 52.353994]]], 'type': 'Polygon'}, 'mosaic_name': 'global_monthly_2022_01_mosaic'}], 'source_type': 'basemaps', 'state': 'running', 'tools': [{'merge': {}}, {'clip': {}}]}\n",
      "running\n",
      "{'_links': {'_self': 'https://api.planet.com/compute/ops/orders/v2/36aa44c6-56ed-4c78-8570-105bebc13a6a'}, 'created_on': '2022-11-18T22:39:28.810Z', 'delivery': {'google_cloud_storage': {'bucket': 'notebook-practice', 'credentials': '<REDACTED>', 'path_prefix': 'basemaps-to-cloud/'}}, 'error_hints': [], 'id': '36aa44c6-56ed-4c78-8570-105bebc13a6a', 'last_message': 'Waiting for merge operations to complete', 'last_modified': '2022-11-18T22:41:50.351Z', 'name': 'basemap order with geometry', 'order_type': 'partial', 'products': [{'geometry': {'coordinates': [[[4.607406, 52.353994], [4.680005, 52.353994], [4.680005, 52.395523], [4.607406, 52.395523], [4.607406, 52.353994]]], 'type': 'Polygon'}, 'mosaic_name': 'global_monthly_2022_01_mosaic'}], 'source_type': 'basemaps', 'state': 'running', 'tools': [{'merge': {}}, {'clip': {}}]}\n",
      "running\n",
      "{'_links': {'_self': 'https://api.planet.com/compute/ops/orders/v2/36aa44c6-56ed-4c78-8570-105bebc13a6a'}, 'created_on': '2022-11-18T22:39:28.810Z', 'delivery': {'google_cloud_storage': {'bucket': 'notebook-practice', 'credentials': '<REDACTED>', 'path_prefix': 'basemaps-to-cloud/'}}, 'error_hints': [], 'id': '36aa44c6-56ed-4c78-8570-105bebc13a6a', 'last_message': 'Waiting for merge operations to complete', 'last_modified': '2022-11-18T22:41:50.351Z', 'name': 'basemap order with geometry', 'order_type': 'partial', 'products': [{'geometry': {'coordinates': [[[4.607406, 52.353994], [4.680005, 52.353994], [4.680005, 52.395523], [4.607406, 52.395523], [4.607406, 52.353994]]], 'type': 'Polygon'}, 'mosaic_name': 'global_monthly_2022_01_mosaic'}], 'source_type': 'basemaps', 'state': 'running', 'tools': [{'merge': {}}, {'clip': {}}]}\n",
      "running\n",
      "{'_links': {'_self': 'https://api.planet.com/compute/ops/orders/v2/36aa44c6-56ed-4c78-8570-105bebc13a6a'}, 'created_on': '2022-11-18T22:39:28.810Z', 'delivery': {'google_cloud_storage': {'bucket': 'notebook-practice', 'credentials': '<REDACTED>', 'path_prefix': 'basemaps-to-cloud/'}}, 'error_hints': [], 'id': '36aa44c6-56ed-4c78-8570-105bebc13a6a', 'last_message': 'Waiting for merge operations to complete', 'last_modified': '2022-11-18T22:41:50.351Z', 'name': 'basemap order with geometry', 'order_type': 'partial', 'products': [{'geometry': {'coordinates': [[[4.607406, 52.353994], [4.680005, 52.353994], [4.680005, 52.395523], [4.607406, 52.395523], [4.607406, 52.353994]]], 'type': 'Polygon'}, 'mosaic_name': 'global_monthly_2022_01_mosaic'}], 'source_type': 'basemaps', 'state': 'running', 'tools': [{'merge': {}}, {'clip': {}}]}\n",
      "running\n",
      "{'_links': {'_self': 'https://api.planet.com/compute/ops/orders/v2/36aa44c6-56ed-4c78-8570-105bebc13a6a'}, 'created_on': '2022-11-18T22:39:28.810Z', 'delivery': {'google_cloud_storage': {'bucket': 'notebook-practice', 'credentials': '<REDACTED>', 'path_prefix': 'basemaps-to-cloud/'}}, 'error_hints': [], 'id': '36aa44c6-56ed-4c78-8570-105bebc13a6a', 'last_message': 'Waiting for merge operations to complete', 'last_modified': '2022-11-18T22:41:50.351Z', 'name': 'basemap order with geometry', 'order_type': 'partial', 'products': [{'geometry': {'coordinates': [[[4.607406, 52.353994], [4.680005, 52.353994], [4.680005, 52.395523], [4.607406, 52.395523], [4.607406, 52.353994]]], 'type': 'Polygon'}, 'mosaic_name': 'global_monthly_2022_01_mosaic'}], 'source_type': 'basemaps', 'state': 'running', 'tools': [{'merge': {}}, {'clip': {}}]}\n",
      "running\n",
      "{'_links': {'_self': 'https://api.planet.com/compute/ops/orders/v2/36aa44c6-56ed-4c78-8570-105bebc13a6a'}, 'created_on': '2022-11-18T22:39:28.810Z', 'delivery': {'google_cloud_storage': {'bucket': 'notebook-practice', 'credentials': '<REDACTED>', 'path_prefix': 'basemaps-to-cloud/'}}, 'error_hints': [], 'id': '36aa44c6-56ed-4c78-8570-105bebc13a6a', 'last_message': 'Waiting for merge operations to complete', 'last_modified': '2022-11-18T22:42:50.531Z', 'name': 'basemap order with geometry', 'order_type': 'partial', 'products': [{'geometry': {'coordinates': [[[4.607406, 52.353994], [4.680005, 52.353994], [4.680005, 52.395523], [4.607406, 52.395523], [4.607406, 52.353994]]], 'type': 'Polygon'}, 'mosaic_name': 'global_monthly_2022_01_mosaic'}], 'source_type': 'basemaps', 'state': 'running', 'tools': [{'merge': {}}, {'clip': {}}]}\n",
      "running\n",
      "{'_links': {'_self': 'https://api.planet.com/compute/ops/orders/v2/36aa44c6-56ed-4c78-8570-105bebc13a6a'}, 'created_on': '2022-11-18T22:39:28.810Z', 'delivery': {'google_cloud_storage': {'bucket': 'notebook-practice', 'credentials': '<REDACTED>', 'path_prefix': 'basemaps-to-cloud/'}}, 'error_hints': [], 'id': '36aa44c6-56ed-4c78-8570-105bebc13a6a', 'last_message': 'Waiting for merge operations to complete', 'last_modified': '2022-11-18T22:42:50.531Z', 'name': 'basemap order with geometry', 'order_type': 'partial', 'products': [{'geometry': {'coordinates': [[[4.607406, 52.353994], [4.680005, 52.353994], [4.680005, 52.395523], [4.607406, 52.395523], [4.607406, 52.353994]]], 'type': 'Polygon'}, 'mosaic_name': 'global_monthly_2022_01_mosaic'}], 'source_type': 'basemaps', 'state': 'running', 'tools': [{'merge': {}}, {'clip': {}}]}\n",
      "running\n",
      "{'_links': {'_self': 'https://api.planet.com/compute/ops/orders/v2/36aa44c6-56ed-4c78-8570-105bebc13a6a'}, 'created_on': '2022-11-18T22:39:28.810Z', 'delivery': {'google_cloud_storage': {'bucket': 'notebook-practice', 'credentials': '<REDACTED>', 'path_prefix': 'basemaps-to-cloud/'}}, 'error_hints': [], 'id': '36aa44c6-56ed-4c78-8570-105bebc13a6a', 'last_message': 'Waiting for merge operations to complete', 'last_modified': '2022-11-18T22:42:50.531Z', 'name': 'basemap order with geometry', 'order_type': 'partial', 'products': [{'geometry': {'coordinates': [[[4.607406, 52.353994], [4.680005, 52.353994], [4.680005, 52.395523], [4.607406, 52.395523], [4.607406, 52.353994]]], 'type': 'Polygon'}, 'mosaic_name': 'global_monthly_2022_01_mosaic'}], 'source_type': 'basemaps', 'state': 'running', 'tools': [{'merge': {}}, {'clip': {}}]}\n",
      "running\n",
      "{'_links': {'_self': 'https://api.planet.com/compute/ops/orders/v2/36aa44c6-56ed-4c78-8570-105bebc13a6a'}, 'created_on': '2022-11-18T22:39:28.810Z', 'delivery': {'google_cloud_storage': {'bucket': 'notebook-practice', 'credentials': '<REDACTED>', 'path_prefix': 'basemaps-to-cloud/'}}, 'error_hints': [], 'id': '36aa44c6-56ed-4c78-8570-105bebc13a6a', 'last_message': 'Waiting for merge operations to complete', 'last_modified': '2022-11-18T22:42:50.531Z', 'name': 'basemap order with geometry', 'order_type': 'partial', 'products': [{'geometry': {'coordinates': [[[4.607406, 52.353994], [4.680005, 52.353994], [4.680005, 52.395523], [4.607406, 52.395523], [4.607406, 52.353994]]], 'type': 'Polygon'}, 'mosaic_name': 'global_monthly_2022_01_mosaic'}], 'source_type': 'basemaps', 'state': 'running', 'tools': [{'merge': {}}, {'clip': {}}]}\n",
      "running\n",
      "{'_links': {'_self': 'https://api.planet.com/compute/ops/orders/v2/36aa44c6-56ed-4c78-8570-105bebc13a6a'}, 'created_on': '2022-11-18T22:39:28.810Z', 'delivery': {'google_cloud_storage': {'bucket': 'notebook-practice', 'credentials': '<REDACTED>', 'path_prefix': 'basemaps-to-cloud/'}}, 'error_hints': [], 'id': '36aa44c6-56ed-4c78-8570-105bebc13a6a', 'last_message': 'Waiting for merge operations to complete', 'last_modified': '2022-11-18T22:42:50.531Z', 'name': 'basemap order with geometry', 'order_type': 'partial', 'products': [{'geometry': {'coordinates': [[[4.607406, 52.353994], [4.680005, 52.353994], [4.680005, 52.395523], [4.607406, 52.395523], [4.607406, 52.353994]]], 'type': 'Polygon'}, 'mosaic_name': 'global_monthly_2022_01_mosaic'}], 'source_type': 'basemaps', 'state': 'running', 'tools': [{'merge': {}}, {'clip': {}}]}\n",
      "running\n",
      "{'_links': {'_self': 'https://api.planet.com/compute/ops/orders/v2/36aa44c6-56ed-4c78-8570-105bebc13a6a'}, 'created_on': '2022-11-18T22:39:28.810Z', 'delivery': {'google_cloud_storage': {'bucket': 'notebook-practice', 'credentials': '<REDACTED>', 'path_prefix': 'basemaps-to-cloud/'}}, 'error_hints': [], 'id': '36aa44c6-56ed-4c78-8570-105bebc13a6a', 'last_message': 'Waiting for merge operations to complete', 'last_modified': '2022-11-18T22:42:50.531Z', 'name': 'basemap order with geometry', 'order_type': 'partial', 'products': [{'geometry': {'coordinates': [[[4.607406, 52.353994], [4.680005, 52.353994], [4.680005, 52.395523], [4.607406, 52.395523], [4.607406, 52.353994]]], 'type': 'Polygon'}, 'mosaic_name': 'global_monthly_2022_01_mosaic'}], 'source_type': 'basemaps', 'state': 'running', 'tools': [{'merge': {}}, {'clip': {}}]}\n",
      "running\n",
      "{'_links': {'_self': 'https://api.planet.com/compute/ops/orders/v2/36aa44c6-56ed-4c78-8570-105bebc13a6a'}, 'created_on': '2022-11-18T22:39:28.810Z', 'delivery': {'google_cloud_storage': {'bucket': 'notebook-practice', 'credentials': '<REDACTED>', 'path_prefix': 'basemaps-to-cloud/'}}, 'error_hints': [], 'id': '36aa44c6-56ed-4c78-8570-105bebc13a6a', 'last_message': 'Waiting for merge operations to complete', 'last_modified': '2022-11-18T22:43:52.398Z', 'name': 'basemap order with geometry', 'order_type': 'partial', 'products': [{'geometry': {'coordinates': [[[4.607406, 52.353994], [4.680005, 52.353994], [4.680005, 52.395523], [4.607406, 52.395523], [4.607406, 52.353994]]], 'type': 'Polygon'}, 'mosaic_name': 'global_monthly_2022_01_mosaic'}], 'source_type': 'basemaps', 'state': 'running', 'tools': [{'merge': {}}, {'clip': {}}]}\n",
      "running\n",
      "{'_links': {'_self': 'https://api.planet.com/compute/ops/orders/v2/36aa44c6-56ed-4c78-8570-105bebc13a6a'}, 'created_on': '2022-11-18T22:39:28.810Z', 'delivery': {'google_cloud_storage': {'bucket': 'notebook-practice', 'credentials': '<REDACTED>', 'path_prefix': 'basemaps-to-cloud/'}}, 'error_hints': [], 'id': '36aa44c6-56ed-4c78-8570-105bebc13a6a', 'last_message': 'Waiting for merge operations to complete', 'last_modified': '2022-11-18T22:43:52.398Z', 'name': 'basemap order with geometry', 'order_type': 'partial', 'products': [{'geometry': {'coordinates': [[[4.607406, 52.353994], [4.680005, 52.353994], [4.680005, 52.395523], [4.607406, 52.395523], [4.607406, 52.353994]]], 'type': 'Polygon'}, 'mosaic_name': 'global_monthly_2022_01_mosaic'}], 'source_type': 'basemaps', 'state': 'running', 'tools': [{'merge': {}}, {'clip': {}}]}\n",
      "running\n",
      "{'_links': {'_self': 'https://api.planet.com/compute/ops/orders/v2/36aa44c6-56ed-4c78-8570-105bebc13a6a'}, 'created_on': '2022-11-18T22:39:28.810Z', 'delivery': {'google_cloud_storage': {'bucket': 'notebook-practice', 'credentials': '<REDACTED>', 'path_prefix': 'basemaps-to-cloud/'}}, 'error_hints': [], 'id': '36aa44c6-56ed-4c78-8570-105bebc13a6a', 'last_message': 'Waiting for merge operations to complete', 'last_modified': '2022-11-18T22:43:52.398Z', 'name': 'basemap order with geometry', 'order_type': 'partial', 'products': [{'geometry': {'coordinates': [[[4.607406, 52.353994], [4.680005, 52.353994], [4.680005, 52.395523], [4.607406, 52.395523], [4.607406, 52.353994]]], 'type': 'Polygon'}, 'mosaic_name': 'global_monthly_2022_01_mosaic'}], 'source_type': 'basemaps', 'state': 'running', 'tools': [{'merge': {}}, {'clip': {}}]}\n",
      "running\n",
      "{'_links': {'_self': 'https://api.planet.com/compute/ops/orders/v2/36aa44c6-56ed-4c78-8570-105bebc13a6a'}, 'created_on': '2022-11-18T22:39:28.810Z', 'delivery': {'google_cloud_storage': {'bucket': 'notebook-practice', 'credentials': '<REDACTED>', 'path_prefix': 'basemaps-to-cloud/'}}, 'error_hints': [], 'id': '36aa44c6-56ed-4c78-8570-105bebc13a6a', 'last_message': 'Waiting for merge operations to complete', 'last_modified': '2022-11-18T22:43:52.398Z', 'name': 'basemap order with geometry', 'order_type': 'partial', 'products': [{'geometry': {'coordinates': [[[4.607406, 52.353994], [4.680005, 52.353994], [4.680005, 52.395523], [4.607406, 52.395523], [4.607406, 52.353994]]], 'type': 'Polygon'}, 'mosaic_name': 'global_monthly_2022_01_mosaic'}], 'source_type': 'basemaps', 'state': 'running', 'tools': [{'merge': {}}, {'clip': {}}]}\n",
      "running\n"
     ]
    }
   ],
   "source": [
    "def poll_for_success(order_url, auth, num_loops=30):\n",
    "    count = 0\n",
    "    while(count < num_loops):\n",
    "        count += 1\n",
    "        r = requests.get(order_url, auth=session.auth)\n",
    "        response = r.json()\n",
    "        print(response)\n",
    "        \n",
    "        state = response['state']\n",
    "        print(state)\n",
    "        end_states = ['success', 'failed', 'partial']\n",
    "        if state in end_states:\n",
    "            break\n",
    "        time.sleep(10)\n",
    "        # print(response)\n",
    "        \n",
    "poll_for_success(order_url, auth)"
   ]
  },
  {
   "cell_type": "code",
   "execution_count": 22,
   "metadata": {},
   "outputs": [
    {
     "ename": "KeyError",
     "evalue": "'results'",
     "output_type": "error",
     "traceback": [
      "\u001b[0;31m---------------------------------------------------------------------------\u001b[0m",
      "\u001b[0;31mKeyError\u001b[0m                                  Traceback (most recent call last)",
      "\u001b[1;32m/Users/em.steuer/Documents/ordering_basemap_with_aoi_and_quadID.ipynb Cell 17\u001b[0m in \u001b[0;36m<cell line: 3>\u001b[0;34m()\u001b[0m\n\u001b[1;32m      <a href='vscode-notebook-cell:/Users/em.steuer/Documents/ordering_basemap_with_aoi_and_quadID.ipynb#X22sZmlsZQ%3D%3D?line=0'>1</a>\u001b[0m r \u001b[39m=\u001b[39m requests\u001b[39m.\u001b[39mget(order_url, auth\u001b[39m=\u001b[39msession\u001b[39m.\u001b[39mauth)\n\u001b[1;32m      <a href='vscode-notebook-cell:/Users/em.steuer/Documents/ordering_basemap_with_aoi_and_quadID.ipynb#X22sZmlsZQ%3D%3D?line=1'>2</a>\u001b[0m response \u001b[39m=\u001b[39m r\u001b[39m.\u001b[39mjson()\n\u001b[0;32m----> <a href='vscode-notebook-cell:/Users/em.steuer/Documents/ordering_basemap_with_aoi_and_quadID.ipynb#X22sZmlsZQ%3D%3D?line=2'>3</a>\u001b[0m results \u001b[39m=\u001b[39m response[\u001b[39m'\u001b[39;49m\u001b[39m_links\u001b[39;49m\u001b[39m'\u001b[39;49m][\u001b[39m'\u001b[39;49m\u001b[39mresults\u001b[39;49m\u001b[39m'\u001b[39;49m]\n",
      "\u001b[0;31mKeyError\u001b[0m: 'results'"
     ]
    }
   ],
   "source": [
    "r = requests.get(order_url, auth=session.auth)\n",
    "response = r.json()\n",
    "results = response['_links']['results']"
   ]
  },
  {
   "cell_type": "code",
   "execution_count": null,
   "metadata": {},
   "outputs": [
    {
     "data": {
      "text/plain": [
       "['basemaps-to-cloud/9e15388e-6c11-4945-b69c-3733e2e8d05d/global_monthly_2022_01_mosaic/global_monthly_2022_01_mosaic_metadata_merge_clip.json',\n",
       " 'basemaps-to-cloud/9e15388e-6c11-4945-b69c-3733e2e8d05d/global_monthly_2022_01_mosaic/global_monthly_2022_01_mosaic_provenance_vector_merge_clip.zip',\n",
       " 'basemaps-to-cloud/9e15388e-6c11-4945-b69c-3733e2e8d05d/global_monthly_2022_01_mosaic/global_monthly_2022_01_mosaic_ortho_udm_merge_clip.tif',\n",
       " 'basemaps-to-cloud/9e15388e-6c11-4945-b69c-3733e2e8d05d/global_monthly_2022_01_mosaic/global_monthly_2022_01_mosaic_merge_clip.tif',\n",
       " 'basemaps-to-cloud/9e15388e-6c11-4945-b69c-3733e2e8d05d/global_monthly_2022_01_mosaic/global_monthly_2022_01_mosaic_provenance_raster_merge_clip.tif',\n",
       " 'basemaps-to-cloud/9e15388e-6c11-4945-b69c-3733e2e8d05d/manifest.json']"
      ]
     },
     "execution_count": 114,
     "metadata": {},
     "output_type": "execute_result"
    }
   ],
   "source": [
    "[r['name'] for r in results]"
   ]
  },
  {
   "cell_type": "code",
   "execution_count": null,
   "metadata": {},
   "outputs": [
    {
     "ename": "KeyError",
     "evalue": "'location'",
     "output_type": "error",
     "traceback": [
      "\u001b[0;31m---------------------------------------------------------------------------\u001b[0m",
      "\u001b[0;31mKeyError\u001b[0m                                  Traceback (most recent call last)",
      "\u001b[1;32m/Users/em.steuer/Documents/ordering_basemap_with_aoi_and_quadID.ipynb Cell 19\u001b[0m in \u001b[0;36m<cell line: 16>\u001b[0;34m()\u001b[0m\n\u001b[1;32m     <a href='vscode-notebook-cell:/Users/em.steuer/Documents/ordering_basemap_with_aoi_and_quadID.ipynb#X24sZmlsZQ%3D%3D?line=13'>14</a>\u001b[0m         \u001b[39melse\u001b[39;00m:\n\u001b[1;32m     <a href='vscode-notebook-cell:/Users/em.steuer/Documents/ordering_basemap_with_aoi_and_quadID.ipynb#X24sZmlsZQ%3D%3D?line=14'>15</a>\u001b[0m             \u001b[39mprint\u001b[39m(\u001b[39m'\u001b[39m\u001b[39m{}\u001b[39;00m\u001b[39m already exists, skipping \u001b[39m\u001b[39m{}\u001b[39;00m\u001b[39m'\u001b[39m\u001b[39m.\u001b[39mformat(path, name))\n\u001b[0;32m---> <a href='vscode-notebook-cell:/Users/em.steuer/Documents/ordering_basemap_with_aoi_and_quadID.ipynb#X24sZmlsZQ%3D%3D?line=15'>16</a>\u001b[0m download_results(results)\n",
      "\u001b[1;32m/Users/em.steuer/Documents/ordering_basemap_with_aoi_and_quadID.ipynb Cell 19\u001b[0m in \u001b[0;36mdownload_results\u001b[0;34m(results, overwrite)\u001b[0m\n\u001b[1;32m      <a href='vscode-notebook-cell:/Users/em.steuer/Documents/ordering_basemap_with_aoi_and_quadID.ipynb#X24sZmlsZQ%3D%3D?line=0'>1</a>\u001b[0m \u001b[39mdef\u001b[39;00m \u001b[39mdownload_results\u001b[39m(results, overwrite\u001b[39m=\u001b[39m\u001b[39mFalse\u001b[39;00m):\n\u001b[0;32m----> <a href='vscode-notebook-cell:/Users/em.steuer/Documents/ordering_basemap_with_aoi_and_quadID.ipynb#X24sZmlsZQ%3D%3D?line=1'>2</a>\u001b[0m     results_urls \u001b[39m=\u001b[39m [r[\u001b[39m'\u001b[39m\u001b[39mlocation\u001b[39m\u001b[39m'\u001b[39m] \u001b[39mfor\u001b[39;00m r \u001b[39min\u001b[39;00m results]\n\u001b[1;32m      <a href='vscode-notebook-cell:/Users/em.steuer/Documents/ordering_basemap_with_aoi_and_quadID.ipynb#X24sZmlsZQ%3D%3D?line=2'>3</a>\u001b[0m     results_names \u001b[39m=\u001b[39m [r[\u001b[39m'\u001b[39m\u001b[39mname\u001b[39m\u001b[39m'\u001b[39m] \u001b[39mfor\u001b[39;00m r \u001b[39min\u001b[39;00m results]\n\u001b[1;32m      <a href='vscode-notebook-cell:/Users/em.steuer/Documents/ordering_basemap_with_aoi_and_quadID.ipynb#X24sZmlsZQ%3D%3D?line=3'>4</a>\u001b[0m     \u001b[39mprint\u001b[39m(\u001b[39m'\u001b[39m\u001b[39m{}\u001b[39;00m\u001b[39m items to download\u001b[39m\u001b[39m'\u001b[39m\u001b[39m.\u001b[39mformat(\u001b[39mlen\u001b[39m(results_urls)))\n",
      "\u001b[1;32m/Users/em.steuer/Documents/ordering_basemap_with_aoi_and_quadID.ipynb Cell 19\u001b[0m in \u001b[0;36m<listcomp>\u001b[0;34m(.0)\u001b[0m\n\u001b[1;32m      <a href='vscode-notebook-cell:/Users/em.steuer/Documents/ordering_basemap_with_aoi_and_quadID.ipynb#X24sZmlsZQ%3D%3D?line=0'>1</a>\u001b[0m \u001b[39mdef\u001b[39;00m \u001b[39mdownload_results\u001b[39m(results, overwrite\u001b[39m=\u001b[39m\u001b[39mFalse\u001b[39;00m):\n\u001b[0;32m----> <a href='vscode-notebook-cell:/Users/em.steuer/Documents/ordering_basemap_with_aoi_and_quadID.ipynb#X24sZmlsZQ%3D%3D?line=1'>2</a>\u001b[0m     results_urls \u001b[39m=\u001b[39m [r[\u001b[39m'\u001b[39;49m\u001b[39mlocation\u001b[39;49m\u001b[39m'\u001b[39;49m] \u001b[39mfor\u001b[39;00m r \u001b[39min\u001b[39;00m results]\n\u001b[1;32m      <a href='vscode-notebook-cell:/Users/em.steuer/Documents/ordering_basemap_with_aoi_and_quadID.ipynb#X24sZmlsZQ%3D%3D?line=2'>3</a>\u001b[0m     results_names \u001b[39m=\u001b[39m [r[\u001b[39m'\u001b[39m\u001b[39mname\u001b[39m\u001b[39m'\u001b[39m] \u001b[39mfor\u001b[39;00m r \u001b[39min\u001b[39;00m results]\n\u001b[1;32m      <a href='vscode-notebook-cell:/Users/em.steuer/Documents/ordering_basemap_with_aoi_and_quadID.ipynb#X24sZmlsZQ%3D%3D?line=3'>4</a>\u001b[0m     \u001b[39mprint\u001b[39m(\u001b[39m'\u001b[39m\u001b[39m{}\u001b[39;00m\u001b[39m items to download\u001b[39m\u001b[39m'\u001b[39m\u001b[39m.\u001b[39mformat(\u001b[39mlen\u001b[39m(results_urls)))\n",
      "\u001b[0;31mKeyError\u001b[0m: 'location'"
     ]
    }
   ],
   "source": [
    "def download_results(results, overwrite=False):\n",
    "    results_urls = [r['location'] for r in results]\n",
    "    results_names = [r['name'] for r in results]\n",
    "    print('{} items to download'.format(len(results_urls)))\n",
    "    \n",
    "    for url, name in zip(results_urls, results_names):\n",
    "        path = pathlib.Path(os.path.join('data', name))\n",
    "        \n",
    "        if overwrite or not path.exists():\n",
    "            print('downloading {} to {}'.format(name, path))\n",
    "            r = requests.get(url, allow_redirects=True)\n",
    "            path.parent.mkdir(parents=True, exist_ok=True)\n",
    "            open(path, 'wb').write(r.content)\n",
    "        else:\n",
    "            print('{} already exists, skipping {}'.format(path, name))\n",
    "download_results(results)"
   ]
  },
  {
   "cell_type": "markdown",
   "metadata": {},
   "source": [
    "### Ordering a Basemap With a Set of Quad IDs"
   ]
  },
  {
   "cell_type": "markdown",
   "metadata": {},
   "source": [
    "you can get the quad IDs from planet explorer or if you have the basemap, you can find the quad IDs like this:"
   ]
  },
  {
   "cell_type": "code",
   "execution_count": null,
   "metadata": {},
   "outputs": [],
   "source": [
    "basemap_params = {\n",
    "    'name__is': 'point_reyes_rolling_normalized_2020-04-30_mosaic'\n",
    "}"
   ]
  },
  {
   "cell_type": "code",
   "execution_count": null,
   "metadata": {},
   "outputs": [
    {
     "name": "stdout",
     "output_type": "stream",
     "text": [
      "{'_links': {'_self': 'https://api.planet.com/basemaps/v1/mosaics?api_key=PLAK0962efb566a34514a56599994d2d0674'}, 'mosaics': [{'_links': {'_self': 'https://api.planet.com/basemaps/v1/mosaics/b7bed9c8-4dc7-4ecc-9968-d6b9fbcdcf3c?api_key=PLAK0962efb566a34514a56599994d2d0674', 'quads': 'https://api.planet.com/basemaps/v1/mosaics/b7bed9c8-4dc7-4ecc-9968-d6b9fbcdcf3c/quads?api_key=PLAK0962efb566a34514a56599994d2d0674&bbox={lx},{ly},{ux},{uy}', 'tiles': 'https://tiles.planet.com/basemaps/v1/planet-tiles/point_reyes_rolling_normalized_2020-04-30_mosaic/gmap/{z}/{x}/{y}.png?api_key=PLAK0962efb566a34514a56599994d2d0674'}, 'bbox': [-123.22265623283, 37.857507151805, -122.519531232927, 38.548165418546], 'coordinate_system': 'EPSG:3857', 'datatype': 'uint16', 'first_acquired': '2020-04-01T00:00:00.000Z', 'grid': {'quad_size': 4096, 'resolution': 4.77731426716}, 'id': 'b7bed9c8-4dc7-4ecc-9968-d6b9fbcdcf3c', 'interval': '1 day', 'item_types': ['PSScene4Band'], 'last_acquired': '2020-05-01T00:00:00.000Z', 'level': 15, 'name': 'point_reyes_rolling_normalized_2020-04-30_mosaic', 'product_type': 'timelapse', 'quad_download': True}]}\n"
     ]
    }
   ],
   "source": [
    "auth = HTTPBasicAuth('PLAK0962efb566a34514a56599994d2d0674', '')\n",
    "BASEMAP_API_URL = 'https://api.planet.com/basemaps/v1/mosaics'\n",
    "headers = {'content-type': 'application/json'}\n",
    "\n",
    "basemap_params = {\n",
    "    'name__is': 'point_reyes_rolling_normalized_2020-04-30_mosaic'\n",
    "}\n",
    "\n",
    "basemapServiceResponse = requests.get(url=BASEMAP_API_URL, params=basemap_params, auth=auth, headers=headers)\n",
    "\n",
    "basemaps = basemapServiceResponse.raise_for_status()\n",
    "if basemapServiceResponse.status_code != 204:\n",
    "    basemaps = json.loads(basemapServiceResponse.text)\n",
    "print(basemaps)"
   ]
  },
  {
   "cell_type": "code",
   "execution_count": null,
   "metadata": {},
   "outputs": [],
   "source": [
    "mosaicID = basemaps['mosaics'][0]['id']\n",
    "mosaicBbox = basemaps['mosaics'][0]['bbox']\n",
    "mosaicBboxStr = ','.join(map(str, mosaicBbox))\n",
    "\n",
    "quad_params = {\n",
    "    'mosaic_id': mosaicID,\n",
    "    'bbox': mosaicBboxStr,\n",
    "}"
   ]
  },
  {
   "cell_type": "markdown",
   "metadata": {},
   "source": []
  },
  {
   "cell_type": "code",
   "execution_count": null,
   "metadata": {},
   "outputs": [],
   "source": [
    "quads_url = \"{}/{}/quads\".format(BASEMAP_API_URL, mosaicID)\n",
    "quadServiceResponse = requests.get(url=quads_url, params=quad_params, auth=auth, headers=headers)\n",
    "quads = quadServiceResponse.json()\n",
    "items = quads['items']"
   ]
  },
  {
   "cell_type": "code",
   "execution_count": null,
   "metadata": {},
   "outputs": [],
   "source": [
    "quadIds = []\n",
    "for i in items:\n",
    "    quadId = i['id']\n",
    "    quadIds.append(quadId)"
   ]
  },
  {
   "cell_type": "code",
   "execution_count": null,
   "metadata": {},
   "outputs": [],
   "source": [
    "order_params = {\n",
    "   \"name\":\"basemap order with quad_ids\",\n",
    "   \"source_type\":\"basemaps\",\n",
    "   \"products\":[\n",
    "      {\n",
    "         \"mosaic_name\":\"point_reyes_rolling_normalized_2020-04-30_mosaic\",\n",
    "         \"quad_ids\": quadIds\n",
    "      }\n",
    "   ],\n",
    "   #  \"tools\": [\n",
    "   #    # {\"merge\": {}}\n",
    "   #    # {\"clip\": {}},\n",
    "   #  ],\n",
    "    \n",
    "   # \"delivery\":{\n",
    "   #    \"google_cloud_storage\":{\n",
    "   #       \"bucket\":\"[your-orders-delivery-bucket]\",\n",
    "   #       \"credentials\":\"[QUl6YVN5QWNlSzZFV1pGZ2I3Yklfc285UzNVTDRDanZfYlB1SDdVCg==]\",\n",
    "   #       \"path_prefix\":\"[optionalsubfolder/]\"\n",
    "   #    }\n",
    "   # }\n",
    "}"
   ]
  },
  {
   "cell_type": "code",
   "execution_count": null,
   "metadata": {},
   "outputs": [
    {
     "name": "stdout",
     "output_type": "stream",
     "text": [
      "{\"_links\":{\"_self\":\"https://api.planet.com/compute/ops/orders/v2/7ec9204d-5ecd-497a-8df4-944ae0c9f025\"},\"created_on\":\"2022-11-14T18:44:17.281Z\",\"delivery\":{\"google_cloud_storage\":{\"bucket\":\"[your-orders-delivery-bucket]\",\"credentials\":\"<REDACTED>\",\"path_prefix\":\"[optionalsubfolder/]\"}},\"error_hints\":[],\"id\":\"7ec9204d-5ecd-497a-8df4-944ae0c9f025\",\"last_message\":\"Preparing order\",\"last_modified\":\"2022-11-14T18:44:17.281Z\",\"name\":\"basemap order with quad_ids\",\"products\":[{\"mosaic_name\":\"point_reyes_rolling_normalized_2020-04-30_mosaic\",\"quad_ids\":[\"323-1261\",\"324-1261\",\"325-1261\",\"326-1261\",\"323-1260\",\"324-1260\",\"325-1260\",\"326-1260\",\"323-1259\",\"324-1259\",\"325-1259\",\"326-1259\",\"323-1258\",\"324-1258\",\"325-1258\",\"326-1258\",\"323-1257\",\"324-1257\",\"325-1257\",\"326-1257\"]}],\"source_type\":\"basemaps\",\"state\":\"queued\"}\n",
      "\n"
     ]
    }
   ],
   "source": [
    "paramRes = requests.post(ORDERS_API_URL, data=json.dumps(order_params), auth=auth, headers=headers)\n",
    "\n",
    "paramRes.raise_for_status()\n",
    "if paramRes.status_code != 204:\n",
    "    print(paramRes.text)"
   ]
  },
  {
   "cell_type": "code",
   "execution_count": null,
   "metadata": {},
   "outputs": [],
   "source": []
  }
 ],
 "metadata": {
  "kernelspec": {
   "display_name": "Python 3.9.12 ('base')",
   "language": "python",
   "name": "python3"
  },
  "language_info": {
   "codemirror_mode": {
    "name": "ipython",
    "version": 3
   },
   "file_extension": ".py",
   "mimetype": "text/x-python",
   "name": "python",
   "nbconvert_exporter": "python",
   "pygments_lexer": "ipython3",
   "version": "3.9.12"
  },
  "orig_nbformat": 4,
  "vscode": {
   "interpreter": {
    "hash": "40d3a090f54c6569ab1632332b64b2c03c39dcf918b08424e98f38b5ae0af88f"
   }
  }
 },
 "nbformat": 4,
 "nbformat_minor": 2
}
