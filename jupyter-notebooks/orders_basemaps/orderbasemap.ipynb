{
 "cells": [
  {
   "cell_type": "markdown",
   "metadata": {},
   "source": [
    "## Ordering Basemaps via Orders API"
   ]
  },
  {
   "cell_type": "code",
   "execution_count": 12,
   "metadata": {},
   "outputs": [],
   "source": [
    "import planet\n",
    "import os\n",
    "import requests\n",
    "from requests.auth import HTTPBasicAuth\n",
    "import json\n",
    "import time\n",
    "import pathlib"
   ]
  },
  {
   "cell_type": "code",
   "execution_count": null,
   "metadata": {},
   "outputs": [],
   "source": []
  },
  {
   "cell_type": "markdown",
   "metadata": {},
   "source": [
    "### Ordering a Basemap via an AOI  "
   ]
  },
  {
   "cell_type": "markdown",
   "metadata": {},
   "source": [
    "step 1: find name of basemap on:\n",
    "    planet explorer\n",
    "    basemap api URL\n"
   ]
  },
  {
   "cell_type": "markdown",
   "metadata": {},
   "source": [
    "step 2: create order"
   ]
  },
  {
   "cell_type": "code",
   "execution_count": 13,
   "metadata": {},
   "outputs": [],
   "source": []
  },
  {
   "cell_type": "code",
   "execution_count": 14,
   "metadata": {},
   "outputs": [],
   "source": []
  },
  {
   "cell_type": "code",
   "execution_count": 15,
   "metadata": {},
   "outputs": [],
   "source": [
    "API_KEY = 'api key'\n",
    "orders_url = 'https://api.planet.com/compute/ops/orders/v2' \n",
    "auth = HTTPBasicAuth('api key', '')\n",
    "if os.environ.get(API_KEY, ''):\n",
    "    API_KEY = os.environ.get(API_KEY, '')\n",
    "else:\n",
    "    API_KEY = API_KEY\n",
    "    \n",
    "# Setup the session\n",
    "session = requests.Session()\n",
    "\n",
    "# Authenticate\n",
    "session.auth = (API_KEY, \"\")"
   ]
  },
  {
   "cell_type": "code",
   "execution_count": 16,
   "metadata": {},
   "outputs": [
    {
     "data": {
      "text/plain": [
       "<Response [200]>"
      ]
     },
     "execution_count": 16,
     "metadata": {},
     "output_type": "execute_result"
    }
   ],
   "source": [
    "response = requests.get(orders_url, auth=session.auth)\n",
    "response"
   ]
  },
  {
   "cell_type": "code",
   "execution_count": 16,
   "metadata": {},
   "outputs": [],
   "source": [
    "order_params = {\n",
    "   \"name\": \"basemap order with geometry\",\n",
    "   \"source_type\": \"basemaps\",\n",
    "   \"order_type\":\"partial\",\n",
    "   \"products\": [\n",
    "       {\n",
    "           \"mosaic_name\": \"global_monthly_2022_01_mosaic\",\n",
    "           \"geometry\":{\n",
    "               \"type\": \"Polygon\",\n",
    "               \"coordinates\":[\n",
    "                   [\n",
    "                       [ 4.607406, 52.353994 ],\n",
    "                        [ 4.680005, 52.353994 ],\n",
    "                        [ 4.680005, 52.395523 ],\n",
    "                        [ 4.607406, 52.395523 ],\n",
    "                        [ 4.607406, 52.353994 ]\n",
    "                   ]\n",
    "               ]\n",
    "           }\n",
    "      }\n",
    "  ],\n",
    "    \"tools\": [\n",
    "      {\"merge\": {}},\n",
    "      {\"clip\": {}}\n",
    "      \n",
    "  ],\n",
    " \"delivery\":{\n",
    "      \"google_cloud_storage\":{\n",
    "          \"bucket\":\"[your-orders-delivery-bucket]\",\n",
    "   #       \"credentials\":\"[QUl6YVN5QWNlSzZFV1pGZ2I3Yklfc285UzNVTDRDanZfYlB1SDdVCg==]\",\n",
    "   #       \"path_prefix\":\"[optionalsubfolder/]\"\n",
    "      }\n",
    "\n",
    "\n",
    " }\n",
    "}"
   ]
  },
  {
   "cell_type": "code",
   "execution_count": 18,
   "metadata": {},
   "outputs": [
    {
     "name": "stdout",
     "output_type": "stream",
     "text": [
      "{\"_links\":{\"_self\":\"https://api.planet.com/compute/ops/orders/v2/bda6aaae-b2ff-48f9-a794-0d2c4342a9ea\"},\"created_on\":\"2022-11-18T22:39:28.111Z\",\"delivery\":{\"google_cloud_storage\":{\"bucket\":\"notebook-practice\",\"credentials\":\"<REDACTED>\",\"path_prefix\":\"basemaps-to-cloud/\"}},\"error_hints\":[],\"id\":\"bda6aaae-b2ff-48f9-a794-0d2c4342a9ea\",\"last_message\":\"Preparing order\",\"last_modified\":\"2022-11-18T22:39:28.111Z\",\"name\":\"basemap order with geometry\",\"order_type\":\"partial\",\"products\":[{\"geometry\":{\"coordinates\":[[[4.607406,52.353994],[4.680005,52.353994],[4.680005,52.395523],[4.607406,52.395523],[4.607406,52.353994]]],\"type\":\"Polygon\"},\"mosaic_name\":\"global_monthly_2022_01_mosaic\"}],\"source_type\":\"basemaps\",\"state\":\"queued\",\"tools\":[{\"merge\":{}},{\"clip\":{}}]}\n",
      "\n"
     ]
    }
   ],
   "source": [
    "ORDERS_API_URL = 'https://api.planet.com/compute/ops/orders/v2'\n",
    "headers = {'content-type': 'application/json'}\n",
    "paramRes = requests.post(ORDERS_API_URL, data=json.dumps(order_params), auth=auth, headers = {'content-type': 'application/json'})\n",
    "\n",
    "print(paramRes.text)"
   ]
  },
  {
   "cell_type": "code",
   "execution_count": 19,
   "metadata": {},
   "outputs": [],
   "source": [
    "def place_order(order_params, auth):\n",
    "    response = requests.post(ORDERS_API_URL, data=json.dumps(order_params), auth=auth, headers=headers)\n",
    "    print(response)\n",
    "    order_id = response.json()['id']\n",
    "    print(order_id)\n",
    "    order_url = ORDERS_API_URL + '/' + order_id\n",
    "    return order_url"
   ]
  },
  {
   "cell_type": "code",
   "execution_count": null,
   "metadata": {},
   "outputs": [],
   "source": []
  },
  {
   "cell_type": "code",
   "execution_count": 20,
   "metadata": {},
   "outputs": [
    {
     "name": "stdout",
     "output_type": "stream",
     "text": [
      "<Response [202]>\n",
      "36aa44c6-56ed-4c78-8570-105bebc13a6a\n"
     ]
    }
   ],
   "source": [
    "order_url = place_order(order_params, session.auth)"
   ]
  },
  {
   "cell_type": "code",
   "execution_count": 21,
   "metadata": {},
   "outputs": [
    {
     "name": "stdout",
     "output_type": "stream",
     "text": [
      "{'_links': {'_self': 'https://api.planet.com/compute/ops/orders/v2/36aa44c6-56ed-4c78-8570-105bebc13a6a'}, 'created_on': '2022-11-18T22:39:28.810Z', 'delivery': {'google_cloud_storage': {'bucket': 'notebook-practice', 'credentials': '<REDACTED>', 'path_prefix': 'basemaps-to-cloud/'}}, 'error_hints': [], 'id': '36aa44c6-56ed-4c78-8570-105bebc13a6a', 'last_message': 'Preparing order', 'last_modified': '2022-11-18T22:39:28.810Z', 'name': 'basemap order with geometry', 'order_type': 'partial', 'products': [{'geometry': {'coordinates': [[[4.607406, 52.353994], [4.680005, 52.353994], [4.680005, 52.395523], [4.607406, 52.395523], [4.607406, 52.353994]]], 'type': 'Polygon'}, 'mosaic_name': 'global_monthly_2022_01_mosaic'}], 'source_type': 'basemaps', 'state': 'queued', 'tools': [{'merge': {}}, {'clip': {}}]}\n",
      "queued\n",
      "{'_links': {'_self': 'https://api.planet.com/compute/ops/orders/v2/36aa44c6-56ed-4c78-8570-105bebc13a6a'}, 'created_on': '2022-11-18T22:39:28.810Z', 'delivery': {'google_cloud_storage': {'bucket': 'notebook-practice', 'credentials': '<REDACTED>', 'path_prefix': 'basemaps-to-cloud/'}}, 'error_hints': [], 'id': '36aa44c6-56ed-4c78-8570-105bebc13a6a', 'last_message': 'starting', 'last_modified': '2022-11-18T22:39:36.291Z', 'name': 'basemap order with geometry', 'order_type': 'partial', 'products': [{'geometry': {'coordinates': [[[4.607406, 52.353994], [4.680005, 52.353994], [4.680005, 52.395523], [4.607406, 52.395523], [4.607406, 52.353994]]], 'type': 'Polygon'}, 'mosaic_name': 'global_monthly_2022_01_mosaic'}], 'source_type': 'basemaps', 'state': 'running', 'tools': [{'merge': {}}, {'clip': {}}]}\n",
      "running\n",
      "{'_links': {'_self': 'https://api.planet.com/compute/ops/orders/v2/36aa44c6-56ed-4c78-8570-105bebc13a6a'}, 'created_on': '2022-11-18T22:39:28.810Z', 'delivery': {'google_cloud_storage': {'bucket': 'notebook-practice', 'credentials': '<REDACTED>', 'path_prefix': 'basemaps-to-cloud/'}}, 'error_hints': [], 'id': '36aa44c6-56ed-4c78-8570-105bebc13a6a', 'last_message': 'Waiting for merge operations to complete', 'last_modified': '2022-11-18T22:39:48.298Z', 'name': 'basemap order with geometry', 'order_type': 'partial', 'products': [{'geometry': {'coordinates': [[[4.607406, 52.353994], [4.680005, 52.353994], [4.680005, 52.395523], [4.607406, 52.395523], [4.607406, 52.353994]]], 'type': 'Polygon'}, 'mosaic_name': 'global_monthly_2022_01_mosaic'}], 'source_type': 'basemaps', 'state': 'running', 'tools': [{'merge': {}}, {'clip': {}}]}\n",
      "running\n",
      "{'_links': {'_self': 'https://api.planet.com/compute/ops/orders/v2/36aa44c6-56ed-4c78-8570-105bebc13a6a'}, 'created_on': '2022-11-18T22:39:28.810Z', 'delivery': {'google_cloud_storage': {'bucket': 'notebook-practice', 'credentials': '<REDACTED>', 'path_prefix': 'basemaps-to-cloud/'}}, 'error_hints': [], 'id': '36aa44c6-56ed-4c78-8570-105bebc13a6a', 'last_message': 'Waiting for merge operations to complete', 'last_modified': '2022-11-18T22:39:48.298Z', 'name': 'basemap order with geometry', 'order_type': 'partial', 'products': [{'geometry': {'coordinates': [[[4.607406, 52.353994], [4.680005, 52.353994], [4.680005, 52.395523], [4.607406, 52.395523], [4.607406, 52.353994]]], 'type': 'Polygon'}, 'mosaic_name': 'global_monthly_2022_01_mosaic'}], 'source_type': 'basemaps', 'state': 'running', 'tools': [{'merge': {}}, {'clip': {}}]}\n",
      "running\n",
      "{'_links': {'_self': 'https://api.planet.com/compute/ops/orders/v2/36aa44c6-56ed-4c78-8570-105bebc13a6a'}, 'created_on': '2022-11-18T22:39:28.810Z', 'delivery': {'google_cloud_storage': {'bucket': 'notebook-practice', 'credentials': '<REDACTED>', 'path_prefix': 'basemaps-to-cloud/'}}, 'error_hints': [], 'id': '36aa44c6-56ed-4c78-8570-105bebc13a6a', 'last_message': 'Waiting for merge operations to complete', 'last_modified': '2022-11-18T22:39:48.298Z', 'name': 'basemap order with geometry', 'order_type': 'partial', 'products': [{'geometry': {'coordinates': [[[4.607406, 52.353994], [4.680005, 52.353994], [4.680005, 52.395523], [4.607406, 52.395523], [4.607406, 52.353994]]], 'type': 'Polygon'}, 'mosaic_name': 'global_monthly_2022_01_mosaic'}], 'source_type': 'basemaps', 'state': 'running', 'tools': [{'merge': {}}, {'clip': {}}]}\n",
      "running\n",
      "{'_links': {'_self': 'https://api.planet.com/compute/ops/orders/v2/36aa44c6-56ed-4c78-8570-105bebc13a6a'}, 'created_on': '2022-11-18T22:39:28.810Z', 'delivery': {'google_cloud_storage': {'bucket': 'notebook-practice', 'credentials': '<REDACTED>', 'path_prefix': 'basemaps-to-cloud/'}}, 'error_hints': [], 'id': '36aa44c6-56ed-4c78-8570-105bebc13a6a', 'last_message': 'Waiting for merge operations to complete', 'last_modified': '2022-11-18T22:39:48.298Z', 'name': 'basemap order with geometry', 'order_type': 'partial', 'products': [{'geometry': {'coordinates': [[[4.607406, 52.353994], [4.680005, 52.353994], [4.680005, 52.395523], [4.607406, 52.395523], [4.607406, 52.353994]]], 'type': 'Polygon'}, 'mosaic_name': 'global_monthly_2022_01_mosaic'}], 'source_type': 'basemaps', 'state': 'running', 'tools': [{'merge': {}}, {'clip': {}}]}\n",
      "running\n",
      "{'_links': {'_self': 'https://api.planet.com/compute/ops/orders/v2/36aa44c6-56ed-4c78-8570-105bebc13a6a'}, 'created_on': '2022-11-18T22:39:28.810Z', 'delivery': {'google_cloud_storage': {'bucket': 'notebook-practice', 'credentials': '<REDACTED>', 'path_prefix': 'basemaps-to-cloud/'}}, 'error_hints': [], 'id': '36aa44c6-56ed-4c78-8570-105bebc13a6a', 'last_message': 'Waiting for merge operations to complete', 'last_modified': '2022-11-18T22:39:48.298Z', 'name': 'basemap order with geometry', 'order_type': 'partial', 'products': [{'geometry': {'coordinates': [[[4.607406, 52.353994], [4.680005, 52.353994], [4.680005, 52.395523], [4.607406, 52.395523], [4.607406, 52.353994]]], 'type': 'Polygon'}, 'mosaic_name': 'global_monthly_2022_01_mosaic'}], 'source_type': 'basemaps', 'state': 'running', 'tools': [{'merge': {}}, {'clip': {}}]}\n",
      "running\n",
      "{'_links': {'_self': 'https://api.planet.com/compute/ops/orders/v2/36aa44c6-56ed-4c78-8570-105bebc13a6a'}, 'created_on': '2022-11-18T22:39:28.810Z', 'delivery': {'google_cloud_storage': {'bucket': 'notebook-practice', 'credentials': '<REDACTED>', 'path_prefix': 'basemaps-to-cloud/'}}, 'error_hints': [], 'id': '36aa44c6-56ed-4c78-8570-105bebc13a6a', 'last_message': 'Waiting for merge operations to complete', 'last_modified': '2022-11-18T22:39:48.298Z', 'name': 'basemap order with geometry', 'order_type': 'partial', 'products': [{'geometry': {'coordinates': [[[4.607406, 52.353994], [4.680005, 52.353994], [4.680005, 52.395523], [4.607406, 52.395523], [4.607406, 52.353994]]], 'type': 'Polygon'}, 'mosaic_name': 'global_monthly_2022_01_mosaic'}], 'source_type': 'basemaps', 'state': 'running', 'tools': [{'merge': {}}, {'clip': {}}]}\n",
      "running\n",
      "{'_links': {'_self': 'https://api.planet.com/compute/ops/orders/v2/36aa44c6-56ed-4c78-8570-105bebc13a6a'}, 'created_on': '2022-11-18T22:39:28.810Z', 'delivery': {'google_cloud_storage': {'bucket': 'notebook-practice', 'credentials': '<REDACTED>', 'path_prefix': 'basemaps-to-cloud/'}}, 'error_hints': [], 'id': '36aa44c6-56ed-4c78-8570-105bebc13a6a', 'last_message': 'Waiting for merge operations to complete', 'last_modified': '2022-11-18T22:40:48.487Z', 'name': 'basemap order with geometry', 'order_type': 'partial', 'products': [{'geometry': {'coordinates': [[[4.607406, 52.353994], [4.680005, 52.353994], [4.680005, 52.395523], [4.607406, 52.395523], [4.607406, 52.353994]]], 'type': 'Polygon'}, 'mosaic_name': 'global_monthly_2022_01_mosaic'}], 'source_type': 'basemaps', 'state': 'running', 'tools': [{'merge': {}}, {'clip': {}}]}\n",
      "running\n",
      "{'_links': {'_self': 'https://api.planet.com/compute/ops/orders/v2/36aa44c6-56ed-4c78-8570-105bebc13a6a'}, 'created_on': '2022-11-18T22:39:28.810Z', 'delivery': {'google_cloud_storage': {'bucket': 'notebook-practice', 'credentials': '<REDACTED>', 'path_prefix': 'basemaps-to-cloud/'}}, 'error_hints': [], 'id': '36aa44c6-56ed-4c78-8570-105bebc13a6a', 'last_message': 'Waiting for merge operations to complete', 'last_modified': '2022-11-18T22:40:48.487Z', 'name': 'basemap order with geometry', 'order_type': 'partial', 'products': [{'geometry': {'coordinates': [[[4.607406, 52.353994], [4.680005, 52.353994], [4.680005, 52.395523], [4.607406, 52.395523], [4.607406, 52.353994]]], 'type': 'Polygon'}, 'mosaic_name': 'global_monthly_2022_01_mosaic'}], 'source_type': 'basemaps', 'state': 'running', 'tools': [{'merge': {}}, {'clip': {}}]}\n",
      "running\n",
      "{'_links': {'_self': 'https://api.planet.com/compute/ops/orders/v2/36aa44c6-56ed-4c78-8570-105bebc13a6a'}, 'created_on': '2022-11-18T22:39:28.810Z', 'delivery': {'google_cloud_storage': {'bucket': 'notebook-practice', 'credentials': '<REDACTED>', 'path_prefix': 'basemaps-to-cloud/'}}, 'error_hints': [], 'id': '36aa44c6-56ed-4c78-8570-105bebc13a6a', 'last_message': 'Waiting for merge operations to complete', 'last_modified': '2022-11-18T22:40:48.487Z', 'name': 'basemap order with geometry', 'order_type': 'partial', 'products': [{'geometry': {'coordinates': [[[4.607406, 52.353994], [4.680005, 52.353994], [4.680005, 52.395523], [4.607406, 52.395523], [4.607406, 52.353994]]], 'type': 'Polygon'}, 'mosaic_name': 'global_monthly_2022_01_mosaic'}], 'source_type': 'basemaps', 'state': 'running', 'tools': [{'merge': {}}, {'clip': {}}]}\n",
      "running\n",
      "{'_links': {'_self': 'https://api.planet.com/compute/ops/orders/v2/36aa44c6-56ed-4c78-8570-105bebc13a6a'}, 'created_on': '2022-11-18T22:39:28.810Z', 'delivery': {'google_cloud_storage': {'bucket': 'notebook-practice', 'credentials': '<REDACTED>', 'path_prefix': 'basemaps-to-cloud/'}}, 'error_hints': [], 'id': '36aa44c6-56ed-4c78-8570-105bebc13a6a', 'last_message': 'Waiting for merge operations to complete', 'last_modified': '2022-11-18T22:40:48.487Z', 'name': 'basemap order with geometry', 'order_type': 'partial', 'products': [{'geometry': {'coordinates': [[[4.607406, 52.353994], [4.680005, 52.353994], [4.680005, 52.395523], [4.607406, 52.395523], [4.607406, 52.353994]]], 'type': 'Polygon'}, 'mosaic_name': 'global_monthly_2022_01_mosaic'}], 'source_type': 'basemaps', 'state': 'running', 'tools': [{'merge': {}}, {'clip': {}}]}\n",
      "running\n",
      "{'_links': {'_self': 'https://api.planet.com/compute/ops/orders/v2/36aa44c6-56ed-4c78-8570-105bebc13a6a'}, 'created_on': '2022-11-18T22:39:28.810Z', 'delivery': {'google_cloud_storage': {'bucket': 'notebook-practice', 'credentials': '<REDACTED>', 'path_prefix': 'basemaps-to-cloud/'}}, 'error_hints': [], 'id': '36aa44c6-56ed-4c78-8570-105bebc13a6a', 'last_message': 'Waiting for merge operations to complete', 'last_modified': '2022-11-18T22:40:48.487Z', 'name': 'basemap order with geometry', 'order_type': 'partial', 'products': [{'geometry': {'coordinates': [[[4.607406, 52.353994], [4.680005, 52.353994], [4.680005, 52.395523], [4.607406, 52.395523], [4.607406, 52.353994]]], 'type': 'Polygon'}, 'mosaic_name': 'global_monthly_2022_01_mosaic'}], 'source_type': 'basemaps', 'state': 'running', 'tools': [{'merge': {}}, {'clip': {}}]}\n",
      "running\n",
      "{'_links': {'_self': 'https://api.planet.com/compute/ops/orders/v2/36aa44c6-56ed-4c78-8570-105bebc13a6a'}, 'created_on': '2022-11-18T22:39:28.810Z', 'delivery': {'google_cloud_storage': {'bucket': 'notebook-practice', 'credentials': '<REDACTED>', 'path_prefix': 'basemaps-to-cloud/'}}, 'error_hints': [], 'id': '36aa44c6-56ed-4c78-8570-105bebc13a6a', 'last_message': 'Waiting for merge operations to complete', 'last_modified': '2022-11-18T22:40:48.487Z', 'name': 'basemap order with geometry', 'order_type': 'partial', 'products': [{'geometry': {'coordinates': [[[4.607406, 52.353994], [4.680005, 52.353994], [4.680005, 52.395523], [4.607406, 52.395523], [4.607406, 52.353994]]], 'type': 'Polygon'}, 'mosaic_name': 'global_monthly_2022_01_mosaic'}], 'source_type': 'basemaps', 'state': 'running', 'tools': [{'merge': {}}, {'clip': {}}]}\n",
      "running\n",
      "{'_links': {'_self': 'https://api.planet.com/compute/ops/orders/v2/36aa44c6-56ed-4c78-8570-105bebc13a6a'}, 'created_on': '2022-11-18T22:39:28.810Z', 'delivery': {'google_cloud_storage': {'bucket': 'notebook-practice', 'credentials': '<REDACTED>', 'path_prefix': 'basemaps-to-cloud/'}}, 'error_hints': [], 'id': '36aa44c6-56ed-4c78-8570-105bebc13a6a', 'last_message': 'Waiting for merge operations to complete', 'last_modified': '2022-11-18T22:41:50.351Z', 'name': 'basemap order with geometry', 'order_type': 'partial', 'products': [{'geometry': {'coordinates': [[[4.607406, 52.353994], [4.680005, 52.353994], [4.680005, 52.395523], [4.607406, 52.395523], [4.607406, 52.353994]]], 'type': 'Polygon'}, 'mosaic_name': 'global_monthly_2022_01_mosaic'}], 'source_type': 'basemaps', 'state': 'running', 'tools': [{'merge': {}}, {'clip': {}}]}\n",
      "running\n",
      "{'_links': {'_self': 'https://api.planet.com/compute/ops/orders/v2/36aa44c6-56ed-4c78-8570-105bebc13a6a'}, 'created_on': '2022-11-18T22:39:28.810Z', 'delivery': {'google_cloud_storage': {'bucket': 'notebook-practice', 'credentials': '<REDACTED>', 'path_prefix': 'basemaps-to-cloud/'}}, 'error_hints': [], 'id': '36aa44c6-56ed-4c78-8570-105bebc13a6a', 'last_message': 'Waiting for merge operations to complete', 'last_modified': '2022-11-18T22:41:50.351Z', 'name': 'basemap order with geometry', 'order_type': 'partial', 'products': [{'geometry': {'coordinates': [[[4.607406, 52.353994], [4.680005, 52.353994], [4.680005, 52.395523], [4.607406, 52.395523], [4.607406, 52.353994]]], 'type': 'Polygon'}, 'mosaic_name': 'global_monthly_2022_01_mosaic'}], 'source_type': 'basemaps', 'state': 'running', 'tools': [{'merge': {}}, {'clip': {}}]}\n",
      "running\n",
      "{'_links': {'_self': 'https://api.planet.com/compute/ops/orders/v2/36aa44c6-56ed-4c78-8570-105bebc13a6a'}, 'created_on': '2022-11-18T22:39:28.810Z', 'delivery': {'google_cloud_storage': {'bucket': 'notebook-practice', 'credentials': '<REDACTED>', 'path_prefix': 'basemaps-to-cloud/'}}, 'error_hints': [], 'id': '36aa44c6-56ed-4c78-8570-105bebc13a6a', 'last_message': 'Waiting for merge operations to complete', 'last_modified': '2022-11-18T22:41:50.351Z', 'name': 'basemap order with geometry', 'order_type': 'partial', 'products': [{'geometry': {'coordinates': [[[4.607406, 52.353994], [4.680005, 52.353994], [4.680005, 52.395523], [4.607406, 52.395523], [4.607406, 52.353994]]], 'type': 'Polygon'}, 'mosaic_name': 'global_monthly_2022_01_mosaic'}], 'source_type': 'basemaps', 'state': 'running', 'tools': [{'merge': {}}, {'clip': {}}]}\n",
      "running\n",
      "{'_links': {'_self': 'https://api.planet.com/compute/ops/orders/v2/36aa44c6-56ed-4c78-8570-105bebc13a6a'}, 'created_on': '2022-11-18T22:39:28.810Z', 'delivery': {'google_cloud_storage': {'bucket': 'notebook-practice', 'credentials': '<REDACTED>', 'path_prefix': 'basemaps-to-cloud/'}}, 'error_hints': [], 'id': '36aa44c6-56ed-4c78-8570-105bebc13a6a', 'last_message': 'Waiting for merge operations to complete', 'last_modified': '2022-11-18T22:41:50.351Z', 'name': 'basemap order with geometry', 'order_type': 'partial', 'products': [{'geometry': {'coordinates': [[[4.607406, 52.353994], [4.680005, 52.353994], [4.680005, 52.395523], [4.607406, 52.395523], [4.607406, 52.353994]]], 'type': 'Polygon'}, 'mosaic_name': 'global_monthly_2022_01_mosaic'}], 'source_type': 'basemaps', 'state': 'running', 'tools': [{'merge': {}}, {'clip': {}}]}\n",
      "running\n",
      "{'_links': {'_self': 'https://api.planet.com/compute/ops/orders/v2/36aa44c6-56ed-4c78-8570-105bebc13a6a'}, 'created_on': '2022-11-18T22:39:28.810Z', 'delivery': {'google_cloud_storage': {'bucket': 'notebook-practice', 'credentials': '<REDACTED>', 'path_prefix': 'basemaps-to-cloud/'}}, 'error_hints': [], 'id': '36aa44c6-56ed-4c78-8570-105bebc13a6a', 'last_message': 'Waiting for merge operations to complete', 'last_modified': '2022-11-18T22:41:50.351Z', 'name': 'basemap order with geometry', 'order_type': 'partial', 'products': [{'geometry': {'coordinates': [[[4.607406, 52.353994], [4.680005, 52.353994], [4.680005, 52.395523], [4.607406, 52.395523], [4.607406, 52.353994]]], 'type': 'Polygon'}, 'mosaic_name': 'global_monthly_2022_01_mosaic'}], 'source_type': 'basemaps', 'state': 'running', 'tools': [{'merge': {}}, {'clip': {}}]}\n",
      "running\n",
      "{'_links': {'_self': 'https://api.planet.com/compute/ops/orders/v2/36aa44c6-56ed-4c78-8570-105bebc13a6a'}, 'created_on': '2022-11-18T22:39:28.810Z', 'delivery': {'google_cloud_storage': {'bucket': 'notebook-practice', 'credentials': '<REDACTED>', 'path_prefix': 'basemaps-to-cloud/'}}, 'error_hints': [], 'id': '36aa44c6-56ed-4c78-8570-105bebc13a6a', 'last_message': 'Waiting for merge operations to complete', 'last_modified': '2022-11-18T22:41:50.351Z', 'name': 'basemap order with geometry', 'order_type': 'partial', 'products': [{'geometry': {'coordinates': [[[4.607406, 52.353994], [4.680005, 52.353994], [4.680005, 52.395523], [4.607406, 52.395523], [4.607406, 52.353994]]], 'type': 'Polygon'}, 'mosaic_name': 'global_monthly_2022_01_mosaic'}], 'source_type': 'basemaps', 'state': 'running', 'tools': [{'merge': {}}, {'clip': {}}]}\n",
      "running\n",
      "{'_links': {'_self': 'https://api.planet.com/compute/ops/orders/v2/36aa44c6-56ed-4c78-8570-105bebc13a6a'}, 'created_on': '2022-11-18T22:39:28.810Z', 'delivery': {'google_cloud_storage': {'bucket': 'notebook-practice', 'credentials': '<REDACTED>', 'path_prefix': 'basemaps-to-cloud/'}}, 'error_hints': [], 'id': '36aa44c6-56ed-4c78-8570-105bebc13a6a', 'last_message': 'Waiting for merge operations to complete', 'last_modified': '2022-11-18T22:42:50.531Z', 'name': 'basemap order with geometry', 'order_type': 'partial', 'products': [{'geometry': {'coordinates': [[[4.607406, 52.353994], [4.680005, 52.353994], [4.680005, 52.395523], [4.607406, 52.395523], [4.607406, 52.353994]]], 'type': 'Polygon'}, 'mosaic_name': 'global_monthly_2022_01_mosaic'}], 'source_type': 'basemaps', 'state': 'running', 'tools': [{'merge': {}}, {'clip': {}}]}\n",
      "running\n",
      "{'_links': {'_self': 'https://api.planet.com/compute/ops/orders/v2/36aa44c6-56ed-4c78-8570-105bebc13a6a'}, 'created_on': '2022-11-18T22:39:28.810Z', 'delivery': {'google_cloud_storage': {'bucket': 'notebook-practice', 'credentials': '<REDACTED>', 'path_prefix': 'basemaps-to-cloud/'}}, 'error_hints': [], 'id': '36aa44c6-56ed-4c78-8570-105bebc13a6a', 'last_message': 'Waiting for merge operations to complete', 'last_modified': '2022-11-18T22:42:50.531Z', 'name': 'basemap order with geometry', 'order_type': 'partial', 'products': [{'geometry': {'coordinates': [[[4.607406, 52.353994], [4.680005, 52.353994], [4.680005, 52.395523], [4.607406, 52.395523], [4.607406, 52.353994]]], 'type': 'Polygon'}, 'mosaic_name': 'global_monthly_2022_01_mosaic'}], 'source_type': 'basemaps', 'state': 'running', 'tools': [{'merge': {}}, {'clip': {}}]}\n",
      "running\n",
      "{'_links': {'_self': 'https://api.planet.com/compute/ops/orders/v2/36aa44c6-56ed-4c78-8570-105bebc13a6a'}, 'created_on': '2022-11-18T22:39:28.810Z', 'delivery': {'google_cloud_storage': {'bucket': 'notebook-practice', 'credentials': '<REDACTED>', 'path_prefix': 'basemaps-to-cloud/'}}, 'error_hints': [], 'id': '36aa44c6-56ed-4c78-8570-105bebc13a6a', 'last_message': 'Waiting for merge operations to complete', 'last_modified': '2022-11-18T22:42:50.531Z', 'name': 'basemap order with geometry', 'order_type': 'partial', 'products': [{'geometry': {'coordinates': [[[4.607406, 52.353994], [4.680005, 52.353994], [4.680005, 52.395523], [4.607406, 52.395523], [4.607406, 52.353994]]], 'type': 'Polygon'}, 'mosaic_name': 'global_monthly_2022_01_mosaic'}], 'source_type': 'basemaps', 'state': 'running', 'tools': [{'merge': {}}, {'clip': {}}]}\n",
      "running\n",
      "{'_links': {'_self': 'https://api.planet.com/compute/ops/orders/v2/36aa44c6-56ed-4c78-8570-105bebc13a6a'}, 'created_on': '2022-11-18T22:39:28.810Z', 'delivery': {'google_cloud_storage': {'bucket': 'notebook-practice', 'credentials': '<REDACTED>', 'path_prefix': 'basemaps-to-cloud/'}}, 'error_hints': [], 'id': '36aa44c6-56ed-4c78-8570-105bebc13a6a', 'last_message': 'Waiting for merge operations to complete', 'last_modified': '2022-11-18T22:42:50.531Z', 'name': 'basemap order with geometry', 'order_type': 'partial', 'products': [{'geometry': {'coordinates': [[[4.607406, 52.353994], [4.680005, 52.353994], [4.680005, 52.395523], [4.607406, 52.395523], [4.607406, 52.353994]]], 'type': 'Polygon'}, 'mosaic_name': 'global_monthly_2022_01_mosaic'}], 'source_type': 'basemaps', 'state': 'running', 'tools': [{'merge': {}}, {'clip': {}}]}\n",
      "running\n",
      "{'_links': {'_self': 'https://api.planet.com/compute/ops/orders/v2/36aa44c6-56ed-4c78-8570-105bebc13a6a'}, 'created_on': '2022-11-18T22:39:28.810Z', 'delivery': {'google_cloud_storage': {'bucket': 'notebook-practice', 'credentials': '<REDACTED>', 'path_prefix': 'basemaps-to-cloud/'}}, 'error_hints': [], 'id': '36aa44c6-56ed-4c78-8570-105bebc13a6a', 'last_message': 'Waiting for merge operations to complete', 'last_modified': '2022-11-18T22:42:50.531Z', 'name': 'basemap order with geometry', 'order_type': 'partial', 'products': [{'geometry': {'coordinates': [[[4.607406, 52.353994], [4.680005, 52.353994], [4.680005, 52.395523], [4.607406, 52.395523], [4.607406, 52.353994]]], 'type': 'Polygon'}, 'mosaic_name': 'global_monthly_2022_01_mosaic'}], 'source_type': 'basemaps', 'state': 'running', 'tools': [{'merge': {}}, {'clip': {}}]}\n",
      "running\n",
      "{'_links': {'_self': 'https://api.planet.com/compute/ops/orders/v2/36aa44c6-56ed-4c78-8570-105bebc13a6a'}, 'created_on': '2022-11-18T22:39:28.810Z', 'delivery': {'google_cloud_storage': {'bucket': 'notebook-practice', 'credentials': '<REDACTED>', 'path_prefix': 'basemaps-to-cloud/'}}, 'error_hints': [], 'id': '36aa44c6-56ed-4c78-8570-105bebc13a6a', 'last_message': 'Waiting for merge operations to complete', 'last_modified': '2022-11-18T22:42:50.531Z', 'name': 'basemap order with geometry', 'order_type': 'partial', 'products': [{'geometry': {'coordinates': [[[4.607406, 52.353994], [4.680005, 52.353994], [4.680005, 52.395523], [4.607406, 52.395523], [4.607406, 52.353994]]], 'type': 'Polygon'}, 'mosaic_name': 'global_monthly_2022_01_mosaic'}], 'source_type': 'basemaps', 'state': 'running', 'tools': [{'merge': {}}, {'clip': {}}]}\n",
      "running\n",
      "{'_links': {'_self': 'https://api.planet.com/compute/ops/orders/v2/36aa44c6-56ed-4c78-8570-105bebc13a6a'}, 'created_on': '2022-11-18T22:39:28.810Z', 'delivery': {'google_cloud_storage': {'bucket': 'notebook-practice', 'credentials': '<REDACTED>', 'path_prefix': 'basemaps-to-cloud/'}}, 'error_hints': [], 'id': '36aa44c6-56ed-4c78-8570-105bebc13a6a', 'last_message': 'Waiting for merge operations to complete', 'last_modified': '2022-11-18T22:43:52.398Z', 'name': 'basemap order with geometry', 'order_type': 'partial', 'products': [{'geometry': {'coordinates': [[[4.607406, 52.353994], [4.680005, 52.353994], [4.680005, 52.395523], [4.607406, 52.395523], [4.607406, 52.353994]]], 'type': 'Polygon'}, 'mosaic_name': 'global_monthly_2022_01_mosaic'}], 'source_type': 'basemaps', 'state': 'running', 'tools': [{'merge': {}}, {'clip': {}}]}\n",
      "running\n",
      "{'_links': {'_self': 'https://api.planet.com/compute/ops/orders/v2/36aa44c6-56ed-4c78-8570-105bebc13a6a'}, 'created_on': '2022-11-18T22:39:28.810Z', 'delivery': {'google_cloud_storage': {'bucket': 'notebook-practice', 'credentials': '<REDACTED>', 'path_prefix': 'basemaps-to-cloud/'}}, 'error_hints': [], 'id': '36aa44c6-56ed-4c78-8570-105bebc13a6a', 'last_message': 'Waiting for merge operations to complete', 'last_modified': '2022-11-18T22:43:52.398Z', 'name': 'basemap order with geometry', 'order_type': 'partial', 'products': [{'geometry': {'coordinates': [[[4.607406, 52.353994], [4.680005, 52.353994], [4.680005, 52.395523], [4.607406, 52.395523], [4.607406, 52.353994]]], 'type': 'Polygon'}, 'mosaic_name': 'global_monthly_2022_01_mosaic'}], 'source_type': 'basemaps', 'state': 'running', 'tools': [{'merge': {}}, {'clip': {}}]}\n",
      "running\n",
      "{'_links': {'_self': 'https://api.planet.com/compute/ops/orders/v2/36aa44c6-56ed-4c78-8570-105bebc13a6a'}, 'created_on': '2022-11-18T22:39:28.810Z', 'delivery': {'google_cloud_storage': {'bucket': 'notebook-practice', 'credentials': '<REDACTED>', 'path_prefix': 'basemaps-to-cloud/'}}, 'error_hints': [], 'id': '36aa44c6-56ed-4c78-8570-105bebc13a6a', 'last_message': 'Waiting for merge operations to complete', 'last_modified': '2022-11-18T22:43:52.398Z', 'name': 'basemap order with geometry', 'order_type': 'partial', 'products': [{'geometry': {'coordinates': [[[4.607406, 52.353994], [4.680005, 52.353994], [4.680005, 52.395523], [4.607406, 52.395523], [4.607406, 52.353994]]], 'type': 'Polygon'}, 'mosaic_name': 'global_monthly_2022_01_mosaic'}], 'source_type': 'basemaps', 'state': 'running', 'tools': [{'merge': {}}, {'clip': {}}]}\n",
      "running\n",
      "{'_links': {'_self': 'https://api.planet.com/compute/ops/orders/v2/36aa44c6-56ed-4c78-8570-105bebc13a6a'}, 'created_on': '2022-11-18T22:39:28.810Z', 'delivery': {'google_cloud_storage': {'bucket': 'notebook-practice', 'credentials': '<REDACTED>', 'path_prefix': 'basemaps-to-cloud/'}}, 'error_hints': [], 'id': '36aa44c6-56ed-4c78-8570-105bebc13a6a', 'last_message': 'Waiting for merge operations to complete', 'last_modified': '2022-11-18T22:43:52.398Z', 'name': 'basemap order with geometry', 'order_type': 'partial', 'products': [{'geometry': {'coordinates': [[[4.607406, 52.353994], [4.680005, 52.353994], [4.680005, 52.395523], [4.607406, 52.395523], [4.607406, 52.353994]]], 'type': 'Polygon'}, 'mosaic_name': 'global_monthly_2022_01_mosaic'}], 'source_type': 'basemaps', 'state': 'running', 'tools': [{'merge': {}}, {'clip': {}}]}\n",
      "running\n"
     ]
    }
   ],
   "source": [
    "def poll_for_success(order_url, auth, num_loops=30):\n",
    "    count = 0\n",
    "    while(count < num_loops):\n",
    "        count += 1\n",
    "        r = requests.get(order_url, auth=session.auth)\n",
    "        response = r.json()\n",
    "        print(response)\n",
    "        \n",
    "        state = response['state']\n",
    "        print(state)\n",
    "        end_states = ['success', 'failed', 'partial']\n",
    "        if state in end_states:\n",
    "            break\n",
    "        time.sleep(10)\n",
    "        # print(response)\n",
    "        \n",
    "poll_for_success(order_url, auth)"
   ]
  },
  {
   "cell_type": "code",
   "execution_count": 22,
   "metadata": {},
   "outputs": [
    {
     "ename": "KeyError",
     "evalue": "'results'",
     "output_type": "error",
     "traceback": [
      "\u001b[0;31m---------------------------------------------------------------------------\u001b[0m",
      "\u001b[0;31mKeyError\u001b[0m                                  Traceback (most recent call last)",
      "\u001b[1;32m/Users/em.steuer/Documents/ordering_basemap_with_aoi_and_quadID.ipynb Cell 17\u001b[0m in \u001b[0;36m<cell line: 3>\u001b[0;34m()\u001b[0m\n\u001b[1;32m      <a href='vscode-notebook-cell:/Users/em.steuer/Documents/ordering_basemap_with_aoi_and_quadID.ipynb#X22sZmlsZQ%3D%3D?line=0'>1</a>\u001b[0m r \u001b[39m=\u001b[39m requests\u001b[39m.\u001b[39mget(order_url, auth\u001b[39m=\u001b[39msession\u001b[39m.\u001b[39mauth)\n\u001b[1;32m      <a href='vscode-notebook-cell:/Users/em.steuer/Documents/ordering_basemap_with_aoi_and_quadID.ipynb#X22sZmlsZQ%3D%3D?line=1'>2</a>\u001b[0m response \u001b[39m=\u001b[39m r\u001b[39m.\u001b[39mjson()\n\u001b[0;32m----> <a href='vscode-notebook-cell:/Users/em.steuer/Documents/ordering_basemap_with_aoi_and_quadID.ipynb#X22sZmlsZQ%3D%3D?line=2'>3</a>\u001b[0m results \u001b[39m=\u001b[39m response[\u001b[39m'\u001b[39;49m\u001b[39m_links\u001b[39;49m\u001b[39m'\u001b[39;49m][\u001b[39m'\u001b[39;49m\u001b[39mresults\u001b[39;49m\u001b[39m'\u001b[39;49m]\n",
      "\u001b[0;31mKeyError\u001b[0m: 'results'"
     ]
    }
   ],
   "source": [
    "r = requests.get(order_url, auth=session.auth)\n",
    "response = r.json()\n",
    "results = response['_links']['results']"
   ]
  },
  {
   "cell_type": "code",
   "execution_count": null,
   "metadata": {},
   "outputs": [
    {
     "data": {
      "text/plain": [
       "['basemaps-to-cloud/9e15388e-6c11-4945-b69c-3733e2e8d05d/global_monthly_2022_01_mosaic/global_monthly_2022_01_mosaic_metadata_merge_clip.json',\n",
       " 'basemaps-to-cloud/9e15388e-6c11-4945-b69c-3733e2e8d05d/global_monthly_2022_01_mosaic/global_monthly_2022_01_mosaic_provenance_vector_merge_clip.zip',\n",
       " 'basemaps-to-cloud/9e15388e-6c11-4945-b69c-3733e2e8d05d/global_monthly_2022_01_mosaic/global_monthly_2022_01_mosaic_ortho_udm_merge_clip.tif',\n",
       " 'basemaps-to-cloud/9e15388e-6c11-4945-b69c-3733e2e8d05d/global_monthly_2022_01_mosaic/global_monthly_2022_01_mosaic_merge_clip.tif',\n",
       " 'basemaps-to-cloud/9e15388e-6c11-4945-b69c-3733e2e8d05d/global_monthly_2022_01_mosaic/global_monthly_2022_01_mosaic_provenance_raster_merge_clip.tif',\n",
       " 'basemaps-to-cloud/9e15388e-6c11-4945-b69c-3733e2e8d05d/manifest.json']"
      ]
     },
     "execution_count": 114,
     "metadata": {},
     "output_type": "execute_result"
    }
   ],
   "source": [
    "[r['name'] for r in results]"
   ]
  },
  {
   "cell_type": "code",
   "execution_count": null,
   "metadata": {},
   "outputs": [
    {
     "ename": "KeyError",
     "evalue": "'location'",
     "output_type": "error",
     "traceback": [
      "\u001b[0;31m---------------------------------------------------------------------------\u001b[0m",
      "\u001b[0;31mKeyError\u001b[0m                                  Traceback (most recent call last)",
      "\u001b[1;32m/Users/em.steuer/Documents/ordering_basemap_with_aoi_and_quadID.ipynb Cell 19\u001b[0m in \u001b[0;36m<cell line: 16>\u001b[0;34m()\u001b[0m\n\u001b[1;32m     <a href='vscode-notebook-cell:/Users/em.steuer/Documents/ordering_basemap_with_aoi_and_quadID.ipynb#X24sZmlsZQ%3D%3D?line=13'>14</a>\u001b[0m         \u001b[39melse\u001b[39;00m:\n\u001b[1;32m     <a href='vscode-notebook-cell:/Users/em.steuer/Documents/ordering_basemap_with_aoi_and_quadID.ipynb#X24sZmlsZQ%3D%3D?line=14'>15</a>\u001b[0m             \u001b[39mprint\u001b[39m(\u001b[39m'\u001b[39m\u001b[39m{}\u001b[39;00m\u001b[39m already exists, skipping \u001b[39m\u001b[39m{}\u001b[39;00m\u001b[39m'\u001b[39m\u001b[39m.\u001b[39mformat(path, name))\n\u001b[0;32m---> <a href='vscode-notebook-cell:/Users/em.steuer/Documents/ordering_basemap_with_aoi_and_quadID.ipynb#X24sZmlsZQ%3D%3D?line=15'>16</a>\u001b[0m download_results(results)\n",
      "\u001b[1;32m/Users/em.steuer/Documents/ordering_basemap_with_aoi_and_quadID.ipynb Cell 19\u001b[0m in \u001b[0;36mdownload_results\u001b[0;34m(results, overwrite)\u001b[0m\n\u001b[1;32m      <a href='vscode-notebook-cell:/Users/em.steuer/Documents/ordering_basemap_with_aoi_and_quadID.ipynb#X24sZmlsZQ%3D%3D?line=0'>1</a>\u001b[0m \u001b[39mdef\u001b[39;00m \u001b[39mdownload_results\u001b[39m(results, overwrite\u001b[39m=\u001b[39m\u001b[39mFalse\u001b[39;00m):\n\u001b[0;32m----> <a href='vscode-notebook-cell:/Users/em.steuer/Documents/ordering_basemap_with_aoi_and_quadID.ipynb#X24sZmlsZQ%3D%3D?line=1'>2</a>\u001b[0m     results_urls \u001b[39m=\u001b[39m [r[\u001b[39m'\u001b[39m\u001b[39mlocation\u001b[39m\u001b[39m'\u001b[39m] \u001b[39mfor\u001b[39;00m r \u001b[39min\u001b[39;00m results]\n\u001b[1;32m      <a href='vscode-notebook-cell:/Users/em.steuer/Documents/ordering_basemap_with_aoi_and_quadID.ipynb#X24sZmlsZQ%3D%3D?line=2'>3</a>\u001b[0m     results_names \u001b[39m=\u001b[39m [r[\u001b[39m'\u001b[39m\u001b[39mname\u001b[39m\u001b[39m'\u001b[39m] \u001b[39mfor\u001b[39;00m r \u001b[39min\u001b[39;00m results]\n\u001b[1;32m      <a href='vscode-notebook-cell:/Users/em.steuer/Documents/ordering_basemap_with_aoi_and_quadID.ipynb#X24sZmlsZQ%3D%3D?line=3'>4</a>\u001b[0m     \u001b[39mprint\u001b[39m(\u001b[39m'\u001b[39m\u001b[39m{}\u001b[39;00m\u001b[39m items to download\u001b[39m\u001b[39m'\u001b[39m\u001b[39m.\u001b[39mformat(\u001b[39mlen\u001b[39m(results_urls)))\n",
      "\u001b[1;32m/Users/em.steuer/Documents/ordering_basemap_with_aoi_and_quadID.ipynb Cell 19\u001b[0m in \u001b[0;36m<listcomp>\u001b[0;34m(.0)\u001b[0m\n\u001b[1;32m      <a href='vscode-notebook-cell:/Users/em.steuer/Documents/ordering_basemap_with_aoi_and_quadID.ipynb#X24sZmlsZQ%3D%3D?line=0'>1</a>\u001b[0m \u001b[39mdef\u001b[39;00m \u001b[39mdownload_results\u001b[39m(results, overwrite\u001b[39m=\u001b[39m\u001b[39mFalse\u001b[39;00m):\n\u001b[0;32m----> <a href='vscode-notebook-cell:/Users/em.steuer/Documents/ordering_basemap_with_aoi_and_quadID.ipynb#X24sZmlsZQ%3D%3D?line=1'>2</a>\u001b[0m     results_urls \u001b[39m=\u001b[39m [r[\u001b[39m'\u001b[39;49m\u001b[39mlocation\u001b[39;49m\u001b[39m'\u001b[39;49m] \u001b[39mfor\u001b[39;00m r \u001b[39min\u001b[39;00m results]\n\u001b[1;32m      <a href='vscode-notebook-cell:/Users/em.steuer/Documents/ordering_basemap_with_aoi_and_quadID.ipynb#X24sZmlsZQ%3D%3D?line=2'>3</a>\u001b[0m     results_names \u001b[39m=\u001b[39m [r[\u001b[39m'\u001b[39m\u001b[39mname\u001b[39m\u001b[39m'\u001b[39m] \u001b[39mfor\u001b[39;00m r \u001b[39min\u001b[39;00m results]\n\u001b[1;32m      <a href='vscode-notebook-cell:/Users/em.steuer/Documents/ordering_basemap_with_aoi_and_quadID.ipynb#X24sZmlsZQ%3D%3D?line=3'>4</a>\u001b[0m     \u001b[39mprint\u001b[39m(\u001b[39m'\u001b[39m\u001b[39m{}\u001b[39;00m\u001b[39m items to download\u001b[39m\u001b[39m'\u001b[39m\u001b[39m.\u001b[39mformat(\u001b[39mlen\u001b[39m(results_urls)))\n",
      "\u001b[0;31mKeyError\u001b[0m: 'location'"
     ]
    }
   ],
   "source": [
    "def download_results(results, overwrite=False):\n",
    "    results_urls = [r['location'] for r in results]\n",
    "    results_names = [r['name'] for r in results]\n",
    "    print('{} items to download'.format(len(results_urls)))\n",
    "    \n",
    "    for url, name in zip(results_urls, results_names):\n",
    "        path = pathlib.Path(os.path.join('data', name))\n",
    "        \n",
    "        if overwrite or not path.exists():\n",
    "            print('downloading {} to {}'.format(name, path))\n",
    "            r = requests.get(url, allow_redirects=True)\n",
    "            path.parent.mkdir(parents=True, exist_ok=True)\n",
    "            open(path, 'wb').write(r.content)\n",
    "        else:\n",
    "            print('{} already exists, skipping {}'.format(path, name))\n",
    "download_results(results)"
   ]
  },
  {
   "cell_type": "markdown",
   "metadata": {},
   "source": [
    "### Ordering a Basemap With a Set of Quad IDs"
   ]
  },
  {
   "cell_type": "markdown",
   "metadata": {},
   "source": [
    "you can get the quad IDs from planet explorer or if you have the basemap, you can find the quad IDs like this:"
   ]
  },
  {
   "cell_type": "code",
   "execution_count": 1,
   "metadata": {},
   "outputs": [],
   "source": [
    "ORDERS_API_URL = 'https://api.planet.com/compute/ops/orders/v2'"
   ]
  },
  {
   "cell_type": "code",
   "execution_count": 2,
   "metadata": {},
   "outputs": [
    {
     "ename": "NameError",
     "evalue": "name 'HTTPBasicAuth' is not defined",
     "output_type": "error",
     "traceback": [
      "\u001b[0;31m---------------------------------------------------------------------------\u001b[0m",
      "\u001b[0;31mNameError\u001b[0m                                 Traceback (most recent call last)",
      "Input \u001b[0;32mIn [2]\u001b[0m, in \u001b[0;36m<cell line: 3>\u001b[0;34m()\u001b[0m\n\u001b[1;32m      1\u001b[0m API_KEY \u001b[38;5;241m=\u001b[39m \u001b[38;5;124m'\u001b[39m\u001b[38;5;124mPLAK0962efb566a34514a56599994d2d0674\u001b[39m\u001b[38;5;124m'\u001b[39m\n\u001b[1;32m      2\u001b[0m orders_url \u001b[38;5;241m=\u001b[39m \u001b[38;5;124m'\u001b[39m\u001b[38;5;124mhttps://api.planet.com/compute/ops/orders/v2\u001b[39m\u001b[38;5;124m'\u001b[39m \n\u001b[0;32m----> 3\u001b[0m auth \u001b[38;5;241m=\u001b[39m \u001b[43mHTTPBasicAuth\u001b[49m(\u001b[38;5;124m'\u001b[39m\u001b[38;5;124mPLAK0962efb566a34514a56599994d2d0674\u001b[39m\u001b[38;5;124m'\u001b[39m, \u001b[38;5;124m'\u001b[39m\u001b[38;5;124m'\u001b[39m)\n\u001b[1;32m      4\u001b[0m \u001b[38;5;28;01mif\u001b[39;00m os\u001b[38;5;241m.\u001b[39menviron\u001b[38;5;241m.\u001b[39mget(API_KEY, \u001b[38;5;124m'\u001b[39m\u001b[38;5;124m'\u001b[39m):\n\u001b[1;32m      5\u001b[0m     API_KEY \u001b[38;5;241m=\u001b[39m os\u001b[38;5;241m.\u001b[39menviron\u001b[38;5;241m.\u001b[39mget(API_KEY, \u001b[38;5;124m'\u001b[39m\u001b[38;5;124m'\u001b[39m)\n",
      "\u001b[0;31mNameError\u001b[0m: name 'HTTPBasicAuth' is not defined"
     ]
    }
   ],
   "source": [
    "API_KEY = 'PLAK0962efb566a34514a56599994d2d0674'\n",
    "orders_url = 'https://api.planet.com/compute/ops/orders/v2' \n",
    "auth = HTTPBasicAuth('PLAK0962efb566a34514a56599994d2d0674', '')\n",
    "if os.environ.get(API_KEY, ''):\n",
    "    API_KEY = os.environ.get(API_KEY, '')\n",
    "else:\n",
    "    API_KEY = API_KEY\n",
    "    \n",
    "# Setup the session\n",
    "session = requests.Session()\n",
    "\n",
    "# Authenticate\n",
    "session.auth = (API_KEY, \"\")"
   ]
  },
  {
   "cell_type": "code",
   "execution_count": 3,
   "metadata": {},
   "outputs": [
    {
     "ename": "NameError",
     "evalue": "name 'requests' is not defined",
     "output_type": "error",
     "traceback": [
      "\u001b[0;31m---------------------------------------------------------------------------\u001b[0m",
      "\u001b[0;31mNameError\u001b[0m                                 Traceback (most recent call last)",
      "Input \u001b[0;32mIn [3]\u001b[0m, in \u001b[0;36m<cell line: 1>\u001b[0;34m()\u001b[0m\n\u001b[0;32m----> 1\u001b[0m response \u001b[38;5;241m=\u001b[39m \u001b[43mrequests\u001b[49m\u001b[38;5;241m.\u001b[39mget(orders_url, auth\u001b[38;5;241m=\u001b[39msession\u001b[38;5;241m.\u001b[39mauth)\n\u001b[1;32m      2\u001b[0m response\n",
      "\u001b[0;31mNameError\u001b[0m: name 'requests' is not defined"
     ]
    }
   ],
   "source": [
    "response = requests.get(orders_url, auth=session.auth)\n",
    "response"
   ]
  },
  {
   "cell_type": "markdown",
   "metadata": {},
   "source": [
    "basemap_params = {\n",
    "    'name__is': 'point_reyes_rolling_normalized_2020-04-30_mosaic'\n",
    "}"
   ]
  },
  {
   "cell_type": "code",
   "execution_count": 4,
   "metadata": {},
   "outputs": [
    {
     "ename": "NameError",
     "evalue": "name 'HTTPBasicAuth' is not defined",
     "output_type": "error",
     "traceback": [
      "\u001b[0;31m---------------------------------------------------------------------------\u001b[0m",
      "\u001b[0;31mNameError\u001b[0m                                 Traceback (most recent call last)",
      "Input \u001b[0;32mIn [4]\u001b[0m, in \u001b[0;36m<cell line: 1>\u001b[0;34m()\u001b[0m\n\u001b[0;32m----> 1\u001b[0m auth \u001b[38;5;241m=\u001b[39m \u001b[43mHTTPBasicAuth\u001b[49m(\u001b[38;5;124m'\u001b[39m\u001b[38;5;124mPLAK0962efb566a34514a56599994d2d0674\u001b[39m\u001b[38;5;124m'\u001b[39m, \u001b[38;5;124m'\u001b[39m\u001b[38;5;124m'\u001b[39m)\n\u001b[1;32m      2\u001b[0m BASEMAP_API_URL \u001b[38;5;241m=\u001b[39m \u001b[38;5;124m'\u001b[39m\u001b[38;5;124mhttps://api.planet.com/basemaps/v1/mosaics\u001b[39m\u001b[38;5;124m'\u001b[39m\n\u001b[1;32m      3\u001b[0m headers \u001b[38;5;241m=\u001b[39m {\u001b[38;5;124m'\u001b[39m\u001b[38;5;124mcontent-type\u001b[39m\u001b[38;5;124m'\u001b[39m: \u001b[38;5;124m'\u001b[39m\u001b[38;5;124mapplication/json\u001b[39m\u001b[38;5;124m'\u001b[39m}\n",
      "\u001b[0;31mNameError\u001b[0m: name 'HTTPBasicAuth' is not defined"
     ]
    }
   ],
   "source": [
    "auth = HTTPBasicAuth('PLAK0962efb566a34514a56599994d2d0674', '')\n",
    "BASEMAP_API_URL = 'https://api.planet.com/basemaps/v1/mosaics'\n",
    "headers = {'content-type': 'application/json'}\n",
    "\n",
    "basemap_params = {\n",
    "    'name__is': 'point_reyes_rolling_normalized_2020-04-30_mosaic'\n",
    "}\n",
    "\n",
    "basemapServiceResponse = requests.get(url=BASEMAP_API_URL, params=basemap_params, auth=auth, headers=headers)\n",
    "\n",
    "basemaps = basemapServiceResponse.raise_for_status()\n",
    "if basemapServiceResponse.status_code != 204:\n",
    "    basemaps = json.loads(basemapServiceResponse.text)\n",
    "print(basemaps)"
   ]
  },
  {
   "cell_type": "code",
   "execution_count": 5,
   "metadata": {},
   "outputs": [
    {
     "ename": "NameError",
     "evalue": "name 'basemaps' is not defined",
     "output_type": "error",
     "traceback": [
      "\u001b[0;31m---------------------------------------------------------------------------\u001b[0m",
      "\u001b[0;31mNameError\u001b[0m                                 Traceback (most recent call last)",
      "Input \u001b[0;32mIn [5]\u001b[0m, in \u001b[0;36m<cell line: 1>\u001b[0;34m()\u001b[0m\n\u001b[0;32m----> 1\u001b[0m mosaicID \u001b[38;5;241m=\u001b[39m \u001b[43mbasemaps\u001b[49m[\u001b[38;5;124m'\u001b[39m\u001b[38;5;124mmosaics\u001b[39m\u001b[38;5;124m'\u001b[39m][\u001b[38;5;241m0\u001b[39m][\u001b[38;5;124m'\u001b[39m\u001b[38;5;124mid\u001b[39m\u001b[38;5;124m'\u001b[39m]\n\u001b[1;32m      2\u001b[0m mosaicBbox \u001b[38;5;241m=\u001b[39m basemaps[\u001b[38;5;124m'\u001b[39m\u001b[38;5;124mmosaics\u001b[39m\u001b[38;5;124m'\u001b[39m][\u001b[38;5;241m0\u001b[39m][\u001b[38;5;124m'\u001b[39m\u001b[38;5;124mbbox\u001b[39m\u001b[38;5;124m'\u001b[39m]\n\u001b[1;32m      3\u001b[0m mosaicBboxStr \u001b[38;5;241m=\u001b[39m \u001b[38;5;124m'\u001b[39m\u001b[38;5;124m,\u001b[39m\u001b[38;5;124m'\u001b[39m\u001b[38;5;241m.\u001b[39mjoin(\u001b[38;5;28mmap\u001b[39m(\u001b[38;5;28mstr\u001b[39m, mosaicBbox))\n",
      "\u001b[0;31mNameError\u001b[0m: name 'basemaps' is not defined"
     ]
    }
   ],
   "source": [
    "mosaicID = basemaps['mosaics'][0]['id']\n",
    "mosaicBbox = basemaps['mosaics'][0]['bbox']\n",
    "mosaicBboxStr = ','.join(map(str, mosaicBbox))\n",
    "\n",
    "quad_params = {\n",
    "    'mosaic_id': mosaicID,\n",
    "    'bbox': mosaicBboxStr,\n",
    "}"
   ]
  },
  {
   "cell_type": "code",
   "execution_count": 6,
   "metadata": {},
   "outputs": [
    {
     "ename": "NameError",
     "evalue": "name 'BASEMAP_API_URL' is not defined",
     "output_type": "error",
     "traceback": [
      "\u001b[0;31m---------------------------------------------------------------------------\u001b[0m",
      "\u001b[0;31mNameError\u001b[0m                                 Traceback (most recent call last)",
      "Input \u001b[0;32mIn [6]\u001b[0m, in \u001b[0;36m<cell line: 1>\u001b[0;34m()\u001b[0m\n\u001b[0;32m----> 1\u001b[0m quads_url \u001b[38;5;241m=\u001b[39m \u001b[38;5;124m\"\u001b[39m\u001b[38;5;132;01m{}\u001b[39;00m\u001b[38;5;124m/\u001b[39m\u001b[38;5;132;01m{}\u001b[39;00m\u001b[38;5;124m/quads\u001b[39m\u001b[38;5;124m\"\u001b[39m\u001b[38;5;241m.\u001b[39mformat(\u001b[43mBASEMAP_API_URL\u001b[49m, mosaicID)\n\u001b[1;32m      2\u001b[0m quadServiceResponse \u001b[38;5;241m=\u001b[39m requests\u001b[38;5;241m.\u001b[39mget(url\u001b[38;5;241m=\u001b[39mquads_url, params\u001b[38;5;241m=\u001b[39mquad_params, auth\u001b[38;5;241m=\u001b[39mauth, headers\u001b[38;5;241m=\u001b[39mheaders)\n\u001b[1;32m      3\u001b[0m quads \u001b[38;5;241m=\u001b[39m quadServiceResponse\u001b[38;5;241m.\u001b[39mjson()\n",
      "\u001b[0;31mNameError\u001b[0m: name 'BASEMAP_API_URL' is not defined"
     ]
    }
   ],
   "source": [
    "quads_url = \"{}/{}/quads\".format(BASEMAP_API_URL, mosaicID)\n",
    "quadServiceResponse = requests.get(url=quads_url, params=quad_params, auth=auth, headers=headers)\n",
    "quads = quadServiceResponse.json()\n",
    "items = quads['items']"
   ]
  },
  {
   "cell_type": "code",
   "execution_count": 7,
   "metadata": {},
   "outputs": [
    {
     "ename": "NameError",
     "evalue": "name 'items' is not defined",
     "output_type": "error",
     "traceback": [
      "\u001b[0;31m---------------------------------------------------------------------------\u001b[0m",
      "\u001b[0;31mNameError\u001b[0m                                 Traceback (most recent call last)",
      "Input \u001b[0;32mIn [7]\u001b[0m, in \u001b[0;36m<cell line: 2>\u001b[0;34m()\u001b[0m\n\u001b[1;32m      1\u001b[0m quadIds \u001b[38;5;241m=\u001b[39m []\n\u001b[0;32m----> 2\u001b[0m \u001b[38;5;28;01mfor\u001b[39;00m i \u001b[38;5;129;01min\u001b[39;00m \u001b[43mitems\u001b[49m:\n\u001b[1;32m      3\u001b[0m     quadId \u001b[38;5;241m=\u001b[39m i[\u001b[38;5;124m'\u001b[39m\u001b[38;5;124mid\u001b[39m\u001b[38;5;124m'\u001b[39m]\n\u001b[1;32m      4\u001b[0m     quadIds\u001b[38;5;241m.\u001b[39mappend(quadId)\n",
      "\u001b[0;31mNameError\u001b[0m: name 'items' is not defined"
     ]
    }
   ],
   "source": [
    "quadIds = []\n",
    "for i in items:\n",
    "    quadId = i['id']\n",
    "    quadIds.append(quadId)"
   ]
  },
  {
   "cell_type": "code",
   "execution_count": 8,
   "metadata": {},
   "outputs": [],
   "source": [
    "order_params = {\n",
    "   \"name\":\"basemap order with quad_ids\",\n",
    "   \"source_type\":\"basemaps\",\n",
    "   \"products\":[\n",
    "      {\n",
    "         \"mosaic_name\":\"point_reyes_rolling_normalized_2020-04-30_mosaic\",\n",
    "         \"quad_ids\": quadIds\n",
    "      }\n",
    "   ],\n",
    "    \"tools\": [\n",
    "      {\n",
    "         \"reproject\": {\n",
    "        \"projection\": \"EPSG:4326\",\n",
    "        \"resolution\": 3.0 / 111000.0,\n",
    "        \"kernel\": \"cubic\"\n",
    "      }\n",
    "      },\n",
    "      {\n",
    "      \"bandmath\": {\n",
    "        \"b1\": \"b1\",\n",
    "        \"b2\": \"b2\",\n",
    "        \"b3\": \"b3\",\n",
    "        \"b4\": \"arctan(b1)\",\n",
    "        \"b5\": \"(b4-b3)/(b4+b3)\",\n",
    "        \"pixel_type\": \"32R\"\n",
    "      }\n",
    "      \n",
    "      }\n",
    "   \n",
    "    ]\n",
    "\n",
    "    \n",
    "   # \"delivery\":{\n",
    "   #    \"google_cloud_storage\":{\n",
    "   #       \"bucket\":\"[your-orders-delivery-bucket]\",\n",
    "   #       \"credentials\":\"[QUl6YVN5QWNlSzZFV1pGZ2I3Yklfc285UzNVTDRDanZfYlB1SDdVCg==]\",\n",
    "   #       \"path_prefix\":\"[optionalsubfolder/]\"\n",
    "   #    }\n",
    "   # }\n",
    "}"
   ]
  },
  {
   "cell_type": "code",
   "execution_count": 9,
   "metadata": {},
   "outputs": [
    {
     "ename": "NameError",
     "evalue": "name 'requests' is not defined",
     "output_type": "error",
     "traceback": [
      "\u001b[0;31m---------------------------------------------------------------------------\u001b[0m",
      "\u001b[0;31mNameError\u001b[0m                                 Traceback (most recent call last)",
      "Input \u001b[0;32mIn [9]\u001b[0m, in \u001b[0;36m<cell line: 1>\u001b[0;34m()\u001b[0m\n\u001b[0;32m----> 1\u001b[0m paramRes \u001b[38;5;241m=\u001b[39m \u001b[43mrequests\u001b[49m\u001b[38;5;241m.\u001b[39mpost(ORDERS_API_URL, data\u001b[38;5;241m=\u001b[39mjson\u001b[38;5;241m.\u001b[39mdumps(order_params), auth\u001b[38;5;241m=\u001b[39mauth, headers\u001b[38;5;241m=\u001b[39mheaders)\n\u001b[1;32m      3\u001b[0m paramRes\u001b[38;5;241m.\u001b[39mraise_for_status()\n\u001b[1;32m      4\u001b[0m \u001b[38;5;28;01mif\u001b[39;00m paramRes\u001b[38;5;241m.\u001b[39mstatus_code \u001b[38;5;241m!=\u001b[39m \u001b[38;5;241m204\u001b[39m:\n",
      "\u001b[0;31mNameError\u001b[0m: name 'requests' is not defined"
     ]
    }
   ],
   "source": [
    "paramRes = requests.post(ORDERS_API_URL, data=json.dumps(order_params), auth=auth, headers=headers)\n",
    "\n",
    "paramRes.raise_for_status()\n",
    "if paramRes.status_code != 204:\n",
    "    print(paramRes.text)"
   ]
  },
  {
   "cell_type": "code",
   "execution_count": 10,
   "metadata": {},
   "outputs": [],
   "source": [
    "def place_order(order_params, auth):\n",
    "    response = requests.post(ORDERS_API_URL, data=json.dumps(order_params), auth=auth, headers=headers)\n",
    "    print(response)\n",
    "    order_id = response.json()['id']\n",
    "    print(order_id)\n",
    "    order_url = ORDERS_API_URL + '/' + order_id\n",
    "    return order_url"
   ]
  },
  {
   "cell_type": "code",
   "execution_count": 11,
   "metadata": {},
   "outputs": [
    {
     "ename": "NameError",
     "evalue": "name 'session' is not defined",
     "output_type": "error",
     "traceback": [
      "\u001b[0;31m---------------------------------------------------------------------------\u001b[0m",
      "\u001b[0;31mNameError\u001b[0m                                 Traceback (most recent call last)",
      "Input \u001b[0;32mIn [11]\u001b[0m, in \u001b[0;36m<cell line: 1>\u001b[0;34m()\u001b[0m\n\u001b[0;32m----> 1\u001b[0m order_url \u001b[38;5;241m=\u001b[39m place_order(order_params, \u001b[43msession\u001b[49m\u001b[38;5;241m.\u001b[39mauth)\n",
      "\u001b[0;31mNameError\u001b[0m: name 'session' is not defined"
     ]
    }
   ],
   "source": [
    "order_url = place_order(order_params, session.auth)"
   ]
  },
  {
   "cell_type": "code",
   "execution_count": 12,
   "metadata": {},
   "outputs": [
    {
     "ename": "NameError",
     "evalue": "name 'order_url' is not defined",
     "output_type": "error",
     "traceback": [
      "\u001b[0;31m---------------------------------------------------------------------------\u001b[0m",
      "\u001b[0;31mNameError\u001b[0m                                 Traceback (most recent call last)",
      "Input \u001b[0;32mIn [12]\u001b[0m, in \u001b[0;36m<cell line: 16>\u001b[0;34m()\u001b[0m\n\u001b[1;32m     13\u001b[0m         time\u001b[38;5;241m.\u001b[39msleep(\u001b[38;5;241m10\u001b[39m)\n\u001b[1;32m     14\u001b[0m         \u001b[38;5;66;03m# print(response)\u001b[39;00m\n\u001b[0;32m---> 16\u001b[0m poll_for_success(\u001b[43morder_url\u001b[49m, auth)\n",
      "\u001b[0;31mNameError\u001b[0m: name 'order_url' is not defined"
     ]
    }
   ],
   "source": [
    "def poll_for_success(order_url, auth, num_loops=30):\n",
    "    count = 0\n",
    "    while(count < num_loops):\n",
    "        count += 1\n",
    "        r = requests.get(order_url, auth=session.auth)\n",
    "        response = r.json()\n",
    "        # print(response)\n",
    "        state = response['state']\n",
    "        print(state)\n",
    "        end_states = ['success', 'failed', 'partial']\n",
    "        if state in end_states:\n",
    "            break\n",
    "        time.sleep(10)\n",
    "        # print(response)\n",
    "        \n",
    "poll_for_success(order_url, auth)"
   ]
  },
  {
   "cell_type": "code",
   "execution_count": 13,
   "metadata": {},
   "outputs": [
    {
     "ename": "NameError",
     "evalue": "name 'requests' is not defined",
     "output_type": "error",
     "traceback": [
      "\u001b[0;31m---------------------------------------------------------------------------\u001b[0m",
      "\u001b[0;31mNameError\u001b[0m                                 Traceback (most recent call last)",
      "Input \u001b[0;32mIn [13]\u001b[0m, in \u001b[0;36m<cell line: 1>\u001b[0;34m()\u001b[0m\n\u001b[0;32m----> 1\u001b[0m r \u001b[38;5;241m=\u001b[39m \u001b[43mrequests\u001b[49m\u001b[38;5;241m.\u001b[39mget(order_url, auth\u001b[38;5;241m=\u001b[39msession\u001b[38;5;241m.\u001b[39mauth)\n\u001b[1;32m      2\u001b[0m response \u001b[38;5;241m=\u001b[39m r\u001b[38;5;241m.\u001b[39mjson()\n\u001b[1;32m      3\u001b[0m results \u001b[38;5;241m=\u001b[39m response[\u001b[38;5;124m'\u001b[39m\u001b[38;5;124m_links\u001b[39m\u001b[38;5;124m'\u001b[39m][\u001b[38;5;124m'\u001b[39m\u001b[38;5;124mresults\u001b[39m\u001b[38;5;124m'\u001b[39m]\n",
      "\u001b[0;31mNameError\u001b[0m: name 'requests' is not defined"
     ]
    }
   ],
   "source": [
    "r = requests.get(order_url, auth=session.auth)\n",
    "response = r.json()\n",
    "results = response['_links']['results']"
   ]
  },
  {
   "cell_type": "code",
   "execution_count": 14,
   "metadata": {},
   "outputs": [
    {
     "ename": "NameError",
     "evalue": "name 'results' is not defined",
     "output_type": "error",
     "traceback": [
      "\u001b[0;31m---------------------------------------------------------------------------\u001b[0m",
      "\u001b[0;31mNameError\u001b[0m                                 Traceback (most recent call last)",
      "Input \u001b[0;32mIn [14]\u001b[0m, in \u001b[0;36m<cell line: 1>\u001b[0;34m()\u001b[0m\n\u001b[0;32m----> 1\u001b[0m [r[\u001b[38;5;124m'\u001b[39m\u001b[38;5;124mname\u001b[39m\u001b[38;5;124m'\u001b[39m] \u001b[38;5;28;01mfor\u001b[39;00m r \u001b[38;5;129;01min\u001b[39;00m \u001b[43mresults\u001b[49m]\n",
      "\u001b[0;31mNameError\u001b[0m: name 'results' is not defined"
     ]
    }
   ],
   "source": [
    "[r['name'] for r in results]"
   ]
  },
  {
   "cell_type": "code",
   "execution_count": 15,
   "metadata": {},
   "outputs": [
    {
     "ename": "NameError",
     "evalue": "name 'results' is not defined",
     "output_type": "error",
     "traceback": [
      "\u001b[0;31m---------------------------------------------------------------------------\u001b[0m",
      "\u001b[0;31mNameError\u001b[0m                                 Traceback (most recent call last)",
      "Input \u001b[0;32mIn [15]\u001b[0m, in \u001b[0;36m<cell line: 16>\u001b[0;34m()\u001b[0m\n\u001b[1;32m     14\u001b[0m         \u001b[38;5;28;01melse\u001b[39;00m:\n\u001b[1;32m     15\u001b[0m             \u001b[38;5;28mprint\u001b[39m(\u001b[38;5;124m'\u001b[39m\u001b[38;5;132;01m{}\u001b[39;00m\u001b[38;5;124m already exists, skipping \u001b[39m\u001b[38;5;132;01m{}\u001b[39;00m\u001b[38;5;124m'\u001b[39m\u001b[38;5;241m.\u001b[39mformat(path, name))\n\u001b[0;32m---> 16\u001b[0m download_results(\u001b[43mresults\u001b[49m)\n",
      "\u001b[0;31mNameError\u001b[0m: name 'results' is not defined"
     ]
    }
   ],
   "source": [
    "def download_results(results, overwrite=False):\n",
    "    results_urls = [r['location'] for r in results]\n",
    "    results_names = [r['name'] for r in results]\n",
    "    print('{} items to download'.format(len(results_urls)))\n",
    "    \n",
    "    for url, name in zip(results_urls, results_names):\n",
    "        path = pathlib.Path(os.path.join('data', name))\n",
    "        \n",
    "        if overwrite or not path.exists():\n",
    "            print('downloading {} to {}'.format(name, path))\n",
    "            r = requests.get(url, allow_redirects=True)\n",
    "            path.parent.mkdir(parents=True, exist_ok=True)\n",
    "            open(path, 'wb').write(r.content)\n",
    "        else:\n",
    "            print('{} already exists, skipping {}'.format(path, name))\n",
    "download_results(results)"
   ]
  },
  {
   "cell_type": "code",
   "execution_count": null,
   "metadata": {},
   "outputs": [],
   "source": []
  }
 ],
 "metadata": {
  "kernelspec": {
   "display_name": "Python 3 (ipykernel)",
   "language": "python",
   "name": "python3"
  },
  "language_info": {
   "codemirror_mode": {
    "name": "ipython",
    "version": 3
   },
   "file_extension": ".py",
   "mimetype": "text/x-python",
   "name": "python",
   "nbconvert_exporter": "python",
   "pygments_lexer": "ipython3",
   "version": "3.9.12"
  },
  "vscode": {
   "interpreter": {
    "hash": "40d3a090f54c6569ab1632332b64b2c03c39dcf918b08424e98f38b5ae0af88f"
   }
  }
 },
 "nbformat": 4,
 "nbformat_minor": 2
}
