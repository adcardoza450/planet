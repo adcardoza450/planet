{
 "cells": [
  {
   "cell_type": "markdown",
   "metadata": {},
   "source": [
    "# Analysis Ready Data Tutorial Part 2: Use Case 1\n",
    "\n",
    "Time-series analysis (e.g. change detection and trend detection) is a powerful application of satellite imagery. However, a great deal of processing is required to prepare imagery for analysis. Analysis Ready Data (ARD), preprocessed time-series stacks of overhead imagery, allow for time-series analysis without any additional processing of the imagery. See [Analysis Data Defined](https://medium.com/planet-stories/analysis-ready-data-defined-5694f6f48815) for an excellent introduction and discussion on ARD.\n",
    "\n",
    "In [Part 1](ard_1_intro_and_best_practices.ipynb) of this tutorial, we introduced ARD and covered the how and whys of using the Data and Orders APIs to create and interpret ARD.\n",
    "\n",
    "This second part of the tutorial focuses on the first of two use cases. The use case addressed in this tutorial is:\n",
    "\n",
    "* As a software engineer at an ag-tech company, I'd like to be able to order Planet imagery programmatically in a way that enables the data scientist at my organization to create time-series algorithms (e.g. monitoring ndvi curves over time) without further data cleaning and processing.\n",
    "\n",
    "Please see the first part of the tutorial for an introduction to the Data and Orders APIs along with best practices. A lot of functionality developed in that tutorial will be copied here in a compact form.\n",
    "\n",
    "## Introduction\n",
    "\n",
    "Two things are interesting about this use case. First, we are calculating NDVI, and second, we are compositing scenes together. What is NDVI and what is compositing and why do we want to do it?\n",
    "\n",
    "Great questions!\n",
    "\n",
    "First, NDVI stands for normalized difference vegitation index. It is used a **LOT** to find out if vegetation is growing. You can find out more about NDVI at [USGS](https://www.usgs.gov/land-resources/eros/phenology/science/ndvi-foundation-remote-sensing-phenology?qt-science_center_objects=0#qt-science_center_objects) and [Wikipedia](https://en.wikipedia.org/wiki/Normalized_difference_vegetation_index). What we care about here is that NDVI uses the red and near-infrared bands of an image and returns one band with values that range from -1 to 1. So, we expect a single-band image for each order.\n",
    "\n",
    "Compositing is a way to stitch multiple scenes together for maximum coverage. We want this because for a time series, we just want one image for each date and we want that one image to have the most coverage to minimize holes in our data. The composite tool takes in multiple scenes and returns one image. If we feed it scenes from a whole timestack, we still just get one image back! So, to avoid that disaster, we group our scenes by date and only composite the scenes that were collected on the same date.\n",
    "\n",
    "\n",
    "## Implementation\n",
    "\n",
    "The use case we will cover is: *As a software engineer at an ag-tech company, I'd like to be able to order Planet imagery programmatically in a way that enables the data scientist at my organization to create time-series algorithms (e.g. monitoring ndvi curves over time) without further data cleaning and processing.*\n",
    "\n",
    "For this use case, the area of interest and time range are not specified. The need for no further processing indicates we should specify a strict usable pixel data filter. For time-series analysis the daily coverage of PS satellites is ideal. For our time-series analysis, we would like a single image that covers the entire area of interest (AOI). However, it may take multiple scenes to cover the entire AOI. Therefore, we will use the Composite tool to make a composite for each day in the time series analysis. This is a little tricky because the Composite tool just composites all of the scenes associated with the ids ordered. So we need to parse the scene ids we got from the Data API to get scene ids for each day, then submit an order for each day.\n",
    "\n",
    "To summarize, these are the steps:\n",
    "1. [Initialize API client](#Step-1:-Initialize-API-client)\n",
    "1. [Search Data API](#Step-2:-Search-Data-API)\n",
    "1. [Group IDs by Date](#Step-3:-Group-IDs-by-Date)\n",
    "1. [Submit Orders](#Step-4:-Submit-Orders)\n",
    "1. [Download Orders](#Step-5:-Download-Orders)\n",
    "1. [Unzip and Verify Orders](#Step-6:-Unzip-and-Verify-Orders)\n",
    "\n",
    "Note that, due to the processing-intensiveness of visualizing the NDVI images and UDM2s, we will be covering visualization in the next notebook, [Analysis Ready Data Tutorial Part 2: Use Case 1 - Visualization](ard_2_use_case_1_visualize_images.ipynb)\n",
    "\n",
    "#### Import Dependencies"
   ]
  },
  {
   "cell_type": "code",
   "execution_count": 26,
   "metadata": {},
   "outputs": [],
   "source": [
    "import asyncio\n",
    "from copy import copy\n",
    "from datetime import datetime\n",
    "from itertools import chain\n",
    "import json\n",
    "import os\n",
    "from pathlib import Path\n",
    "from pprint import pprint\n",
    "import shutil\n",
    "import time\n",
    "from zipfile import ZipFile\n",
    "\n",
    "import numpy as np\n",
    "from planet import Auth\n",
    "from planet import Session, DataClient, OrdersClient, data_filter\n",
    "from planet.order_request import build_request, product"
   ]
  },
  {
   "cell_type": "code",
   "execution_count": 3,
   "metadata": {
    "scrolled": false
   },
   "outputs": [
    {
     "name": "stdout",
     "output_type": "stream",
     "text": [
      "planet, version 2.0a6\r\n"
     ]
    }
   ],
   "source": [
    "!planet --version"
   ]
  },
  {
   "cell_type": "markdown",
   "metadata": {},
   "source": [
    "#### Step 1: Initialize API client"
   ]
  },
  {
   "cell_type": "code",
   "execution_count": 2,
   "metadata": {},
   "outputs": [],
   "source": [
    "# if your Planet API Key is not set as an environment variable, you can paste it below\n",
    "API_KEY = os.environ.get('PL_API_KEY', 'PASTE_YOUR_KEY_HERE')\n",
    "\n",
    "client = Auth.from_key(API_KEY)"
   ]
  },
  {
   "cell_type": "markdown",
   "metadata": {},
   "source": [
    "#### Step 2: Search Data API\n",
    "\n",
    "The goal of this step is to get the scene ids that meet the search criteria for this use case."
   ]
  },
  {
   "cell_type": "code",
   "execution_count": 4,
   "metadata": {},
   "outputs": [],
   "source": [
    "# define test data for the filter\n",
    "\n",
    "# iowa crops aoi\n",
    "test_aoi_geom = {\n",
    "    \"type\": \"Polygon\",\n",
    "    \"coordinates\": [\n",
    "        [\n",
    "            [-93.299129, 42.699599],\n",
    "            [-93.299674, 42.812757],\n",
    "            [-93.288436, 42.861921],\n",
    "            [-93.265332, 42.924817],\n",
    "            [-92.993873, 42.925124],\n",
    "            [-92.993888, 42.773637],\n",
    "            [-92.998396, 42.754529],\n",
    "            [-93.019154, 42.699988],\n",
    "            [-93.299129, 42.699599]\n",
    "        ]\n",
    "    ]\n",
    "}\n",
    "\n",
    "### Let's search:\n",
    "# for the geometry above\n",
    "# a PSScene image\n",
    "# Date Range: April 1st - May 1st 2019\n",
    "# Clear Percent: 90% or above"
   ]
  },
  {
   "cell_type": "code",
   "execution_count": 5,
   "metadata": {},
   "outputs": [],
   "source": [
    "# create an API Request from the search specifications\n",
    "\n",
    "item_type = ['PSScene']\n",
    "\n",
    "geom_filter = data_filter.geometry_filter(test_aoi_geom)\n",
    "clear_percent_filter = data_filter.range_filter('clear_percent', 90)\n",
    "date_range_filter = data_filter.date_range_filter(\"acquired\", datetime(month=4, day=1, year=2019), datetime(month=5, day=1, year=2019))\n",
    "cloud_cover_filter = data_filter.range_filter('cloud_cover', None, 0.1)\n",
    "\n",
    "combined_filter = data_filter.and_filter([geom_filter, clear_percent_filter, date_range_filter])\n",
    "\n",
    "async with Session() as sess:\n",
    "    cl = DataClient(sess)\n",
    "    request = await cl.create_search(name='temp_search2',search_filter=combined_filter, item_types=item_type)\n"
   ]
  },
  {
   "cell_type": "code",
   "execution_count": 6,
   "metadata": {},
   "outputs": [
    {
     "data": {
      "text/plain": [
       "{'__daily_email_enabled': False,\n",
       " '_links': {'_self': 'https://api.planet.com/data/v1/searches/9275a43d319446aaa284de061e06f96f',\n",
       "  'results': 'https://api.planet.com/data/v1/searches/9275a43d319446aaa284de061e06f96f/results'},\n",
       " 'created': '2023-01-07T04:30:58.363191Z',\n",
       " 'filter': {'config': [{'config': {'coordinates': [[[-93.299129, 42.699599],\n",
       "       [-93.299674, 42.812757],\n",
       "       [-93.288436, 42.861921],\n",
       "       [-93.265332, 42.924817],\n",
       "       [-92.993873, 42.925124],\n",
       "       [-92.993888, 42.773637],\n",
       "       [-92.998396, 42.754529],\n",
       "       [-93.019154, 42.699988],\n",
       "       [-93.299129, 42.699599]]],\n",
       "     'type': 'Polygon'},\n",
       "    'field_name': 'geometry',\n",
       "    'type': 'GeometryFilter'},\n",
       "   {'config': {'gt': 90.0},\n",
       "    'field_name': 'clear_percent',\n",
       "    'type': 'RangeFilter'},\n",
       "   {'config': {'gt': '2019-04-01T00:00:00Z', 'lt': '2019-05-01T00:00:00Z'},\n",
       "    'field_name': 'acquired',\n",
       "    'type': 'DateRangeFilter'}],\n",
       "  'type': 'AndFilter'},\n",
       " 'id': '9275a43d319446aaa284de061e06f96f',\n",
       " 'item_types': ['PSScene'],\n",
       " 'last_executed': None,\n",
       " 'name': 'temp_search2',\n",
       " 'search_type': 'saved',\n",
       " 'updated': '2023-01-07T04:30:58.363191Z'}"
      ]
     },
     "execution_count": 6,
     "metadata": {},
     "output_type": "execute_result"
    }
   ],
   "source": [
    "# Let's look at our search request.\n",
    "# Note: This is just the request's structure, the search hasn't been implemented yet\n",
    "request"
   ]
  },
  {
   "cell_type": "code",
   "execution_count": 9,
   "metadata": {},
   "outputs": [],
   "source": [
    "# Search the Data API\n",
    "async with Session() as sess:\n",
    "    cl = DataClient(sess)\n",
    "    items = await cl.run_search(search_id=request['id'])\n",
    "    item_list = [i async for i in items]"
   ]
  },
  {
   "cell_type": "code",
   "execution_count": 10,
   "metadata": {},
   "outputs": [
    {
     "name": "stdout",
     "output_type": "stream",
     "text": [
      "80\n"
     ]
    }
   ],
   "source": [
    "print(len(item_list))"
   ]
  },
  {
   "cell_type": "markdown",
   "metadata": {},
   "source": [
    "#### Step 3: Group IDs by Date"
   ]
  },
  {
   "cell_type": "code",
   "execution_count": 11,
   "metadata": {
    "scrolled": true
   },
   "outputs": [
    {
     "name": "stdout",
     "output_type": "stream",
     "text": [
      "{'_links': {'_self': 'https://api.planet.com/data/v1/item-types/PSScene/items/20190426_163458_0e3a', 'assets': 'https://api.planet.com/data/v1/item-types/PSScene/items/20190426_163458_0e3a/assets/', 'thumbnail': 'https://tiles.planet.com/data/v1/item-types/PSScene/items/20190426_163458_0e3a/thumb'}, '_permissions': ['assets.basic_analytic_4b:download', 'assets.basic_analytic_4b_rpc:download', 'assets.basic_analytic_4b_xml:download', 'assets.basic_udm2:download', 'assets.ortho_analytic_3b:download', 'assets.ortho_analytic_3b_xml:download', 'assets.ortho_analytic_4b:download', 'assets.ortho_analytic_4b_sr:download', 'assets.ortho_analytic_4b_xml:download', 'assets.ortho_udm2:download', 'assets.ortho_visual:download', 'assets.ps3b_analytic:download', 'assets.ps3b_analytic_dn:download', 'assets.ps3b_analytic_dn_xml:download', 'assets.ps3b_analytic_xml:download', 'assets.ps3b_basic_analytic:download', 'assets.ps3b_basic_analytic_dn:download', 'assets.ps3b_basic_analytic_dn_rpc:download', 'assets.ps3b_basic_analytic_dn_xml:download', 'assets.ps3b_basic_analytic_rpc:download', 'assets.ps3b_basic_analytic_xml:download', 'assets.ps3b_basic_udm:download', 'assets.ps3b_udm:download', 'assets.ps3b_visual_xml:download', 'assets.ps4b_analytic:download', 'assets.ps4b_analytic_dn:download', 'assets.ps4b_analytic_dn_xml:download', 'assets.ps4b_analytic_sr:download', 'assets.ps4b_analytic_xml:download', 'assets.ps4b_basic_analytic:download', 'assets.ps4b_basic_analytic_dn:download', 'assets.ps4b_basic_analytic_dn_nitf:download', 'assets.ps4b_basic_analytic_dn_rpc:download', 'assets.ps4b_basic_analytic_dn_rpc_nitf:download', 'assets.ps4b_basic_analytic_dn_xml:download', 'assets.ps4b_basic_analytic_dn_xml_nitf:download', 'assets.ps4b_basic_analytic_nitf:download', 'assets.ps4b_basic_analytic_rpc:download', 'assets.ps4b_basic_analytic_rpc_nitf:download', 'assets.ps4b_basic_analytic_xml:download', 'assets.ps4b_basic_analytic_xml_nitf:download', 'assets.ps4b_basic_udm:download', 'assets.ps4b_udm:download'], 'assets': ['basic_analytic_4b', 'basic_analytic_4b_rpc', 'basic_analytic_4b_xml', 'basic_udm2', 'ortho_analytic_3b', 'ortho_analytic_3b_xml', 'ortho_analytic_4b', 'ortho_analytic_4b_sr', 'ortho_analytic_4b_xml', 'ortho_udm2', 'ortho_visual', 'ps3b_analytic', 'ps3b_analytic_dn', 'ps3b_analytic_dn_xml', 'ps3b_analytic_xml', 'ps3b_basic_analytic', 'ps3b_basic_analytic_dn', 'ps3b_basic_analytic_dn_rpc', 'ps3b_basic_analytic_dn_xml', 'ps3b_basic_analytic_rpc', 'ps3b_basic_analytic_xml', 'ps3b_basic_udm', 'ps3b_udm', 'ps3b_visual_xml', 'ps4b_analytic', 'ps4b_analytic_dn', 'ps4b_analytic_dn_xml', 'ps4b_analytic_sr', 'ps4b_analytic_xml', 'ps4b_basic_analytic', 'ps4b_basic_analytic_dn', 'ps4b_basic_analytic_dn_nitf', 'ps4b_basic_analytic_dn_rpc', 'ps4b_basic_analytic_dn_rpc_nitf', 'ps4b_basic_analytic_dn_xml', 'ps4b_basic_analytic_dn_xml_nitf', 'ps4b_basic_analytic_nitf', 'ps4b_basic_analytic_rpc', 'ps4b_basic_analytic_rpc_nitf', 'ps4b_basic_analytic_xml', 'ps4b_basic_analytic_xml_nitf', 'ps4b_basic_udm', 'ps4b_udm'], 'geometry': {'coordinates': [[[-93.43937458787262, 42.99173746404502], [-93.46173953873257, 42.91973708027283], [-93.15515299463495, 42.86855218895958], [-93.13295466312405, 42.940673598097845], [-93.43937458787262, 42.99173746404502]]], 'type': 'Polygon'}, 'id': '20190426_163458_0e3a', 'properties': {'acquired': '2019-04-26T16:34:58.516944Z', 'anomalous_pixels': 0, 'clear_confidence_percent': 96, 'clear_percent': 100, 'cloud_cover': 0, 'cloud_percent': 0, 'ground_control': True, 'gsd': 3.9, 'heavy_haze_percent': 0, 'instrument': 'PS2', 'item_type': 'PSScene', 'light_haze_percent': 0, 'pixel_resolution': 3, 'provider': 'planetscope', 'published': '2021-03-04T00:39:01Z', 'publishing_stage': 'finalized', 'quality_category': 'standard', 'satellite_azimuth': 270.6, 'satellite_id': '0e3a', 'shadow_percent': 0, 'snow_ice_percent': 0, 'strip_id': '2314603', 'sun_azimuth': 137.4, 'sun_elevation': 54.1, 'updated': '2021-03-04T00:39:01Z', 'view_angle': 1, 'visible_confidence_percent': 75, 'visible_percent': 100}, 'type': 'Feature'}\n"
     ]
    }
   ],
   "source": [
    "# check out an item just for fun\n",
    "print(item_list[0])"
   ]
  },
  {
   "cell_type": "code",
   "execution_count": 12,
   "metadata": {},
   "outputs": [
    {
     "data": {
      "text/plain": [
       "'2019-04-26'"
      ]
     },
     "execution_count": 12,
     "metadata": {},
     "output_type": "execute_result"
    }
   ],
   "source": [
    "# let's grab this first item in our list and look at the date it was acquired\n",
    "item = item_list[0]\n",
    "acquired_date = item['properties']['acquired'].split('T')[0]\n",
    "acquired_date"
   ]
  },
  {
   "cell_type": "code",
   "execution_count": 13,
   "metadata": {},
   "outputs": [],
   "source": [
    "# We can create a function to get the acquired dates for all of our search results\n",
    "def get_acquired_date(item):\n",
    "    return item['properties']['acquired'].split('T')[0]\n",
    "\n",
    "acquired_dates = [get_acquired_date(item) for item in item_list]"
   ]
  },
  {
   "cell_type": "code",
   "execution_count": 14,
   "metadata": {},
   "outputs": [
    {
     "data": {
      "text/plain": [
       "{'2019-04-02',\n",
       " '2019-04-08',\n",
       " '2019-04-15',\n",
       " '2019-04-19',\n",
       " '2019-04-20',\n",
       " '2019-04-21',\n",
       " '2019-04-23',\n",
       " '2019-04-24',\n",
       " '2019-04-26'}"
      ]
     },
     "execution_count": 14,
     "metadata": {},
     "output_type": "execute_result"
    }
   ],
   "source": [
    "# Let's look at the unique values of Acquired Date for our results\n",
    "unique_acquired_dates = set(acquired_dates)\n",
    "unique_acquired_dates"
   ]
  },
  {
   "cell_type": "code",
   "execution_count": 15,
   "metadata": {
    "scrolled": true
   },
   "outputs": [
    {
     "name": "stdout",
     "output_type": "stream",
     "text": [
      "{'2019-04-02': ['20190402_163633_0e16',\n",
      "                '20190402_163631_0e16',\n",
      "                '20190402_163634_0e16'],\n",
      " '2019-04-08': ['20190408_163738_1025',\n",
      "                '20190408_163736_1025',\n",
      "                '20190408_163735_1025',\n",
      "                '20190408_164038_100e',\n",
      "                '20190408_164036_100e',\n",
      "                '20190408_164037_100e',\n",
      "                '20190408_164035_100e',\n",
      "                '20190408_164034_100e',\n",
      "                '20190408_154008_1020',\n",
      "                '20190408_154005_1020',\n",
      "                '20190408_154006_1020',\n",
      "                '20190408_154004_1020',\n",
      "                '20190408_154007_1020'],\n",
      " '2019-04-15': ['20190415_170304_85_1068', '20190415_170302_79_1068'],\n",
      " '2019-04-19': ['20190419_164002_1035',\n",
      "                '20190419_164003_1035',\n",
      "                '20190419_164000_1035',\n",
      "                '20190419_164001_1035',\n",
      "                '20190419_164004_1035'],\n",
      " '2019-04-20': ['20190420_164137_1002',\n",
      "                '20190420_164136_1002',\n",
      "                '20190420_164135_1002',\n",
      "                '20190420_164134_1002',\n",
      "                '20190420_164133_1002',\n",
      "                '20190420_163148_0e19',\n",
      "                '20190420_163149_0e19',\n",
      "                '20190420_163153_0e19',\n",
      "                '20190420_163150_0e19',\n",
      "                '20190420_163152_0e19'],\n",
      " '2019-04-21': ['20190421_164035_1011',\n",
      "                '20190421_164033_1011',\n",
      "                '20190421_164034_1011',\n",
      "                '20190421_153723_0f46',\n",
      "                '20190421_153725_0f46',\n",
      "                '20190421_153724_0f46'],\n",
      " '2019-04-23': ['20190423_164035_0f15',\n",
      "                '20190423_164036_0f15',\n",
      "                '20190423_164033_0f15',\n",
      "                '20190423_164037_0f15',\n",
      "                '20190423_164034_0f15',\n",
      "                '20190423_164113_0f12',\n",
      "                '20190423_164114_0f12',\n",
      "                '20190423_164115_0f12',\n",
      "                '20190423_164112_0f12',\n",
      "                '20190423_153728_0f36',\n",
      "                '20190423_153729_0f36',\n",
      "                '20190423_153725_0f36',\n",
      "                '20190423_153726_0f36',\n",
      "                '20190423_153727_0f36'],\n",
      " '2019-04-24': ['20190424_163723_0f35',\n",
      "                '20190424_163721_0f35',\n",
      "                '20190424_163724_0f35',\n",
      "                '20190424_163725_0f35',\n",
      "                '20190424_163720_0f35',\n",
      "                '20190424_153652_1020',\n",
      "                '20190424_153651_1020',\n",
      "                '20190424_153650_1020',\n",
      "                '20190424_153649_1020',\n",
      "                '20190424_153648_1020',\n",
      "                '20190424_163409_0e19',\n",
      "                '20190424_163404_0e19',\n",
      "                '20190424_163405_0e19',\n",
      "                '20190424_163408_0e19',\n",
      "                '20190424_163407_0e19'],\n",
      " '2019-04-26': ['20190426_163458_0e3a',\n",
      "                '20190426_163501_0e3a',\n",
      "                '20190426_163500_0e3a',\n",
      "                '20190426_163459_0e3a',\n",
      "                '20190426_170325_31_105c',\n",
      "                '20190426_153655_1054',\n",
      "                '20190426_153657_1054',\n",
      "                '20190426_153656_1054',\n",
      "                '20190426_153658_1054',\n",
      "                '20190426_153656_1_1054',\n",
      "                '20190426_170322_82_105c',\n",
      "                '20190426_170320_32_105c']}\n"
     ]
    }
   ],
   "source": [
    "# We can also list our Image IDs grouped based on Acquired Date\n",
    "\n",
    "def get_date_item_ids(date, all_items):\n",
    "    return [i['id'] for i in all_items if get_acquired_date(i) == date]\n",
    "\n",
    "def get_ids_by_date(items):\n",
    "    acquired_dates = [get_acquired_date(item) for item in items]\n",
    "    unique_acquired_dates = set(acquired_dates)\n",
    "    \n",
    "    ids_by_date = dict((d, get_date_item_ids(d, items))\n",
    "                       for d in unique_acquired_dates)\n",
    "    return ids_by_date\n",
    "    \n",
    "ids_by_date = get_ids_by_date(item_list)\n",
    "pprint(ids_by_date)"
   ]
  },
  {
   "cell_type": "code",
   "execution_count": 16,
   "metadata": {
    "scrolled": true
   },
   "outputs": [
    {
     "data": {
      "text/plain": [
       "['20190423_164035_0f15',\n",
       " '20190423_164036_0f15',\n",
       " '20190423_164033_0f15',\n",
       " '20190423_164037_0f15',\n",
       " '20190423_164034_0f15',\n",
       " '20190423_164113_0f12',\n",
       " '20190423_164114_0f12',\n",
       " '20190423_164115_0f12',\n",
       " '20190423_164112_0f12',\n",
       " '20190423_153728_0f36',\n",
       " '20190423_153729_0f36',\n",
       " '20190423_153725_0f36',\n",
       " '20190423_153726_0f36',\n",
       " '20190423_153727_0f36']"
      ]
     },
     "execution_count": 16,
     "metadata": {},
     "output_type": "execute_result"
    }
   ],
   "source": [
    "ids_by_date[list(unique_acquired_dates)[0]]"
   ]
  },
  {
   "cell_type": "markdown",
   "metadata": {},
   "source": [
    "#### Step 4: Submit Orders\n",
    "\n",
    "Now that we have the scene ids for each collect date, we can create the orders for each date. The output of each order is a single zip file that contains one composited scene and one composited UDM2.\n",
    "\n",
    "For this step we will just use the python api. See part 1 for a demonstration of how to use the CLI.\n",
    "\n",
    "##### Step 4.1: Build Order Toolchain"
   ]
  },
  {
   "cell_type": "code",
   "execution_count": 17,
   "metadata": {},
   "outputs": [],
   "source": [
    "item_type = 'PSScene'\n",
    "bundle = 'analytic_sr_udm2'\n",
    "name = 'tutorial_order2'"
   ]
  },
  {
   "cell_type": "code",
   "execution_count": 18,
   "metadata": {},
   "outputs": [
    {
     "name": "stdout",
     "output_type": "stream",
     "text": [
      "[{'clip': {'aoi': {'coordinates': [[[-93.299129, 42.699599],\n",
      "                                    [-93.299674, 42.812757],\n",
      "                                    [-93.288436, 42.861921],\n",
      "                                    [-93.265332, 42.924817],\n",
      "                                    [-92.993873, 42.925124],\n",
      "                                    [-92.993888, 42.773637],\n",
      "                                    [-92.998396, 42.754529],\n",
      "                                    [-93.019154, 42.699988],\n",
      "                                    [-93.299129, 42.699599]]],\n",
      "                   'type': 'Polygon'}}},\n",
      " {'bandmath': {'b1': '(b4 - b3) / (b4+b3)', 'pixel_type': '32R'}},\n",
      " {'composite': {}}]\n"
     ]
    }
   ],
   "source": [
    "# specify tools\n",
    "\n",
    "# clip to AOI\n",
    "clip_tool = {'clip': {'aoi': test_aoi_geom}}\n",
    "\n",
    "# convert to NDVI\n",
    "bandmath_tool = {'bandmath': {\n",
    "    \"pixel_type\": \"32R\",\n",
    "    \"b1\": \"(b4 - b3) / (b4+b3)\"\n",
    "}}\n",
    "\n",
    "# composite\n",
    "composite_tool = {\n",
    "      \"composite\": {\n",
    "      }\n",
    "}\n",
    "\n",
    "tools = [clip_tool, bandmath_tool, composite_tool]\n",
    "pprint(tools)"
   ]
  },
  {
   "cell_type": "code",
   "execution_count": 34,
   "metadata": {},
   "outputs": [],
   "source": [
    "# Build the order request using the Python SDK's order_request feature\n",
    "# We will put this into a function so we can loop over all of our dates/image_IDs of interest.\n",
    "def build_order_request(ids):\n",
    "    products = [product(ids, bundle, item_type)]\n",
    "    request = build_request('test_order_sdk_method_2', products=products, tools=tools)\n",
    "    return request"
   ]
  },
  {
   "cell_type": "code",
   "execution_count": 35,
   "metadata": {
    "scrolled": true
   },
   "outputs": [
    {
     "name": "stdout",
     "output_type": "stream",
     "text": [
      "[{'name': 'test_order_sdk_method_2', 'products': [{'item_ids': ['20190423_164035_0f15', '20190423_164036_0f15', '20190423_164033_0f15', '20190423_164037_0f15', '20190423_164034_0f15', '20190423_164113_0f12', '20190423_164114_0f12', '20190423_164115_0f12', '20190423_164112_0f12', '20190423_153728_0f36', '20190423_153729_0f36', '20190423_153725_0f36', '20190423_153726_0f36', '20190423_153727_0f36'], 'item_type': 'PSScene', 'product_bundle': 'analytic_sr_udm2'}], 'tools': [{'clip': {'aoi': {'type': 'Polygon', 'coordinates': [[[-93.299129, 42.699599], [-93.299674, 42.812757], [-93.288436, 42.861921], [-93.265332, 42.924817], [-92.993873, 42.925124], [-92.993888, 42.773637], [-92.998396, 42.754529], [-93.019154, 42.699988], [-93.299129, 42.699599]]]}}}, {'bandmath': {'pixel_type': '32R', 'b1': '(b4 - b3) / (b4+b3)'}}, {'composite': {}}]}, {'name': 'test_order_sdk_method_2', 'products': [{'item_ids': ['20190402_163633_0e16', '20190402_163631_0e16', '20190402_163634_0e16'], 'item_type': 'PSScene', 'product_bundle': 'analytic_sr_udm2'}], 'tools': [{'clip': {'aoi': {'type': 'Polygon', 'coordinates': [[[-93.299129, 42.699599], [-93.299674, 42.812757], [-93.288436, 42.861921], [-93.265332, 42.924817], [-92.993873, 42.925124], [-92.993888, 42.773637], [-92.998396, 42.754529], [-93.019154, 42.699988], [-93.299129, 42.699599]]]}}}, {'bandmath': {'pixel_type': '32R', 'b1': '(b4 - b3) / (b4+b3)'}}, {'composite': {}}]}, {'name': 'test_order_sdk_method_2', 'products': [{'item_ids': ['20190424_163723_0f35', '20190424_163721_0f35', '20190424_163724_0f35', '20190424_163725_0f35', '20190424_163720_0f35', '20190424_153652_1020', '20190424_153651_1020', '20190424_153650_1020', '20190424_153649_1020', '20190424_153648_1020', '20190424_163409_0e19', '20190424_163404_0e19', '20190424_163405_0e19', '20190424_163408_0e19', '20190424_163407_0e19'], 'item_type': 'PSScene', 'product_bundle': 'analytic_sr_udm2'}], 'tools': [{'clip': {'aoi': {'type': 'Polygon', 'coordinates': [[[-93.299129, 42.699599], [-93.299674, 42.812757], [-93.288436, 42.861921], [-93.265332, 42.924817], [-92.993873, 42.925124], [-92.993888, 42.773637], [-92.998396, 42.754529], [-93.019154, 42.699988], [-93.299129, 42.699599]]]}}}, {'bandmath': {'pixel_type': '32R', 'b1': '(b4 - b3) / (b4+b3)'}}, {'composite': {}}]}, {'name': 'test_order_sdk_method_2', 'products': [{'item_ids': ['20190420_164137_1002', '20190420_164136_1002', '20190420_164135_1002', '20190420_164134_1002', '20190420_164133_1002', '20190420_163148_0e19', '20190420_163149_0e19', '20190420_163153_0e19', '20190420_163150_0e19', '20190420_163152_0e19'], 'item_type': 'PSScene', 'product_bundle': 'analytic_sr_udm2'}], 'tools': [{'clip': {'aoi': {'type': 'Polygon', 'coordinates': [[[-93.299129, 42.699599], [-93.299674, 42.812757], [-93.288436, 42.861921], [-93.265332, 42.924817], [-92.993873, 42.925124], [-92.993888, 42.773637], [-92.998396, 42.754529], [-93.019154, 42.699988], [-93.299129, 42.699599]]]}}}, {'bandmath': {'pixel_type': '32R', 'b1': '(b4 - b3) / (b4+b3)'}}, {'composite': {}}]}, {'name': 'test_order_sdk_method_2', 'products': [{'item_ids': ['20190408_163738_1025', '20190408_163736_1025', '20190408_163735_1025', '20190408_164038_100e', '20190408_164036_100e', '20190408_164037_100e', '20190408_164035_100e', '20190408_164034_100e', '20190408_154008_1020', '20190408_154005_1020', '20190408_154006_1020', '20190408_154004_1020', '20190408_154007_1020'], 'item_type': 'PSScene', 'product_bundle': 'analytic_sr_udm2'}], 'tools': [{'clip': {'aoi': {'type': 'Polygon', 'coordinates': [[[-93.299129, 42.699599], [-93.299674, 42.812757], [-93.288436, 42.861921], [-93.265332, 42.924817], [-92.993873, 42.925124], [-92.993888, 42.773637], [-92.998396, 42.754529], [-93.019154, 42.699988], [-93.299129, 42.699599]]]}}}, {'bandmath': {'pixel_type': '32R', 'b1': '(b4 - b3) / (b4+b3)'}}, {'composite': {}}]}, {'name': 'test_order_sdk_method_2', 'products': [{'item_ids': ['20190415_170304_85_1068', '20190415_170302_79_1068'], 'item_type': 'PSScene', 'product_bundle': 'analytic_sr_udm2'}], 'tools': [{'clip': {'aoi': {'type': 'Polygon', 'coordinates': [[[-93.299129, 42.699599], [-93.299674, 42.812757], [-93.288436, 42.861921], [-93.265332, 42.924817], [-92.993873, 42.925124], [-92.993888, 42.773637], [-92.998396, 42.754529], [-93.019154, 42.699988], [-93.299129, 42.699599]]]}}}, {'bandmath': {'pixel_type': '32R', 'b1': '(b4 - b3) / (b4+b3)'}}, {'composite': {}}]}, {'name': 'test_order_sdk_method_2', 'products': [{'item_ids': ['20190421_164035_1011', '20190421_164033_1011', '20190421_164034_1011', '20190421_153723_0f46', '20190421_153725_0f46', '20190421_153724_0f46'], 'item_type': 'PSScene', 'product_bundle': 'analytic_sr_udm2'}], 'tools': [{'clip': {'aoi': {'type': 'Polygon', 'coordinates': [[[-93.299129, 42.699599], [-93.299674, 42.812757], [-93.288436, 42.861921], [-93.265332, 42.924817], [-92.993873, 42.925124], [-92.993888, 42.773637], [-92.998396, 42.754529], [-93.019154, 42.699988], [-93.299129, 42.699599]]]}}}, {'bandmath': {'pixel_type': '32R', 'b1': '(b4 - b3) / (b4+b3)'}}, {'composite': {}}]}, {'name': 'test_order_sdk_method_2', 'products': [{'item_ids': ['20190419_164002_1035', '20190419_164003_1035', '20190419_164000_1035', '20190419_164001_1035', '20190419_164004_1035'], 'item_type': 'PSScene', 'product_bundle': 'analytic_sr_udm2'}], 'tools': [{'clip': {'aoi': {'type': 'Polygon', 'coordinates': [[[-93.299129, 42.699599], [-93.299674, 42.812757], [-93.288436, 42.861921], [-93.265332, 42.924817], [-92.993873, 42.925124], [-92.993888, 42.773637], [-92.998396, 42.754529], [-93.019154, 42.699988], [-93.299129, 42.699599]]]}}}, {'bandmath': {'pixel_type': '32R', 'b1': '(b4 - b3) / (b4+b3)'}}, {'composite': {}}]}, {'name': 'test_order_sdk_method_2', 'products': [{'item_ids': ['20190426_163458_0e3a', '20190426_163501_0e3a', '20190426_163500_0e3a', '20190426_163459_0e3a', '20190426_170325_31_105c', '20190426_153655_1054', '20190426_153657_1054', '20190426_153656_1054', '20190426_153658_1054', '20190426_153656_1_1054', '20190426_170322_82_105c', '20190426_170320_32_105c'], 'item_type': 'PSScene', 'product_bundle': 'analytic_sr_udm2'}], 'tools': [{'clip': {'aoi': {'type': 'Polygon', 'coordinates': [[[-93.299129, 42.699599], [-93.299674, 42.812757], [-93.288436, 42.861921], [-93.265332, 42.924817], [-92.993873, 42.925124], [-92.993888, 42.773637], [-92.998396, 42.754529], [-93.019154, 42.699988], [-93.299129, 42.699599]]]}}}, {'bandmath': {'pixel_type': '32R', 'b1': '(b4 - b3) / (b4+b3)'}}, {'composite': {}}]}]\n"
     ]
    }
   ],
   "source": [
    "list_of_order_requests = []\n",
    "\n",
    "for date in list(unique_acquired_dates):\n",
    "    ids = ids_by_date[date]\n",
    "    list_of_order_requests.append(build_order_request(ids))\n",
    "    \n",
    "print(list_of_order_requests)"
   ]
  },
  {
   "cell_type": "markdown",
   "metadata": {},
   "source": [
    "##### Step 4.2: Submit Orders\n",
    "\n",
    "In this section, for the sake of demonstration, we limit our orders to 2. Feel free to increase this limit if you want!"
   ]
  },
  {
   "cell_type": "code",
   "execution_count": 36,
   "metadata": {},
   "outputs": [],
   "source": [
    "order_limit = 2\n",
    "list_orders = []\n",
    "\n",
    "# Place the order\n",
    "for order_request in list_of_order_requests[:order_limit]:\n",
    "    async with Session() as sess:\n",
    "        cl = OrdersClient(sess)\n",
    "        order = await cl.create_order(order_request)\n",
    "    list_orders.append(order)"
   ]
  },
  {
   "cell_type": "code",
   "execution_count": 37,
   "metadata": {},
   "outputs": [
    {
     "data": {
      "text/plain": [
       "[{'_links': {'_self': 'https://api.planet.com/compute/ops/orders/v2/8a459d1a-41fd-42b2-b4c4-993837d14327'},\n",
       "  'created_on': '2023-01-07T04:37:57.000Z',\n",
       "  'error_hints': [],\n",
       "  'id': '8a459d1a-41fd-42b2-b4c4-993837d14327',\n",
       "  'last_message': 'Preparing order',\n",
       "  'last_modified': '2023-01-07T04:37:57.000Z',\n",
       "  'name': 'test_order_sdk_method_2',\n",
       "  'products': [{'item_ids': ['20190423_164035_0f15',\n",
       "     '20190423_164036_0f15',\n",
       "     '20190423_164033_0f15',\n",
       "     '20190423_164037_0f15',\n",
       "     '20190423_164034_0f15',\n",
       "     '20190423_164113_0f12',\n",
       "     '20190423_164114_0f12',\n",
       "     '20190423_164115_0f12',\n",
       "     '20190423_164112_0f12',\n",
       "     '20190423_153728_0f36',\n",
       "     '20190423_153729_0f36',\n",
       "     '20190423_153725_0f36',\n",
       "     '20190423_153726_0f36',\n",
       "     '20190423_153727_0f36'],\n",
       "    'item_type': 'PSScene',\n",
       "    'product_bundle': 'analytic_sr_udm2'}],\n",
       "  'state': 'queued',\n",
       "  'tools': [{'clip': {'aoi': {'coordinates': [[[-93.299129, 42.699599],\n",
       "        [-93.299674, 42.812757],\n",
       "        [-93.288436, 42.861921],\n",
       "        [-93.265332, 42.924817],\n",
       "        [-92.993873, 42.925124],\n",
       "        [-92.993888, 42.773637],\n",
       "        [-92.998396, 42.754529],\n",
       "        [-93.019154, 42.699988],\n",
       "        [-93.299129, 42.699599]]],\n",
       "      'type': 'Polygon'}}},\n",
       "   {'bandmath': {'b1': '(b4 - b3) / (b4+b3)', 'pixel_type': '32R'}},\n",
       "   {'composite': {}}]},\n",
       " {'_links': {'_self': 'https://api.planet.com/compute/ops/orders/v2/1e1b8141-4f14-4a1a-8b6c-2eb0a7ba987c'},\n",
       "  'created_on': '2023-01-07T04:37:57.791Z',\n",
       "  'error_hints': [],\n",
       "  'id': '1e1b8141-4f14-4a1a-8b6c-2eb0a7ba987c',\n",
       "  'last_message': 'Preparing order',\n",
       "  'last_modified': '2023-01-07T04:37:57.791Z',\n",
       "  'name': 'test_order_sdk_method_2',\n",
       "  'products': [{'item_ids': ['20190402_163633_0e16',\n",
       "     '20190402_163631_0e16',\n",
       "     '20190402_163634_0e16'],\n",
       "    'item_type': 'PSScene',\n",
       "    'product_bundle': 'analytic_sr_udm2'}],\n",
       "  'state': 'queued',\n",
       "  'tools': [{'clip': {'aoi': {'coordinates': [[[-93.299129, 42.699599],\n",
       "        [-93.299674, 42.812757],\n",
       "        [-93.288436, 42.861921],\n",
       "        [-93.265332, 42.924817],\n",
       "        [-92.993873, 42.925124],\n",
       "        [-92.993888, 42.773637],\n",
       "        [-92.998396, 42.754529],\n",
       "        [-93.019154, 42.699988],\n",
       "        [-93.299129, 42.699599]]],\n",
       "      'type': 'Polygon'}}},\n",
       "   {'bandmath': {'b1': '(b4 - b3) / (b4+b3)', 'pixel_type': '32R'}},\n",
       "   {'composite': {}}]}]"
      ]
     },
     "execution_count": 37,
     "metadata": {},
     "output_type": "execute_result"
    }
   ],
   "source": [
    "# View the orders info\n",
    "list_orders"
   ]
  },
  {
   "cell_type": "markdown",
   "metadata": {},
   "source": [
    "### Step 5: Download Orders\n",
    "\n",
    "##### Step 5.1: Wait Until Orders are Successful\n",
    "\n",
    "Before we can download the orders, they have to be prepared on the server.\n",
    "\n",
    "##### Step 5.2: Run Download\n",
    "\n",
    "For this step we will use the planet python orders API because we want to be able to download multiple orders at once, something the CLI does not yet support."
   ]
  },
  {
   "cell_type": "code",
   "execution_count": 38,
   "metadata": {},
   "outputs": [
    {
     "name": "stdout",
     "output_type": "stream",
     "text": [
      "['8a459d1a-41fd-42b2-b4c4-993837d14327', '1e1b8141-4f14-4a1a-8b6c-2eb0a7ba987c']\n"
     ]
    }
   ],
   "source": [
    "# Since we have multiple Order IDs, let's get them into a list\n",
    "order_id_list = []\n",
    "\n",
    "for order in list_orders:\n",
    "    order_id = order[\"id\"]\n",
    "    order_id_list.append(order_id)\n",
    "    \n",
    "print(order_id_list)"
   ]
  },
  {
   "cell_type": "code",
   "execution_count": 39,
   "metadata": {},
   "outputs": [],
   "source": [
    "# establish the directory where we want to download the data\n",
    "data_dir = os.path.join('data', 'use_case_1')\n",
    "\n",
    "# make the download directory if it doesn't exist\n",
    "Path(data_dir).mkdir(parents=True, exist_ok=True)"
   ]
  },
  {
   "cell_type": "code",
   "execution_count": null,
   "metadata": {},
   "outputs": [],
   "source": [
    "# First, we will make sure the orders have reached a downloadable state. \n",
    "# Then, we will download the orders.\n",
    "# This may take several minutes.\n",
    "\n",
    "async with Session() as sess:\n",
    "    client = OrdersClient(sess)\n",
    "    await asyncio.gather(\n",
    "        client.wait(order_id_list[0]),\n",
    "        client.wait(order_id_list[1]),\n",
    "        )"
   ]
  },
  {
   "cell_type": "code",
   "execution_count": null,
   "metadata": {},
   "outputs": [],
   "source": [
    "async with Session() as sess:\n",
    "    client = OrdersClient(sess)\n",
    "    await asyncio.gather(\n",
    "        client.download_order(order_id_list[0], data_dir, client),\n",
    "        client.download_order(order_id_list[1], data_dir, client),\n",
    "        )"
   ]
  },
  {
   "cell_type": "code",
   "execution_count": null,
   "metadata": {},
   "outputs": [],
   "source": [
    "# Let's check our downloaded file locations\n",
    "!ls data/use_case_1"
   ]
  },
  {
   "cell_type": "code",
   "execution_count": null,
   "metadata": {},
   "outputs": [],
   "source": [
    "data_dir"
   ]
  },
  {
   "cell_type": "code",
   "execution_count": null,
   "metadata": {},
   "outputs": [],
   "source": [
    "locations = []\n",
    "def get_download_locations(download_dir, order_id_list):\n",
    "    for order_id in order_id_list:\n",
    "        manifest_file = os.path.join(download_dir, order_id, 'manifest.json')\n",
    "        with open(manifest_file, 'r') as src:\n",
    "            manifest = json.load(src)\n",
    "        location = [os.path.join(data_dir, order_id, f['path'])\n",
    "                     for f in manifest['files']]\n",
    "        locations.append(location)\n",
    "    return locations\n",
    "\n",
    "locations = get_download_locations(data_dir, order_id_list)\n",
    "\n",
    "# un-nest our locations object\n",
    "locations = list(chain.from_iterable(locations))\n",
    "\n",
    "pprint(locations)"
   ]
  },
  {
   "cell_type": "markdown",
   "metadata": {
    "collapsed": true
   },
   "source": [
    "#### Step 6: Unzip and Verify Orders\n",
    "\n",
    "In this step we will simply unzip the orders and view one of the ordered composite images.\n",
    "\n",
    "##### 6.1: Unzip Order\n",
    "\n",
    "In this section, we will unzip each order into a directory named after the downloaded zip file."
   ]
  },
  {
   "cell_type": "code",
   "execution_count": null,
   "metadata": {},
   "outputs": [],
   "source": [
    "def unzip(filename):\n",
    "    location = Path(filename)\n",
    "    \n",
    "    zipdir = location.parent / location.stem\n",
    "    with ZipFile(location) as myzip:\n",
    "        myzip.extractall(zipdir)\n",
    "    return zipdir"
   ]
  },
  {
   "cell_type": "code",
   "execution_count": null,
   "metadata": {},
   "outputs": [],
   "source": [
    "def get_unzipped_files(zipdir):\n",
    "    filedir = zipdir / 'files'\n",
    "    filenames = os.listdir(filedir)\n",
    "    return [filedir / f for f in filenames]"
   ]
  },
  {
   "cell_type": "code",
   "execution_count": null,
   "metadata": {},
   "outputs": [],
   "source": [
    "locations"
   ]
  },
  {
   "cell_type": "code",
   "execution_count": null,
   "metadata": {},
   "outputs": [],
   "source": [
    "# Now we can un-zip all our files using the functions we defined above\n",
    "for i in locations:\n",
    "    zipdir = unzip(i)\n",
    "    file_paths = get_unzipped_files(zipdir)\n",
    "    pprint(file_paths)"
   ]
  },
  {
   "cell_type": "markdown",
   "metadata": {},
   "source": [
    "##### 6.2: Verify Orders\n",
    "\n",
    "In this section we will view the orders manually in QGIS. In the next part of this tutorial, we will visualize the NDVI composite image with the UDM. But for now, we just want to make sure we got what we ordered.\n",
    "\n",
    "In the explorer, navigate to the data folder (should be `*/notebooks/analysis-ready-data/data/use_case_1/`). In any of the subfolders (named with the `order_id`), go into `files` and find the file named `composite.tif`). Drag that file into QGIS to visualize."
   ]
  }
 ],
 "metadata": {
  "kernelspec": {
   "display_name": "Python 3 (ipykernel)",
   "language": "python",
   "name": "python3"
  },
  "language_info": {
   "codemirror_mode": {
    "name": "ipython",
    "version": 3
   },
   "file_extension": ".py",
   "mimetype": "text/x-python",
   "name": "python",
   "nbconvert_exporter": "python",
   "pygments_lexer": "ipython3",
   "version": "3.8.13"
  }
 },
 "nbformat": 4,
 "nbformat_minor": 4
}
